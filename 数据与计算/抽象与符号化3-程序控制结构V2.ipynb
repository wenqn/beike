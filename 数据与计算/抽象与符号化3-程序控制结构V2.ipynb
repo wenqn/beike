{
 "cells": [
  {
   "cell_type": "markdown",
   "metadata": {},
   "source": [
    "# 抽象与符号化3-程序控制结构\n",
    "## 引言\n",
    "### 对工作步骤的符号化处理\n",
    "发明计算机是为了替代人们完成复杂、枯燥的工作。我们通过编写程序告诉计算机按照什么样的步骤去解决问题。程序是一个语句序列，执行程序就是按特定的次序执行程序中的语句。由于复杂问题的解法可能涉及复杂的执行次序，因此编程语言必须提供表达复杂控制流程的手段，称为编程语言的控制结构，或程序控制结构。理论和实践证明，无论多复杂的算法均可通过顺序、选择、循环3种基本控制结构构造出来。\n",
    "\n",
    "> 1966年，Böhm和Jacopini在《Communications of the ACM(CACM)》上发表了一篇论文，以流桯图的结构归纳法为基础证明所有的程序都可以由顺序、选择和迭代（循环）这三个结构组成。这一理论被称为结构化程序理论也称为伯姆-贾可皮尼理论或Böhm-Jacopini理论。\n",
    "\n",
    "### python中的程序控制结构\n",
    "#### 顺序结构\n",
    "顺序结构是按照程序的书写顺序从上往下依次逐行执行，反映工作步骤的先后顺序。一般按正常书写顺序从上往下写即可。需要注意的是，有些变量要提前赋值后才能被使用，要提前书写赋值语句。\n",
    "\n",
    "#### 分支结构（选择结构）\n",
    "> 本节参考[菜鸟教程-条件语句](https://www.runoob.com/python/python-if-statement.html)\n",
    "\n",
    "python中用`if`语句来表示选择过程。\n"
   ]
  },
  {
   "cell_type": "markdown",
   "metadata": {},
   "source": [
    "#### 【案例一】一个简单的if语句示例"
   ]
  },
  {
   "cell_type": "code",
   "execution_count": null,
   "metadata": {},
   "outputs": [],
   "source": [
    "# 一个if语句的示例\n",
    "number = 10\n",
    "\n",
    "if number > 0:\n",
    "    print(\"这是个正数\")\n",
    "elif number == 0:\n",
    "    print(\"这个数是零\")\n",
    "else:\n",
    "    print(\"这是个负数\")\n",
    "    "
   ]
  },
  {
   "cell_type": "markdown",
   "metadata": {},
   "source": [
    "上面例子中，首先定义了一个变量number并赋值为10.接着使用if语句判断这个数是正数、零还是负数。\n",
    "\n",
    "根据number的实际值，程序会输出相应的值。上面例子中number被值为10，程序只会输出“这是个正数”\n",
    "\n",
    "`elif` 是`else if`的意思，允许程序在第一个条件不满足的情况下检查第二个条件。它不能单独使用，必须配合`if`语句使用。\n",
    "\n",
    "`else`语句总是出现在最后，但不是必须要有。如果前面的条件都不成立，则执行else块中的代码。同样 `else`也不能单独使用，必须配合`elif`语句或者`if`语句使用。\n"
   ]
  },
  {
   "cell_type": "markdown",
   "metadata": {},
   "source": [
    "#### 【案例二】伪代码表示的复杂一点的示例\n",
    "下面的例子用伪代码表达了一段更复杂的判断，可以尝试分析一下基本逻辑。\n",
    "> 伪代码：用关键字和自然语言混合而成的代码，不能真正执行，只用于分析执行的逻辑。"
   ]
  },
  {
   "cell_type": "markdown",
   "metadata": {},
   "source": [
    "```\n",
    "用伪代码表示的选择结构\n",
    "\n",
    "if 今天发工资：\n",
    "    先还信用卡的钱\n",
    "    if 有余额：\n",
    "        又可以happy了,0(n-n)0哈哈~\n",
    "    else:\n",
    "        奥,no...还得等30天\n",
    "else:\n",
    "    盼着发工资\n",
    "```"
   ]
  },
  {
   "cell_type": "markdown",
   "metadata": {},
   "source": [
    "#### 【想一想】\n",
    "- 上面例子中，在什么条件下执行“盼着发工资”"
   ]
  },
  {
   "cell_type": "markdown",
   "metadata": {},
   "source": [
    "#### 【案例三】一些实际的应用\n",
    "- 在直播打赏中会有如下提示，请用分支结构和伪代码表示下点击确定按钮和取消按钮的执行过程。\n",
    "  - “送出小心心礼物需要支付1钻！确定支付？确定|取消”\n",
    "\n",
    "  - ![直播打赏界面](https://gitlab.com/zhangwenqn/beike/-/blob/main/数据与计算/dashang.jpg)\n",
    "\n",
    " > 变量btsure表示\"确定\"按钮，变量btcancel表示\"取消\"按钮.当按钮被按下时，就将其值设置为‘True’。比如，如果点击了取消按钮，就令变量btcancel的值为‘True’"
   ]
  },
  {
   "cell_type": "code",
   "execution_count": null,
   "metadata": {},
   "outputs": [],
   "source": [
    "# 直播打赏中的确定取消按钮的判断逻辑\n",
    "\n",
    "if btsure == True:\n",
    "    进入支付界面\n",
    "else:\n",
    "    退出提示界面，继续观看"
   ]
  },
  {
   "cell_type": "markdown",
   "metadata": {},
   "source": [
    ">国家并不鼓励未成年人参与网络直播\n",
    ">\n",
    ">国家网信办关于印发《关于加强网络直播规范管理工作的指导意见》的通知\n",
    ">国信办发文〔2021〕3号：\n",
    ">\n",
    ">“网络直播平台应当严禁为未满16周岁的未成年人提供网络主播账号注册服务，为已满16周岁未满18周岁未成年人提供网络主播账号注册服务应当征得监护人同意；应当向未成年人用户提供“青少年模式”，防范未成年人沉迷网络直播，屏蔽不利于未成年人健康成长的网络直播内容，不得向未成年人提供充值打赏服务；建立未成年人专属客服团队，优先受理、及时处置涉未成年人的相关投诉和纠纷，对未成年人冒用成年人账号打赏的，核查属实后须按规定办理退款。”"
   ]
  },
  {
   "cell_type": "markdown",
   "metadata": {},
   "source": [
    "### 【想一想】\n",
    "还有哪些场景中用到选择语句？"
   ]
  },
  {
   "cell_type": "markdown",
   "metadata": {},
   "source": [
    "#### if语句的常见变体形式\n",
    "\n",
    "if语句使用比较灵活，有很多变体形式。注意下面示例中分支结构中的“条件成立”是指“条件”语句的计算结果是布尔值`True`(以及非零的数值,数值“0”代表不成立）。“条件”语句一般是由算数运算符、数学运算符、条件运算符、逻辑运算符等组成的语句。\n",
    "\n",
    "比如 “age>=18”,\"sex=='男'\",\"addr == '北京' or addr == '上海'\"。\n",
    "\n",
    "注意：if、else和elif的行末必须以冒号结束，并严格遵循层级缩进格式。"
   ]
  },
  {
   "cell_type": "code",
   "execution_count": null,
   "metadata": {},
   "outputs": [],
   "source": [
    "# 形式=一：单一分支\n",
    "# 如果条件A成立，那执行步骤B\n",
    "if A :\n",
    "    B\n",
    "\n",
    "# 形式二：两分支\n",
    "#如果条件A成立，那么执行步骤B，否则执行步骤C\n",
    "if A:\n",
    "    B\n",
    "else:\n",
    "    C\n",
    "\n",
    "#形式三：多分支\n",
    "#如果条件A1成立，那么执行步骤B，否则若条件A2成立，执行步骤C，再否则若条件A3成立，则执行步骤D，再否则若条件A4成立，则执行步骤E\n",
    "if A1:\n",
    "    B\n",
    "elif A2:\n",
    "    C\n",
    "elif A3:\n",
    "    D\n",
    "elif A4:\n",
    "    E\n",
    "\n",
    "#形式四：嵌套使用\n",
    "if A1:\n",
    "    if A2:\n",
    "        if A3:\n",
    "            B\n",
    "        else:\n",
    "            C\n",
    "    else:\n",
    "        D\n"
   ]
  },
  {
   "cell_type": "code",
   "execution_count": null,
   "metadata": {},
   "outputs": [],
   "source": [
    "# 单分支示例\n",
    "age = into(input(\"你多大了？\"))\n",
    "if age >= 18:\n",
    "    print(\"你可以进网吧\")  # 当age<18时程序怎么执行？\n",
    "\n",
    "#双分支示例\n",
    "if age >= 18:\n",
    "    print(\"你可以进网吧\")\n",
    "else:\n",
    "    print(\"回家写作业吧\")\n",
    "print(\"这句什么条件执行？\")   #这句什么条件下执行，为什么？"
   ]
  },
  {
   "cell_type": "markdown",
   "metadata": {},
   "source": [
    "##### 【想一想】\n",
    "观察上面if语句的几种形式，回答下面的问题\n",
    "- if语句中`if`、`elif`、`else`三个关键字，哪个必须有，哪个可以没有？\n",
    "- `if`、`elif`、`else`三个关键字，哪个总是最后出现？\n",
    "\n",
    "注意：if和同级的elif，else，以及各自缩进的代码是一个完整的代码块。"
   ]
  },
  {
   "cell_type": "markdown",
   "metadata": {},
   "source": [
    "#### 【练习一】重要的节日\n",
    "##### 需求\n",
    "- 定义 holiday_name 字符串变量记录节日名称\n",
    "- 如果是 清明节 输出 祭祀\n",
    "- 如果是 植树节 输出 植树\n",
    "- 如果是 端午节 输出 划龙舟\n",
    "- 否则，输出 每一天都是开心的一天\n",
    "\n",
    "##### 要求\n",
    "补充代码，添加一个节日，输出相应的习俗"
   ]
  },
  {
   "cell_type": "code",
   "execution_count": null,
   "metadata": {},
   "outputs": [],
   "source": [
    "# 重要的节日\n",
    "holiday_name = input('你最喜欢哪个节日？')\n",
    "\n",
    "if holiday_name == \"清明节\":\n",
    "    print(\"祭祀\")\n",
    "elif holiday_name == \"植树节\":\n",
    "    print(\"植树\")\n",
    "elif holiday_name == \"端午节\":\n",
    "    print(\"划龙舟\")\n",
    "else:\n",
    "    print(\"每一天都是开心的一天！\")"
   ]
  },
  {
   "cell_type": "markdown",
   "metadata": {},
   "source": [
    "\n",
    "#### if语句的执行顺序\n",
    "\n",
    "`if`、 `elif`、`else`类似三个岔路口，具有排他性，即走入其中一个分支，就不再进入其他分支。\n",
    "\n",
    "##### 【练习二】比较并运行下面两段程序，当输入年龄为100岁时，分别会输出什么内容？\n"
   ]
  },
  {
   "cell_type": "code",
   "execution_count": 1,
   "metadata": {},
   "outputs": [],
   "source": [
    "# 多层选择 if-elif-else结构\n",
    "age =  int(input(\"请输入年龄：\"))\n",
    "if age >= 18:\n",
    "    print(\"你已经成年\")\n",
    "elif age >= 60:\n",
    "    print(\"祝您健康\")\n",
    "elif age >= 90:\n",
    "    print(\"祝您长寿\")\n",
    "elif age >= 200:\n",
    "    print(\"何方物种？\")\n",
    "else:\n",
    "    print(\"你未满18周岁\")"
   ]
  },
  {
   "cell_type": "code",
   "execution_count": null,
   "metadata": {},
   "outputs": [],
   "source": [
    "# 多层选择 if-elif-else结构\n",
    "age =  int(input(\"请输入年龄：\"))\n",
    "if age >= 200:\n",
    "    print(\"何方神圣\")\n",
    "elif age >= 90:\n",
    "    print(\"祝您长寿\")\n",
    "elif age >= 60:\n",
    "    print(\"祝您健康\")\n",
    "elif age >= 18:\n",
    "    print(\"你已成年\")\n",
    "else:\n",
    "    print(\"你未满18周岁\")"
   ]
  },
  {
   "cell_type": "markdown",
   "metadata": {},
   "source": [
    "#### if语句表达的思维逻辑\n",
    "if语句表达的是“如果……那么……”的逻辑关系。其中`if`、`elif`、`else`分别对应“如果……”、“再如果……”、“其他情况（一律）……”。\n",
    "\n",
    "|关键字|对应逻辑|\n",
    "|---|---|\n",
    "|if|如果……|\n",
    "|elif|再如果……|\n",
    "|else|其他情况（一律）……| \n"
   ]
  },
  {
   "cell_type": "markdown",
   "metadata": {},
   "source": [
    "\n",
    "\n",
    "你是否有过这样的遗憾，“哎呀，当初怎么没想到”。这说明人们的思维是经常出现漏洞的。if语句是训练思维严谨性的很好的方式。它强迫你尽可能全面的考虑所有可能出现的情况。最后还要用`else`来处理你实在意想不到的情况下如何继续处理。 \n",
    "\n",
    "人们的任何结论都是有前提的，脱离这个前提结论未必正确。比如“三角形内角和等于180度”，前提是在平面几何中成立。如果在黎曼空间里，三角形内角和不再唯一是180度。很多时候为了人们会忽略前提，if语句会强迫人们把所有前提明确出来，从而减少思维上的错误。"
   ]
  },
  {
   "cell_type": "markdown",
   "metadata": {},
   "source": [
    "#### 【微项目1】计算最佳运动心率\n",
    "[计算最佳心率实验单](https://gitlab.com/zhangwenqn/beike/-/blob/main/python%E8%AE%B2%E4%B9%89/%E8%BF%90%E5%8A%A8%E5%BF%83%E5%BE%8B%E5%AE%9E%E9%AA%8C%E5%8D%95.ipynb?ref_type=heads)\n",
    "\n",
    "#### 【微项目2】剪子包袱锤\n",
    "[剪子包袱锤实验单](https://gitlab.com/zhangwenqn/beike/-/blob/main/python%E8%AE%B2%E4%B9%89/%E5%89%AA%E5%AD%90%E5%8C%85%E8%A2%B1%E9%94%A4.ipynb?ref_type=heads)"
   ]
  },
  {
   "cell_type": "markdown",
   "metadata": {},
   "source": [
    "--- "
   ]
  },
  {
   "cell_type": "markdown",
   "metadata": {},
   "source": [
    "\n",
    "\n",
    "#### 循环结构\n",
    "\n",
    "> 本节参考[菜鸟教程-python循环语句](https://www.runoob.com/python/python-loops.html)\n",
    "\n",
    "循环语句允许对同一步骤执行多次，解决重复性的工作。python中的循环语句有for…… 和while……两种形式。习惯简称for循环和while循环。\n"
   ]
  },
  {
   "cell_type": "markdown",
   "metadata": {},
   "source": [
    "下面的例子用print（）语句输出10行`*`，每行比上一行多一个`*`。其中引号里面的`*`是输出的字符符号，不带引号的\\*是乘法运算符， ```\"*\" * 2``` 的作用是将引号中的字符重复2遍，以此类推。"
   ]
  },
  {
   "cell_type": "code",
   "execution_count": null,
   "metadata": {},
   "outputs": [],
   "source": [
    "# 输出10行*，每行比上一行多一个*\n",
    "print(\"*\")\n",
    "print(\"*\" * 2)\n",
    "print(\"*\" * 3)\n",
    "print(\"*\" * 4)\n",
    "print(\"*\" * 5)\n",
    "print(\"*\" * 6)\n",
    "print(\"*\" * 7)\n",
    "print(\"*\" * 8)\n",
    "print(\"*\" * 9)\n",
    "print(\"*\" * 10)"
   ]
  },
  {
   "cell_type": "markdown",
   "metadata": {},
   "source": [
    "用循环语句可以简化上面的程序。下面的程序展示了for循环的写法，其中`in`是`成员运算符`，作用是让变量`i`从列表[1,2,3,4,5,6,7,8,9,10]中依次取出每个成员数字作为`i`的值。当`i`遍历完列表中的所有成员后，循环结束。"
   ]
  },
  {
   "cell_type": "code",
   "execution_count": null,
   "metadata": {},
   "outputs": [],
   "source": [
    "# 用for循环改写上面的例子\n",
    "for i in [1,2,3,4,5,6,7,8,9,10]:\n",
    "    print(\"*\" * i)"
   ]
  },
  {
   "cell_type": "markdown",
   "metadata": {},
   "source": [
    "##### 循环变量与循环次数\n",
    "\n",
    "循环语句中 ，通过循环变量的取值来控制循环执行的次数。"
   ]
  },
  {
   "cell_type": "markdown",
   "metadata": {},
   "source": [
    "\n",
    "\n",
    "##### for循环\n",
    "\n",
    "对于for循环，要特别注意循环次数和循环变量`i`的取值之间的关系（循环变量可以用任意合法变量名，不一定必须是i）。通常情况下，i从一个序列中依次取值（这个序列一般是列表或字符串），i的值取决于该序列中相应位次上的值。但循环的次数取决于序列中的元素个数。比如下面的例子。列表[2,4,6,8,10]中共有5个元素，也即循环次数是5次，每一次循环，i的值分别为2，4，6，8，10 。"
   ]
  },
  {
   "cell_type": "code",
   "execution_count": null,
   "metadata": {},
   "outputs": [],
   "source": [
    "# for循环中 i 取不同序列的值\n",
    "for i in [2,4,6,8,10]:\n",
    "    print(\"*\" * i)\n"
   ]
  },
  {
   "cell_type": "markdown",
   "metadata": {},
   "source": [
    "下面的例子展示了for循环如何遍历一个班级列表并打印出每个班级。"
   ]
  },
  {
   "cell_type": "code",
   "execution_count": null,
   "metadata": {},
   "outputs": [],
   "source": [
    "# 一个for循环的例子\n",
    "for j in [\"1班\"、\"2班\"、\"3班\"、\"4班\"、\"5班\"、\"6班\"、\"7班\"、\"8班\"、\"9班\"]:\n",
    "    print(j)"
   ]
  },
  {
   "cell_type": "markdown",
   "metadata": {},
   "source": [
    "##### while循环\n",
    "\n",
    "下面的例子展示了while循环找出100以内的偶数并打印出来。注意循环变量`k`,在`while`之前要先赋初始值0，`while`内部最后一行` k += 1`，是让变量`k`取下一个数，进入下一轮循环，直到`k <=100` 不成立时循环结束。\n",
    "\n",
    "while与for循环在判断循环次数的方式上有明显不同。while后面的条件语句只要成立（本例中循环条件是 `k <= 100`成立），循环就会一直进行，直到循环条件不满足时停止循环。\n",
    "\n",
    "由于while循环中的循环变量（本例子中是K，也可以是其他任意合法变量名）不会自动取下一个值，一般在while循环体外面，要给循环变量赋一个初始的值，同时在循环体内每执行一次循环，都要执行一句让循环变量取下一个值的一条语句，（下面例子中最后一句`k  += 1`的作用）"
   ]
  },
  {
   "cell_type": "code",
   "execution_count": null,
   "metadata": {},
   "outputs": [],
   "source": [
    "# 一个while循环的例子，打印100以内的偶数\n",
    "k = 0\n",
    "while k <= 100:\n",
    "    if k%2 == 0:\n",
    "        print(k)\n",
    "    k += 1"
   ]
  },
  {
   "cell_type": "markdown",
   "metadata": {},
   "source": [
    "for循环通过循环的次数来控制循环，因此又叫\"计数循环\"，while循环是在某种条件成立时执行循环又叫\"条件循环\"。\n",
    "\n",
    "for和while所在行末尾必须用英文冒号结束，并严格遵循缩进格式，只有缩进的语句才是被循环执行的语句，也叫循环体。"
   ]
  },
  {
   "cell_type": "markdown",
   "metadata": {},
   "source": [
    "#### 【练习一】\n",
    "用for循环语句输出如下图形\n",
    "\n",
    "图形一：\n",
    "\n",
    "```\n",
    "*\n",
    "**\n",
    "***\n",
    "****\n",
    "*****\n",
    "``` \n",
    "图形二(选做)：\n",
    "```\n",
    "    *\n",
    "   **\n",
    " ****\n",
    "*****\n",
    "```"
   ]
  },
  {
   "cell_type": "markdown",
   "metadata": {},
   "source": [
    "#### 【练习二】\n",
    "分别执行下面四段程序，观察输出结果，解释下变量k的输出结果"
   ]
  },
  {
   "cell_type": "code",
   "execution_count": null,
   "metadata": {},
   "outputs": [],
   "source": [
    "# 观察输出结果\n",
    "for i in 'Hello World!':\n",
    "    print(i)\n",
    "\n",
    "# pass是什么也不做，空循环，观察print的输出结果\n",
    "for j in 'Hello World!':\n",
    "    pass  \n",
    "print(j)\n",
    "\n",
    "for k in 'Hello Wrold!':\n",
    "    if k <= 'k':\n",
    "        print(k)\n",
    "\n",
    "for m in [\"hello\",\"world\",\"!\"]:\n",
    "    print(m)"
   ]
  },
  {
   "cell_type": "markdown",
   "metadata": {},
   "source": [
    "\n",
    "#### 循环语句的执行步骤\n",
    "\n",
    "- 1. 循环变量初始化\n",
    "- 2. 判断循环变量是否满足循环条件\n",
    "- 3. 执行循环体语句\n",
    "- 4. 循环变量取下一个值\n",
    "- 5. 重复2-4步，直到循环变量不满足循环条件\n",
    "\n",
    "|步骤|for循环|while循环|\n",
    "|---|---|---|\n",
    "|1.循环变量初始化|for i in [1,2,3]<br>for语句自动将`i`取列表中的第一个元素。|k = 0 在while之前赋值<br> while k <= 100|\n",
    "|2.判断循环变量是否满足循环条件|变量`i`还没有取完列表中的所有元素，即满足循环条件|while后面的表达式值为 `True`即满足循环条件|\n",
    "|3.行循环体语句|执行for语句缩进的代码块|执行while语句缩进的代码块|\n",
    "|4.循环变量取下一个值|for语句自动将循环变量取列表中的下一个值|while语句中要显示写出循环变量自增的语句,比如上面例子中的`k += 1`|\n",
    "|5.重复2-4步，直到循环变量不满足循环条件|取完列表中的而所有元素，循环结束|while后面的表达式值变为`False`时循环结束|\n",
    "\n"
   ]
  },
  {
   "cell_type": "markdown",
   "metadata": {},
   "source": [
    "#### 【案例】计算今后100年以内的闰年，是闰年就输出年份\n",
    "IPO分析\n",
    "- I：输入一个具体年份，作为起始年份\n",
    "- P: 根据闰年规则判断是否是闰年，然后计算下一年，直到超出100年范围\n",
    "- O：输出100年之内的所有闰年年份\n",
    "\n",
    "| 步骤| 过程|语句|\n",
    "|---|---|---|\n",
    "|1|从键盘输入一个数字作为起始年份，保存在变量year中| year = int(input(\"请输入当前年份:\"))|\n",
    "|2|用if语句判断year是否是闰年，是就输出year的值，否则year+=1,计算下一年|if ((year%4==0) and (year%100!=0) or (year%400==0)):<br >　　print(year)<br >else:<br >　　year += 1|\n",
    "|3|用循环语句重复执行步骤2| for i in range(100):<br >　　步骤2|\n"
   ]
  },
  {
   "cell_type": "code",
   "execution_count": null,
   "metadata": {},
   "outputs": [],
   "source": [
    "# 计算今后100年以内的闰年\n",
    "# 把以下代码保存为leapyear.py文件，在idle中运行\n",
    "\n",
    "year = int(input(\"请输入当前年份：\"))\n",
    "for i in range(100):\n",
    "    if ((year%4 == 0) and (year%100 != 0) or (year%400 ==0)):\n",
    "        print(year)\n",
    "    else:\n",
    "        year += 1\n"
   ]
  },
  {
   "cell_type": "markdown",
   "metadata": {},
   "source": [
    "\n",
    "> ##### 【补充】range()的用法\n",
    "- range(n)  的执行结果是生成一个0到n-1的整数序列。序列中整数的个数用于控制循环的次数。 \n",
    "- range(a,b) 生成[a,b-1]的整数序列\n",
    "- range(a,b,c) 在[a,b-1]的整数序列中，每c位整数一组，选每组第一个数组成的序列\n",
    "\n",
    "\n",
    "> 观察以下输出结果\n",
    "- list(range(10))\n",
    "- list(range(5,10))\n",
    "- list(range(1,10,3))\n",
    "\n"
   ]
  },
  {
   "cell_type": "markdown",
   "metadata": {},
   "source": [
    "### 【微项目1】验证抛硬币实验单\n",
    "[验证抛硬币实验](https://gitlab.com/zhangwenqn/beike/-/blob/main/python%E8%AE%B2%E4%B9%89/%E9%AA%8C%E8%AF%81%E6%8A%9B%E7%A1%AC%E5%B8%81%E6%A6%82%E7%8E%87.ipynb)\n",
    "\n",
    "### 【微项目2】打印九九乘法表\n",
    "[打印九九乘法表](https://gitlab.com/zhangwenqn/beike/-/blob/main/python%E8%AE%B2%E4%B9%89/%E4%B9%9D%E4%B9%9D%E4%B9%98%E6%B3%95%E8%A1%A8.ipynb?ref_type=heads)"
   ]
  }
 ],
 "metadata": {
  "kernelspec": {
   "display_name": "Python 3.6.5 ('base')",
   "language": "python",
   "name": "python3"
  },
  "language_info": {
   "codemirror_mode": {
    "name": "ipython",
    "version": 3
   },
   "file_extension": ".py",
   "mimetype": "text/x-python",
   "name": "python",
   "nbconvert_exporter": "python",
   "pygments_lexer": "ipython3",
   "version": "3.6.5"
  },
  "vscode": {
   "interpreter": {
    "hash": "ad2bdc8ecc057115af97d19610ffacc2b4e99fae6737bb82f5d7fb13d2f2c186"
   }
  }
 },
 "nbformat": 4,
 "nbformat_minor": 2
}

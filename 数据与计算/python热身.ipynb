{
 "cells": [
  {
   "cell_type": "markdown",
   "metadata": {},
   "source": [
    "# 1 python 简介"
   ]
  },
  {
   "cell_type": "markdown",
   "metadata": {},
   "source": [
    "Python由荷兰数学和计算机科学研究学会的吉多·范罗苏姆于20世纪90年代初设计。Python的英文意思是蟒蛇，其图标也是各种蟒蛇图案。\n",
    "\n",
    "由于Python语言的简洁性、易读性以及可扩展性，在国外用Python做科学计算的研究机构日益增多，一些知名大学已经采用Python来教授程序设计课程。例如卡耐基梅隆大学的编程基础、麻省理工学院的计算机科学及编程导论就使用Python语言讲授。众多开源的科学计算软件包都提供了Python的调用接口，例如著名的计算机视觉库OpenCV、三维可视化库VTK、医学图像处理库ITK。而Python专用的科学计算扩展库就更多了，例如十分经典的科学计算扩展库：NumPy、SciPy和matplotlib，它们分别为Python提供了快速数组处理、数值运算以及绘图功能。因此Python语言及其众多的扩展库所构成的开发环境十分适合工程技术、科研人员处理实验数据、制作图表，甚至开发科学计算应用程序。\n",
    "\n",
    "以上介绍来自百度百科https://baike.baidu.com/item/Python/407313?fr=aladdin"
   ]
  },
  {
   "cell_type": "markdown",
   "metadata": {},
   "source": [
    "## 1.1 程序输出\n",
    "\n",
    "### 1.1.1 print() 和 Hello World\n",
    "\n",
    "```\n",
    "print(\"Hello Wrold\")\n",
    "```\n",
    "---\n",
    "print()是python的内置函数，作用是把引号里的内容显示出来。括号和引号是语法的一部分，不能省略（python 2 版本中print是不带括号的，但python 3开始括号是必须的）。\n",
    "双引号包围的内容叫做“字符串”，这个例子中你可以随意修改引号里面的内容。\n",
    "\n",
    "<b>所有的标点符号，都应该用英文输入法输入。</b>"
   ]
  },
  {
   "cell_type": "code",
   "execution_count": null,
   "metadata": {},
   "outputs": [
    {
     "name": "stdout",
     "output_type": "stream",
     "text": [
      "Hello World!\n"
     ]
    }
   ],
   "source": [
    "# 按下 Ctrl + 回车键，将看到运行结果。\n",
    "print(\"Hello World!\")"
   ]
  },
  {
   "cell_type": "markdown",
   "metadata": {},
   "source": [
    "## 1.2 程序输入\n",
    "\n",
    "`input()`函数会等待你从键盘中输入一些内容。\n",
    "\n",
    "运行下面的代码，你会看到`请输入姓名：`一句会显示出来，这是输入前的提示信息，随后程序会一直等待，直到你输入一些内容。第二句会把你输入的内容显示出来。\n",
    "```\n",
    "myname = input(\"请输入姓名：\")\n",
    "print(\"Hello,myname)\n",
    "```\n"
   ]
  },
  {
   "cell_type": "markdown",
   "metadata": {},
   "source": [
    "## 1.3 注释\n",
    "给程序添加注释是良好的编成习惯,注释可以让别人更容易看懂你的代码,更重要的是自己将来回头看自己的代码时不致于发懵。千万不要高估自己的记忆力。\n",
    "python中支持单行注释和多行注释。\n",
    "- 单行注释`#`后面的内容为注释，程序运行时不会执行`#`之后的内容。`#`不可跨行，每一行注释都要用`#`开头。  \n",
    "- 多行注释 一般用三个引号表示，可以跨越多行"
   ]
  },
  {
   "cell_type": "markdown",
   "metadata": {},
   "source": [
    "## 1.4 关于缩进\n",
    "\n",
    "缩进是python标志性的语法特征，这在众多编程语言中显得个性鲜明。缩进带来的最大特点是代码层次清楚，便于人的识读。缩进通过“空格”来完成，但不要使用`tab`键来产生空格。`tab`键在不同平台中产生的空格数量并不一致，程序在平台之间迁移时会出问题。\n",
    "\n",
    "python中并没有强制规定使用多少个空格，但强制要求在每一层级上要保持相同数量的空格，要么都是4个空格，要么都是6个空格或其他数量的空格。一般而言，1-2个空格太少，缩进不明显。6个8个空格显得太多，缩进层次多了以后会很快把代码推到屏幕右边。\n",
    "\n",
    "**所以保持4个空格的缩进是最好的选择，也是python开发者所提倡的** 。"
   ]
  },
  {
   "cell_type": "markdown",
   "metadata": {},
   "source": [
    "## 1.5 关于输入法\n",
    "### 除了必要的汉字，一律用英法输入法，特别注意各类标点符号一律用英文输入法\n",
    "### 常出错的几个标点符号\n",
    "  - 引号 “”  与 \"\"\n",
    "  - 冒号  ： 与 :\n",
    "  - 小括号  （） 与 ()"
   ]
  },
  {
   "cell_type": "code",
   "execution_count": null,
   "metadata": {},
   "outputs": [],
   "source": [
    "# 注意输入法\n",
    "str1 = “这是一个字符串”  # 中文引号，错误\n",
    "str2 = \"这是一个字符串\"\n",
    "print(str2)\n",
    "print（str2） # 中文括号，错误"
   ]
  },
  {
   "cell_type": "code",
   "execution_count": null,
   "metadata": {},
   "outputs": [],
   "source": [
    "if True:\n",
    "    print (\"Answer\")\n",
    "    print (\"True\")\n",
    "else:\n",
    "    print (\"Answer\")\n",
    "  print (\"False\")    # 缩进不一致，会导致运行错误"
   ]
  },
  {
   "cell_type": "code",
   "execution_count": null,
   "metadata": {},
   "outputs": [],
   "source": [
    "#这是单行注释\n",
    "#验证密码\n",
    "n = input(\"输入密码\")  #这是单行注释\n",
    "if n == \"slien34lkj5\":\n",
    "    print(\"ok\")\n",
    "\"\"\"\n",
    "三个引号包围的内容\n",
    "为多行注释，\n",
    "         可以跨行，并保持文本格式不变\n",
    "\"\"\"\n",
    "\n",
    "'''\n",
    "========================\n",
    "==三个单引号也是可以的==\n",
    "==  ****   ***  ****  ==\n",
    "========================\n",
    "'''"
   ]
  },
  {
   "cell_type": "code",
   "execution_count": null,
   "metadata": {},
   "outputs": [
    {
     "name": "stdout",
     "output_type": "stream",
     "text": [
      "请输入姓名：yanni\n",
      "Hello yanni\n"
     ]
    }
   ],
   "source": [
    "# 按下Ctrl + 回车键运行\n",
    "myname = input(\"请输入姓名：\")\n",
    "print(\"Hello\",myname)"
   ]
  },
  {
   "cell_type": "markdown",
   "metadata": {},
   "source": [
    "## 1.6 IPO模型\n",
    "\n",
    "任何程序可以简单分成I、P、O三部分来理解。\n",
    "\n",
    "- I ：input，指程序输入\n",
    "- P ：process,指程序的处理过程\n",
    "- O : out, 指程序输出\n",
    "\n",
    "input()函数实现程序的输入，print()函数实现程序的输出，程序的处理过程要根据所实现的功能和采用的算法不同而不同。"
   ]
  },
  {
   "cell_type": "markdown",
   "metadata": {},
   "source": [
    "### 1.6.1 进制转换小程序\n",
    "将一个十进制整数转换成二进制\n",
    "\n",
    "IPO | IPO分析 | 程序语句\n",
    ":---:|:---:|:---:\n",
    "I（input）| 输入一个十进制整数  | int(input(\"请输入一个十进制整数：\"))  \n",
    "P（process）| 十进制转换为二进制 | bin()\n",
    "O（out）| 输出转换的二进制 | print(\"二进制为：\",binary)"
   ]
  },
  {
   "cell_type": "code",
   "execution_count": null,
   "metadata": {},
   "outputs": [
    {
     "name": "stdout",
     "output_type": "stream",
     "text": [
      "请输入一个十进制整数:100\n",
      "二进制为 0b1100100\n"
     ]
    }
   ],
   "source": [
    "# 十进制转二进制数\n",
    "ten = int(input(\"请输入一个十进制整数:\"))\n",
    "binary = bin(ten)  \n",
    "print(\"二进制为\",binary)      # binary为变量，输出变量不需要加引号"
   ]
  },
  {
   "cell_type": "markdown",
   "metadata": {},
   "source": [
    "上例中输出结果最左端的`0b`代表二进制，后面才是实际二进制值。\n",
    "\n",
    "其他进制转换函数，注意必须输入十进制整数。\n",
    "- `int(num,R)`将R进制数转换为十进制。num为字符串型，R取2为二进制，8为八进制，省略R默认转换为十进制。\n",
    "- `bin()`十进制转二进制\n",
    "- `oct()`十进制转八进制\n",
    "- `hex()`十进制转十六进制"
   ]
  },
  {
   "cell_type": "markdown",
   "metadata": {},
   "source": [
    "### 1.6.2 int类型转换小练习\n",
    "\n",
    "上例中语句`input(\"请输入一个十进制整数：\")`被包在另一个`int()`函数中，`int()`函数的作用是把参数转换为整数类型。也就是说通过input()输入的数字并不是真正的数字，而是长得像数字的字符，需要用`int()`来转换。\n",
    "\n",
    "\n",
    "`int()`还可以将小数转换为整数。是四舍五入呢，还是向下取整？自己试一试。\n",
    "```\n",
    "    # 第一组\n",
    "    >>>n = print(\"请输入一个数：\")\n",
    "    >>>n-5\n",
    "    # 第二组\n",
    "    >>>n = int(print(\"请输入一个数：\"))\n",
    "    >>>n-5\n",
    "    #第三组\n",
    "    >>>n = int(3.4)\n",
    "    >>>n\n",
    "    #第四组\n",
    "    >>>n = int(3.6)\n",
    "    >>>n\n",
    "    #第五组\n",
    "    >>>n = int(3.5)\n",
    "    >>>n\n",
    "    #第六组\n",
    "    >>>int('11011010',2)\n",
    "```"
   ]
  },
  {
   "cell_type": "markdown",
   "metadata": {},
   "source": [
    "### 1.6.3 round()函数\n",
    "round()函数通过四舍五入的方式取整。python的四舍五入有点特殊，当小数位正好是`.5`的时候，采取了一种叫“奇进偶退”的办法进行四舍五入，从统计角度，这种方式可以让“舍”与“入”更平衡。\n",
    "\n",
    "```\n",
    ">>> round(3.4)\n",
    "3\n",
    ">>> round(3.5)\n",
    "4\n",
    ">>> round(4.5)\n",
    "4\n",
    ">>> round(4.6)\n",
    "```"
   ]
  },
  {
   "cell_type": "code",
   "execution_count": null,
   "metadata": {},
   "outputs": [],
   "source": [
    "# 分组测试int()和round()函数\n"
   ]
  }
 ],
 "metadata": {
  "language_info": {
   "name": "python"
  }
 },
 "nbformat": 4,
 "nbformat_minor": 2
}

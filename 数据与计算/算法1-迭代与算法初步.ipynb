{
 "cells": [
  {
   "cell_type": "markdown",
   "metadata": {},
   "source": [
    "## 算法1-迭代与算法初步\n",
    "\n",
    "算法是指做事的步骤和方法，我们做任何事情都用一个步骤和方法。有的方法简单，有的复杂。程序中的算法具体指解决特定问题的有序的指令和步骤。在程序设计中算法的使用范围非常广泛。从搜索引擎到社交媒体，从游戏到金融市场，算法几乎无处不在。所有这些应用程序都依赖于各种不同的算法，以便实现其功能。如用随机森林算法来进行头部姿势的估计，用遗传算法来解决弹药装载问题，使用信息加密算法进行网络传输，使用并行算法进行数据挖掘，用协同过滤算法在个性化推荐中的应用，以及用神经网络算法进行大数据AI应用等。\n",
    "\n",
    "程序中的算法比日常生活中的算法有更严格的限制。算法的每一步必须清晰且确定，不能有歧义（确定性），而且必须在有限的步骤内计算出结果（有穷性）。\n",
    "\n",
    "迭代是一种广泛应用的算法思想，前面学习的循环语句就是一种典型的迭代思想的应用。迭代是指在一系列重复的操作中，把上一步的计算结果作为下一步的计算要素代入到下一步的计算中，每次迭代都实施相同的计算操作，依次重复直至计算出最终结果。\n",
    "\n",
    "\n"
   ]
  },
  {
   "cell_type": "markdown",
   "metadata": {},
   "source": [
    "### 【案例】分苹果\n",
    "给n个人分苹果，要求每个人分到的苹果数量各不相同，问至少需要多少个苹果？\n",
    "\n",
    "#### 分析\n",
    "通过数学上的分析，每个人分到的苹果数量按从小到大排序是个等差为1的等差数列\n",
    "- I：输入正整数n\n",
    "- P：计算等差数列1，2，3，……，n的前n项和\n",
    "- O:输出前n项和\n",
    "\n",
    "前n项和的计算有两种算法\n",
    "#### 算法1：用前n项和公式计算\n",
    "这种算法是在已知数学公式的前提下求解，把一个现实问题转换为数学问题求解。这个公式就是解决这个问题的数学模型，这个过程就是数学建模的过程。\n",
    "\n",
    "能找到合适的数学模型是件幸运的事情，也是执行效率比较高的算法。在设计算法时，应优先考虑该问题的数学模型。\n"
   ]
  },
  {
   "cell_type": "code",
   "execution_count": null,
   "metadata": {},
   "outputs": [],
   "source": [
    "# 用前n项和公式计算\n",
    "n = int(input(\"请输入人数n:\"))\n",
    "s = n*(n+1) / 2\n",
    "print(s)\n"
   ]
  },
  {
   "cell_type": "markdown",
   "metadata": {},
   "source": [
    "#### 算法2：用迭代方式计算\n",
    "很多时候，由于问题复杂，没有现成的公式可利用，就要考虑利用计算机的特点来设计算法。迭代就是一种典型的计算机工作方式。"
   ]
  },
  {
   "cell_type": "code",
   "execution_count": null,
   "metadata": {},
   "outputs": [],
   "source": [
    "# 用迭代的方式计算前n项和\n",
    "n = int(input(\"请输入人数n:\"))\n",
    "\n",
    "s = 0  #保存迭代结果，初始值为0\n",
    "for i in range(n+1):\n",
    "    s += i\n",
    "print(s)"
   ]
  },
  {
   "cell_type": "markdown",
   "metadata": {},
   "source": [
    "上面代码中，range(n+1) 生成一个0，1，2，3，……，n的等差数列。利用for循环，依次将每一项累加起来。\n",
    "\n",
    "变量 `i`表示当前项的值。每一次累加的中间结果保存在变量 `s`中。`s += i`的等价形式是`s = s + i`。等号右边的变量`s`既是上一次循环的的计算结果，又是当前循环的计算数据。等号左边的变量`s`既是当前循环的计算结果，又是下一次循环的计算数据，这就是迭代的含义。"
   ]
  },
  {
   "cell_type": "markdown",
   "metadata": {},
   "source": [
    "### 【练习一】编程计算n的阶乘\n",
    "由于阶乘的计算量比较大，请不要将n的值设定过大。如果n的值过大，计算结果会超出python规定的数据范围，比如50的阶乘有65位，5000的阶乘有16326位。这类大数阶乘是个有趣的研究课题。下面的算法并不适合大数阶乘的计算。"
   ]
  },
  {
   "cell_type": "code",
   "execution_count": 1,
   "metadata": {},
   "outputs": [],
   "source": [
    "# 计算n的阶乘\n",
    "n = int(input(\"请输入n的值\"))\n",
    "s = 1  \n",
    "for i in range(1,n+1):\n",
    "    s *= i\n",
    "print(s)"
   ]
  },
  {
   "cell_type": "markdown",
   "metadata": {},
   "source": [
    "##### 【想一想】\n",
    "上例中，迭代变量`s`的初始值为什么是1，而不是0？\n",
    "\n",
    "range(1,n+1)为什么从1开始，而不是默认的0开始？考虑下0！和1！的值。\n"
   ]
  },
  {
   "cell_type": "markdown",
   "metadata": {},
   "source": [
    "### 【练习二】兔子繁殖\n",
    "有一对兔子，从出生后第三个月起每个月都生一对兔子，小兔子长到第三个月后每一个月又生一对兔子，假如兔子都不死，问每个月的兔子总数为多少。\n",
    "\n",
    "#### 分析\n",
    "列举前几个月的兔子数量，可以观察到一个规律，当前月数量 =上个月兔子数量+上上个月兔子的数量。每个月兔子的数量是一个斐波那契数列。其通项公式为 F(n) = F(n-1) + F(n-2)。我们用三个迭代变量,third,second，first分别表示F(n),F(n-1)和F(n-2),其关系如下\n",
    "\n",
    "third = second + first\n",
    "\n",
    "> 兔子问题最早由斐波那契研究研究引入，斐波那契数列有时也被称为“兔子数列”。"
   ]
  },
  {
   "cell_type": "code",
   "execution_count": null,
   "metadata": {},
   "outputs": [],
   "source": [
    "# 求解斐波那契数列\n",
    "n = int(input(\"请输入月份数：\"))\n",
    "while n < 3:\n",
    "    n = int(input(\"请重新输入月份数（最小是3）：\"))\n",
    "\n",
    "first = second = 1   # 初始化最初第1个月，第2个月兔子数量\n",
    "\n",
    "for i in range(3,n+1):\n",
    "    third = second + first\n",
    "    first = second    # 开始迭代赋值\n",
    "    second = third\n",
    "print(third)"
   ]
  },
  {
   "cell_type": "markdown",
   "metadata": {},
   "source": [
    "##### 【想一想】\n",
    "```\n",
    "first = second\n",
    "second = third\n",
    "```\n",
    "\n",
    "这两句赋值语句的顺序是否可以改变"
   ]
  }
 ],
 "metadata": {
  "kernelspec": {
   "display_name": "base",
   "language": "python",
   "name": "python3"
  },
  "language_info": {
   "codemirror_mode": {
    "name": "ipython",
    "version": 3
   },
   "file_extension": ".py",
   "mimetype": "text/x-python",
   "name": "python",
   "nbconvert_exporter": "python",
   "pygments_lexer": "ipython3",
   "version": "3.9.13"
  }
 },
 "nbformat": 4,
 "nbformat_minor": 2
}

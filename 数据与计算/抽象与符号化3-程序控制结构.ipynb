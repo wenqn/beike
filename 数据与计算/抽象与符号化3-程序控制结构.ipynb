{
 "cells": [
  {
   "cell_type": "markdown",
   "metadata": {},
   "source": [
    "# 抽象与符号化3-程序控制结构\n",
    "## 引言\n",
    "### 对工作步骤的符号化处理\n",
    "发明计算机是为了替代人们完成复杂、枯燥的工作。我们通过编写程序告诉计算机按照什么样的步骤去解决问题。程序是一个语句序列，执行程序就是按特定的次序执行程序中的语句。由于复杂问题的解法可能涉及复杂的执行次序，因此编程语言必须提供表达复杂控制流程的手段，称为编程语言的控制结构，或程序控制结构。理论和实践证明，无论多复杂的算法均可通过顺序、选择、循环3种基本控制结构构造出来。\n",
    "\n",
    "> 1966年，Böhm和Jacopini在《Communications of the ACM(CACM)》上发表了一篇论文，以流桯图的结构归纳法为基础证明所有的程序都可以由顺序、选择和迭代（循环）这三个结构组成。这一理论被称为结构化程序理论也称为伯姆-贾可皮尼理论或Böhm-Jacopini理论。\n",
    "\n",
    "### python中的程序控制结构\n",
    "#### 顺序结构\n",
    "顺序结构是按照程序的书写顺序从上往下依次逐行执行，反映工作步骤的先后顺序。一般按正常书写顺序从上往下写即可。需要注意的是，有些变量要提前赋值后才能被使用，要提前书写赋值语句。\n",
    "\n",
    "#### 分支结构（选择结构）\n",
    "> 本节参考[菜鸟教程-条件语句](https://www.runoob.com/python/python-if-statement.html)\n",
    "\n",
    "python中用`if`语句来表示选择过程。常见形式 `if……else……`\n"
   ]
  },
  {
   "cell_type": "markdown",
   "metadata": {},
   "source": [
    "#### 【案例】\n",
    "- 在直播打赏中会有如下提示，请用分支结构和伪代码表示下点击确定按钮和取消按钮的执行过程。\n",
    "  - “送出小心心礼物需要支付1钻！确定支付？确定|取消”\n",
    "\n",
    "  - ![直播打赏界面](https://gitlab.com/zhangwenqn/beike/-/blob/main/数据与计算/dashang.jpg)\n",
    "\n",
    " > 变量btsure表示\"确定\"按钮，变量btcancel表示\"取消\"按钮.当按钮被按下时，就将其值设置为‘True’。比如，如果点击了取消按钮，就令变量btcancel的值为‘True’"
   ]
  },
  {
   "cell_type": "code",
   "execution_count": null,
   "metadata": {},
   "outputs": [],
   "source": [
    "# 直播打赏中的确定取消按钮的判断逻辑\n",
    "\n",
    "if btsure == True:\n",
    "    进入支付界面\n",
    "else:\n",
    "    退出提示界面，继续观看\n",
    "    "
   ]
  },
  {
   "cell_type": "markdown",
   "metadata": {},
   "source": [
    "实际情况要复杂的多。"
   ]
  },
  {
   "cell_type": "code",
   "execution_count": null,
   "metadata": {},
   "outputs": [],
   "source": [
    "# 直播打赏中的确定取消按钮的判断逻辑2\n",
    "\n",
    "if btsure == True:\n",
    "    if 未登录：\n",
    "        弹出登录界面\n",
    "    else:\n",
    "        if 余额不足：\n",
    "            提示充值\n",
    "            if 微信：\n",
    "                调用微信接口\n",
    "            elif 支付宝:\n",
    "                调用支付宝\n",
    "            elif 抖音：\n",
    "                调用抖音\n",
    "            elif 关闭按钮：\n",
    "                关闭充值界面 m\n",
    "\n",
    "        else:\n",
    "            选择打赏额度\n",
    "            if 10 钻:\n",
    "                主播账户 += 10 钻\n",
    "                用户账户 -= 10 钻\n",
    "            ……\n",
    "else:\n",
    "    退出提示界面，继续观看\n",
    "    "
   ]
  },
  {
   "cell_type": "markdown",
   "metadata": {},
   "source": [
    "> 直播平台对未成年人保护条文：\n",
    ">\n",
    ">国家网信办关于印发《关于加强网络直播规范管理工作的指导意见》的通知\n",
    ">国信办发文〔2021〕3号：\n",
    ">\n",
    ">“网络直播平台应当严禁为未满16周岁的未成年人提供网络主播账号注册服务，为已满16周岁未满18周岁未成年人提供网络主播账号注册服务应当征得监护人同意；应当向未成年人用户提供“青少年模式”，防范未成年人沉迷网络直播，屏蔽不利于未成年人健康成长的网络直播内容，不得向未成年人提供充值打赏服务；建立未成年人专属客服团队，优先受理、及时处置涉未成年人的相关投诉和纠纷，对未成年人冒用成年人账号打赏的，核查属实后须按规定办理退款。”"
   ]
  },
  {
   "cell_type": "markdown",
   "metadata": {},
   "source": [
    "#### if语句的常见变体形式\n",
    "\n",
    "if语句有很多变体形式。注意分支结构中的“条件成立”是指“条件”语句的计算结果是布尔值`True`(以及非零的数值,数值“0”代表不成立）。“条件”语句一般是由算数运算符、数学运算符、条件运算符、逻辑运算符等组成的语句。\n",
    "\n",
    "比如 “age>=18”,\"sex=='男'\",\"addr == '北京' or addr == '上海'\"。\n",
    "\n",
    "注意：if、else和elif的行末必须以冒号结束，并严格遵循层级缩进格式。"
   ]
  },
  {
   "cell_type": "code",
   "execution_count": null,
   "metadata": {},
   "outputs": [],
   "source": [
    "# 形式=一：单一分支\n",
    "# 如果条件A成立，那执行步骤B\n",
    "if A :\n",
    "    B\n",
    "\n",
    "# 形式二：两分支\n",
    "#如果条件A成立，那么执行步骤B，否则执行步骤C\n",
    "if A:\n",
    "    B\n",
    "else:\n",
    "    C\n",
    "\n",
    "#形式三：多分支\n",
    "#如果条件A1成立，那么执行步骤B，否则若条件A2成立，执行步骤C，再否则若条件A3成立，则执行步骤D，再否则若条件A4成立，则执行步骤E\n",
    "if A1:\n",
    "    B\n",
    "elif A2:\n",
    "    C\n",
    "elif A3:\n",
    "    D\n",
    "elif A4:\n",
    "    E\n",
    "\n",
    "#形式四：嵌套使用\n",
    "if A1:\n",
    "    if A2:\n",
    "        if A3:\n",
    "            B\n",
    "        else:\n",
    "            C\n",
    "    else:\n",
    "        D\n"
   ]
  },
  {
   "cell_type": "markdown",
   "metadata": {},
   "source": [
    "##### 【想一想】\n",
    "观察上面if语句的四种形式，回答下面的问题\n",
    "- if语句中`if`、`elif`、`else`三个关键字，哪个必须有，哪个可以没有？\n",
    "- `if`、`elif`、`else`三个关键字，哪个总是最后出现？"
   ]
  },
  {
   "cell_type": "markdown",
   "metadata": {},
   "source": [
    "#### if语句的思维逻辑\n",
    "if语句表达的是“如果……那么……”的逻辑关系。其中`if`、`elif`、`else`分别对应“如果……”、“否则，如果……”、“否则……”。\n",
    "\n",
    "|关键字|对应逻辑|\n",
    "|---|---|\n",
    "|if|如果……|\n",
    "|elif|否则，如果……|\n",
    "|else|否则……| \n",
    "\n",
    "#### if语句的执行顺序\n",
    "\n",
    "`if`、 `elif`、`else`类似三个岔路口，具有排他性，即走入其中一个分支，就不再进入其他分支。\n",
    "\n",
    "比较并运行下面两段程序，当输入年龄为100岁时，分别会输出什么内容？\n"
   ]
  },
  {
   "cell_type": "code",
   "execution_count": 1,
   "metadata": {},
   "outputs": [],
   "source": [
    "# 多层选择 if-elif-else结构\n",
    "age =  int(input(\"请输入年龄：\"))\n",
    "if age >= 18:\n",
    "    print(\"你已经成年\")\n",
    "elif age >= 60:\n",
    "    print(\"祝您健康\")\n",
    "elif age >= 90:\n",
    "    print(\"祝您长寿\")\n",
    "elif age >= 200:\n",
    "    print(\"何方物种？\")\n",
    "else:\n",
    "    print(\"你未满18周岁\")"
   ]
  },
  {
   "cell_type": "code",
   "execution_count": null,
   "metadata": {},
   "outputs": [],
   "source": [
    "# 多层选择 if-elif-else结构\n",
    "age =  int(input(\"请输入年龄：\"))\n",
    "if age >= 200:\n",
    "    print(\"何方神圣\")\n",
    "elif age >= 90:\n",
    "    print(\"祝您长寿\")\n",
    "elif age >= 60:\n",
    "    print(\"祝您健康\")\n",
    "elif age >= 18:\n",
    "    print(\"你已成年\")\n",
    "else:\n",
    "    print(\"你未满18周岁\")"
   ]
  },
  {
   "cell_type": "markdown",
   "metadata": {},
   "source": [
    "\n",
    "\n",
    "你是否有过这样的遗憾，“哎呀，当初怎么没想到”。这说明人们的思维是经常出现漏洞的。if语句是训练思维严谨性的很好的方式。它强迫你尽可能全面的考虑所有可能出现的情况。最后还要用`else`来处理你实在意想不到的情况下如何继续处理。 \n",
    "\n",
    "人们的任何结论都是有前提的，脱离这个前提结论未必正确。比如“三角形内角和等于180度”，前提是在平面几何中成立。如果在黎曼空间里，三角形内角和不再唯一是180度。很多时候为了人们会忽略前提，if语句会强迫人们把所有前提明确出来，从而减少思维上的错误。"
   ]
  },
  {
   "cell_type": "markdown",
   "metadata": {},
   "source": [
    "#### 【微项目】计算最佳运动心率\n",
    "[计算最佳心率实验单](https://gitlab.com/zhangwenqn/beike/-/blob/main/python%E8%AE%B2%E4%B9%89/%E8%BF%90%E5%8A%A8%E5%BF%83%E5%BE%8B%E5%AE%9E%E9%AA%8C%E5%8D%95.ipynb?ref_type=heads)"
   ]
  },
  {
   "cell_type": "markdown",
   "metadata": {},
   "source": [
    "--- "
   ]
  },
  {
   "cell_type": "markdown",
   "metadata": {},
   "source": [
    "\n",
    "\n",
    "#### 循环结构\n",
    "\n",
    "> 本节参考[菜鸟教程-python循环语句](https://www.runoob.com/python/python-loops.html)\n",
    "\n",
    "循环语句允许对同一步骤执行多次，解决重复性的工作。python中的循环语句有for…… 和while……两种形式。习惯简称for循环和while循环。\n",
    "\n",
    "循环语句的执行步骤\n",
    "- 1. 循环变量初始化\n",
    "- 2. 判断循环变量是否满足循环条件\n",
    "- 3. 执行循环语句\n",
    "- 4. 循环变量取下一个值\n",
    "- 5. 重复2-4步，直到循环变量不满足循环条件\n",
    "\n",
    "for循环通过循环的次数来控制循环，因此又叫\"计数循环\"，while循环是在某种条件成立时执行循环又叫\"条件循环\"。\n",
    "\n",
    "for和while所在行末尾必须用英文冒号结束，并严格遵循缩进格式，只有缩进的语句才是被循环执行的语句。\n",
    "\n",
    "#### 【练习】执行下面一段程序，观察输出结果，解释下变量k的输出结果"
   ]
  },
  {
   "cell_type": "code",
   "execution_count": null,
   "metadata": {},
   "outputs": [],
   "source": [
    "# 观察输出结果\n",
    "for i in 'Hello World!':\n",
    "    print(i)\n",
    "\n",
    "# pass是什么也不做，空循环，观察print的输出结果\n",
    "for j in 'Hello World!':\n",
    "    pass  \n",
    "print(j)\n",
    "\n",
    "for k in 'Hello Wrold!':\n",
    "    if k <= 'k':\n",
    "        print(k)\n",
    "\n",
    "for m in [\"hello\",\"world\",\"!\"]:\n",
    "    print(m)"
   ]
  },
  {
   "cell_type": "markdown",
   "metadata": {},
   "source": [
    "#### 【案例】计算今后100年以内的闰年，是闰年就输出年份\n",
    "IPO分析\n",
    "- I：输入一个具体年份，作为起始年份\n",
    "- P: 根据闰年规则判断是否是闰年，然后计算下一年，直到超出100年范围\n",
    "- O：输出100年之内的所有闰年年份\n",
    "\n",
    "| 步骤| 过程|语句|\n",
    "|---|---|---|\n",
    "|1|从键盘输入一个数字作为起始年份，保存在变量year中| year = int(input(\"请输入当前年份:\"))|\n",
    "|2|用if语句判断year是否是闰年，是就输出year的值，否则year+=1,计算下一年|if ((year%4==0) and (year%100!=0) or (year%400==0)):<br >　　print(year)<br >else:<br >　　year += 1|\n",
    "|3|用循环语句重复执行步骤2| for i in range(100):<br >　　步骤2|\n"
   ]
  },
  {
   "cell_type": "code",
   "execution_count": null,
   "metadata": {},
   "outputs": [],
   "source": [
    "# 计算今后100年以内的闰年\n",
    "# 把以下代码保存为leapyear.py文件，在idle中运行\n",
    "\n",
    "year = int(input(\"请输入当前年份：\"))\n",
    "for i in range(100):\n",
    "    if ((year%4 == 0) and (year%100 != 0) or (year%400 ==0)):\n",
    "        print(year)\n",
    "    else:\n",
    "        year += 1\n"
   ]
  },
  {
   "cell_type": "markdown",
   "metadata": {},
   "source": [
    "\n",
    "> ##### 【补充】range()的用法\n",
    "- range(n)  的执行结果是生成一个0到n-1的整数序列。序列中整数的个数用于控制循环的次数。 \n",
    "- range(a,b) 生成[a,b-1]的整数序列\n",
    "- range(a,b,c) 在[a,b-1]的整数序列中，每c位整数一组，选每组第一个数组成的序列\n",
    "\n",
    "\n",
    "> 观察以下输出结果\n",
    "- list(range(10))\n",
    "- list(range(5,10))\n",
    "- list(range(1,10,3))\n",
    "\n"
   ]
  },
  {
   "cell_type": "markdown",
   "metadata": {},
   "source": [
    "### 【微项目】验证抛硬币实验单\n",
    "[验证抛硬币实验](https://gitlab.com/zhangwenqn/beike/-/blob/main/python%E8%AE%B2%E4%B9%89/%E9%AA%8C%E8%AF%81%E6%8A%9B%E7%A1%AC%E5%B8%81%E6%A6%82%E7%8E%87.ipynb)"
   ]
  }
 ],
 "metadata": {
  "kernelspec": {
   "display_name": "Python 3.6.5 ('base')",
   "language": "python",
   "name": "python3"
  },
  "language_info": {
   "codemirror_mode": {
    "name": "ipython",
    "version": 3
   },
   "file_extension": ".py",
   "mimetype": "text/x-python",
   "name": "python",
   "nbconvert_exporter": "python",
   "pygments_lexer": "ipython3",
   "version": "undefined.undefined.undefined"
  },
  "vscode": {
   "interpreter": {
    "hash": "ad2bdc8ecc057115af97d19610ffacc2b4e99fae6737bb82f5d7fb13d2f2c186"
   }
  }
 },
 "nbformat": 4,
 "nbformat_minor": 2
}

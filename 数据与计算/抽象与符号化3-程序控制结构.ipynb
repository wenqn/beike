{
 "cells": [
  {
   "cell_type": "markdown",
   "metadata": {},
   "source": [
    "# 抽象与符号化2-程序控制结构\n",
    "## 引言\n",
    "### 对工作步骤的符号化处理\n",
    "发明计算机是为了替代人们完成复杂、枯燥的工作。我们通过编写程序告诉计算机按照什么样的步骤去解决问题。程序是一个语句序列，执行程序就是按特定的次序执行程序中的语句。由于复杂问题的解法可能涉及复杂的执行次序，因此编程语言必须提供表达复杂控制流程的手段，称为编程语言的控制结构，或程序控制结构。理论和实践证明，无论多复杂的算法均可通过顺序、选择、循环3种基本控制结构构造出来。\n",
    "\n",
    "> 1966年，Böhm和Jacopini在《Communications of the ACM(CACM)》上发表了一篇论文，以流桯图的结构归纳法为基础证明所有的程序都可以由顺序、选择和迭代（循环）这三个结构组成。这一理论被称为结构化程序理论也称为伯姆-贾可皮尼理论或Böhm-Jacopini理论。\n",
    "\n",
    "### python中的程序控制结构\n",
    "#### 顺序结构\n",
    "顺序结构是按照程序的书写顺序从上往下依次逐行执行，反映工作步骤的先后顺序。一般按正常书写顺序从上往下写即可。需要注意的是，有些变量要提前赋值后才能被使用，要提前书写赋值语句。\n",
    "\n",
    "#### 分支结构（选择结构）\n",
    "> 本节参考[菜鸟教程-条件语句](https://www.runoob.com/python/python-if-statement.html)\n",
    "\n",
    "python中用if……else……来表示选择过程。这一结构有很多变体形式。注意分支结构中的“条件成立”是指“条件”的计算结果是非零的数值,数值“0”代表不成立。“条件”一般是由算数运算符、数学运算符、条件运算符、逻辑运算符等组成的语句。\n",
    "\n",
    "比如 “age>=18”,\"sex=='男'\",\"addr == '北京' or addr == '上海'\"。\n",
    "\n",
    "注意：if、else和elif的行末必须以冒号结束，并严格遵循缩进格式。"
   ]
  },
  {
   "cell_type": "code",
   "execution_count": null,
   "metadata": {},
   "outputs": [],
   "source": [
    "# 形式=一：单一分支\n",
    "# 如果条件A成立，那执行步骤B\n",
    "if A :\n",
    "    B\n",
    "\n",
    "# 形式二：两分支\n",
    "#如果条件A成立，那么执行步骤B，否则执行步骤C\n",
    "if A:\n",
    "    B\n",
    "else:\n",
    "    C\n",
    "\n",
    "#形式三：多分支\n",
    "#如果条件A1成立，那么执行步骤B，否则若条件A2成立，执行步骤C，再否则若条件A3成立，则执行步骤D，再否则若条件A4成立，则执行步骤E\n",
    "if A1:\n",
    "    B\n",
    "elif A2:\n",
    "    C\n",
    "elif A3:\n",
    "    D\n",
    "elif A4:\n",
    "    E\n",
    "\n",
    "#形式四：嵌套使用\n",
    "if A1:\n",
    "    if A2:\n",
    "        if A3:\n",
    "            B\n",
    "        else:\n",
    "            C\n",
    "    else:\n",
    "        D\n"
   ]
  },
  {
   "cell_type": "markdown",
   "metadata": {},
   "source": [
    "#### 【练习一】\n",
    "- 尝试口头表述上述变体中形式四嵌套使用的执行逻辑\n",
    "- 在直播打赏中会有如下提示，请用分支结构和伪代码表示下点击确定按钮和取消按钮的执行过程。\n",
    "  - “送出小心心礼物需要支付1钻！确定支付？确定|取消”\n",
    "\n",
    "  - ![直播打赏界面](https://gitlab.com/zhangwenqn/beike/-/blob/main/dashang.jpg)\n",
    "\n",
    " > 变量btsure表示\"确定\"按钮，变量btcancel表示\"取消\"按钮.当按钮按下时，就将值设置为‘True’。比如，如果点击了取消按钮，就令变量btcancel的值为‘True’"
   ]
  },
  {
   "cell_type": "markdown",
   "metadata": {},
   "source": [
    "#### 【微项目】计算最佳运动心率\n",
    "[计算最佳心率实验单](https://gitlab.com/zhangwenqn/beike/-/blob/main/python%E8%AE%B2%E4%B9%89/%E8%BF%90%E5%8A%A8%E5%BF%83%E5%BE%8B%E5%AE%9E%E9%AA%8C%E5%8D%95.ipynb?ref_type=heads)"
   ]
  },
  {
   "cell_type": "markdown",
   "metadata": {},
   "source": [
    "--- "
   ]
  },
  {
   "cell_type": "markdown",
   "metadata": {},
   "source": [
    "\n",
    "\n",
    "#### 循环结构\n",
    "\n",
    "> 本节参考[菜鸟教程-python循环语句](https://www.runoob.com/python/python-loops.html)\n",
    "\n",
    "循环语句允许对同一步骤执行多次，解决重复性的工作。python中的循环语句有for…… 和while……两种形式。习惯简称for循环和while循环。\n",
    "\n",
    "循环语句的执行步骤\n",
    "- 1. 循环变量初始化\n",
    "- 2. 判断循环变量是否满足循环条件\n",
    "- 3. 执行循环语句\n",
    "- 4. 循环变量取下一个值\n",
    "- 5. 重复2-4步，直到循环变量不满足循环条件\n",
    "\n",
    "for循环通过循环的次数来控制循环，因此又叫\"计数循环\"，while循环是在某种条件成立时执行循环又叫\"条件循环\"。\n",
    "\n",
    "for和while所在行末尾必须用英文冒号结束，并严格遵循缩进格式，只有缩进的语句才是被循环执行的语句。\n",
    "\n",
    "#### 【练习二】执行下面一段程序，观察输出结果，解释下变量k的输出结果"
   ]
  },
  {
   "cell_type": "code",
   "execution_count": null,
   "metadata": {},
   "outputs": [],
   "source": [
    "# 观察输出结果\n",
    "for i in 'Hello World!':\n",
    "    print(i)\n",
    "\n",
    "# pass是什么也不做，空循环，观察print的输出结果\n",
    "for j in 'Hello World!':\n",
    "    pass  \n",
    "print(j)\n",
    "\n",
    "for k in 'Hello Wrold!':\n",
    "    if k <= 'k':\n",
    "        print(k)\n",
    "\n",
    "for m in [\"hello\",\"world\",\"!\"]:\n",
    "    print(m)"
   ]
  },
  {
   "cell_type": "markdown",
   "metadata": {},
   "source": [
    "### 【微项目】验证抛硬币实验单\n",
    "[验证抛硬币实验](https://gitlab.com/zhangwenqn/beike/-/blob/main/python%E8%AE%B2%E4%B9%89/%E9%AA%8C%E8%AF%81%E6%8A%9B%E7%A1%AC%E5%B8%81%E6%A6%82%E7%8E%87.ipynb)"
   ]
  }
 ],
 "metadata": {
  "language_info": {
   "name": "python"
  }
 },
 "nbformat": 4,
 "nbformat_minor": 2
}

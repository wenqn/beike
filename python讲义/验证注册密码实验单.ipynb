{
 "cells": [
  {
   "cell_type": "markdown",
   "metadata": {},
   "source": [
    "## 验证注册密码 实验单\n",
    "### 说明\n",
    "出于安全考虑，网络平台经常对登陆、注册所用的用户名或密码进行验证。要求超过一定的位数，包含字母或数字，甚至特殊符号的混合体。为简单起见，这里只对注册密码进行验证，要求密码长度不少于8位，只能由字母和数字组成，且至少有一个大写字母。\n",
    "### 实验示例\n",
    "\"请输入密码：\"\n",
    "\n",
    "输入：3988udu  \n",
    "输出：密码长度需8位以上\n",
    "\n",
    "输入：33557788  \n",
    "输出：密码中须包含字母\n",
    "\n",
    "输入：aabbccdd  \n",
    "输出：密码中须包含数字\n",
    "\n",
    "输入：aabb88cc  \n",
    "输出：密码中没有大写字母\n",
    "\n",
    "输入：$%@&*()()  \n",
    "输出：密码不能含有特殊字符\n",
    "\n",
    "输入：AAbb88cc  \n",
    "输出：验证成功\n",
    "### IPO分析\n",
    "- Input: 从键盘输入字符串\n",
    "- Process：\n",
    "    - 验证密码长度\n",
    "    - 验证包含字母\n",
    "    - 验证包含数字\n",
    "    - 验证包含大写字母\n",
    "- Out：根据验证情况给出反馈\n",
    "\n",
    "### 实验过程 \n",
    "#### 分析\n",
    "通过`for`循环将密码里的每个字母分别与`string`包里的字母、大写字母、数字字符串集比较，通过`letter`、`upper`、`digit`、`other`四个变量分别计数字母个数、大写字母个数、数字和其它特殊符号。  \n",
    "特别注意`for`循环里判断逻辑和输出的逻辑。\n",
    "#### string包\n",
    "`string`包里有包含字符串的一些操作，`import string`导入该包，用`dir(string)`函数可以看到包内提供的属性和函数。\n",
    "- `string.ascii_letters`是包含大小写字符串\n",
    "- `string.ascii_uppers`是包含大写字母的字符串\n",
    "- `string.ascii_digits`是包含数字的字符串\n",
    "```\n",
    "#了解string包\n",
    "import string\n",
    "dir(string)\n",
    "print(string.ascii_letters)\n",
    "print(string.asci_uppercase)\n",
    "print(string.digits)\n",
    "```"
   ]
  },
  {
   "cell_type": "code",
   "execution_count": null,
   "metadata": {},
   "outputs": [],
   "source": [
    "#了解 string包\n",
    "import string\n",
    "dir(string)"
   ]
  },
  {
   "cell_type": "code",
   "execution_count": 30,
   "metadata": {},
   "outputs": [
    {
     "name": "stdout",
     "output_type": "stream",
     "text": [
      "请输入密码:dskfsjEejle\n",
      "密码必须包含数字\n"
     ]
    }
   ],
   "source": [
    "#对注册密码进行验证，要求密码长度不少于8位，只能由字母和数字组成，且至少有一个大写字母。\n",
    "import string\n",
    "\n",
    "password = input(\"请输入密码:\")\n",
    "password = password.strip()       #去掉两端空格\n",
    "\n",
    "letters = string.ascii_letters    #字母列表\n",
    "uppers  = string.ascii_uppercase   #大写字母列表\n",
    "digits  = string.digits            #数字列表\n",
    "\n",
    "letter = 0    #字母个数\n",
    "upper  = 0    #大写字母个数\n",
    "digit  = 0    #数字格式\n",
    "other  = 0     #非法字符个数\n",
    "\n",
    "\n",
    "for char in password:\n",
    "    if char in letters:\n",
    "        letter += 1\n",
    "        \n",
    "    if char in uppers:         #如果是大写字母\n",
    "        upper += 1\n",
    "    elif char in digits:       #不是大写字母但是数字\n",
    "        digit += 1\n",
    "    elif char not in letters:  #***** 补充关系表达式  #排除掉小写字母 #不是大写字母也不是数字但包含了小写字母，所以要用 not in letters\n",
    "        other += 1              #其它字符\n",
    "        \n",
    "if len(password) < 8:           #****** 补充关系表达式\n",
    "    print(\"密码长度需8位以上\")       \n",
    "elif other > 0 :  \n",
    "    print(\"密码不能含有特殊字符\")\n",
    "elif letter == 0:\n",
    "    print(\"密码必须包含字母\")\n",
    "elif digit == 0:\n",
    "    print(\"密码必须包含数字\")\n",
    "elif upper == 0:\n",
    "    print(\"密码必须包含大写字母\")\n",
    "else:\n",
    "    print(\"验证成功\")\n",
    "    "
   ]
  }
 ],
 "metadata": {
  "kernelspec": {
   "display_name": "Python 3",
   "language": "python",
   "name": "python3"
  },
  "language_info": {
   "codemirror_mode": {
    "name": "ipython",
    "version": 3
   },
   "file_extension": ".py",
   "mimetype": "text/x-python",
   "name": "python",
   "nbconvert_exporter": "python",
   "pygments_lexer": "ipython3",
   "version": "3.6.5"
  },
  "toc": {
   "base_numbering": 1,
   "nav_menu": {},
   "number_sections": true,
   "sideBar": true,
   "skip_h1_title": false,
   "title_cell": "Table of Contents",
   "title_sidebar": "Contents",
   "toc_cell": false,
   "toc_position": {},
   "toc_section_display": true,
   "toc_window_display": false
  }
 },
 "nbformat": 4,
 "nbformat_minor": 2
}

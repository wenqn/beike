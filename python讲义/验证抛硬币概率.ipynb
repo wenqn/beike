{
 "cells": [
  {
   "cell_type": "markdown",
   "metadata": {
    "slideshow": {
     "slide_type": "slide"
    }
   },
   "source": [
    "## 验证抛硬币概率 实验单"
   ]
  },
  {
   "cell_type": "markdown",
   "metadata": {
    "slideshow": {
     "slide_type": "subslide"
    }
   },
   "source": [
    "###  关于概率"
   ]
  },
  {
   "cell_type": "markdown",
   "metadata": {
    "slideshow": {
     "slide_type": "slide"
    }
   },
   "source": [
    "```\n",
    "import randowm\n",
    "coin = [\"flower\",\"number\"]\n",
    "front = back = 0 #front:flower面，back:number面\n",
    "for i in range(1000):\n",
    "    p = random.choice(coin)\n",
    "    if p == \"flower\":\n",
    "        front += 1\n",
    "    else:\n",
    "        back += 1\n",
    "\n",
    "print(\"正面次数:%d次,占比:%f\" %(front,front/1000))\n",
    "print(\"反面次数:%d次,占比:%f\" %(back,back/1000))\n",
    "```"
   ]
  },
  {
   "cell_type": "code",
   "execution_count": null,
   "metadata": {
    "slideshow": {
     "slide_type": "slide"
    }
   },
   "outputs": [],
   "source": [
    "# 在此处输入代码，调试运行代码"
   ]
  },
  {
   "cell_type": "markdown",
   "metadata": {
    "slideshow": {
     "slide_type": "subslide"
    }
   },
   "source": [
    "### 改进：观察抛10000次，100000次数据。注意你需要修改该哪些地方？尝试用变量简化代码的修改"
   ]
  },
  {
   "cell_type": "markdown",
   "metadata": {
    "slideshow": {
     "slide_type": "subslide"
    }
   },
   "source": [
    "### 扩展：验证10000次抛币中连续10次正面向上的概率\n",
    " **提示：**\n",
    "-  需要两个变量，变量`k`记录连续正面向上的次数是否达到`10`次，变量`sum_n`记录`10000`次抛币中有多少回连续`10`次正面向上。\n",
    "-  随机事件中正面向上和反面向上的概率是相等的，你可以人为设定硬币的花面为正面还是数字为正面"
   ]
  },
  {
   "cell_type": "code",
   "execution_count": null,
   "metadata": {
    "code_folding": [],
    "slideshow": {
     "slide_type": "slide"
    }
   },
   "outputs": [],
   "source": [
    "# 在此处进行调试\n",
    "# 验证抛10000次硬币，连续10次正面向上的概率,假定花面为正面\n",
    "# 删除含有#***的行，在原处补充代码\n",
    "\n",
    "import random\n",
    "coin = [\"flower\",\"number\"]\n",
    "front=back=0 #front:flower面，back:number面\n",
    "\n",
    "k=0     #k:记录连续正面向上的次数是否达到10次\n",
    "sum_n=0 #记录有多少回连续10次正面向上\n",
    "\n",
    "for i in range(10000):\n",
    "    p = random.choice(coin)\n",
    "    if p == \"flower\":\n",
    "        front += 1\n",
    "        k += 1      #***补充该句\n",
    "    else:\n",
    "        back += 1\n",
    "        k = 0       #***补充该句\n",
    "    if k == 10:            # 连续10次正面向上\n",
    "        sum_n += 1  #***补充该句\n",
    "        \n",
    "print(\"正面次数:%d次,占比:%f\" %(front,front/10000))\n",
    "print(\"反面次数:%d次,占比:%f\" %(back,back/10000))       \n",
    "print(\"连续%d次正面向上次数:%d次，占比:%f\" %(10,sum_n,sum_n/10000))\n"
   ]
  },
  {
   "cell_type": "markdown",
   "metadata": {},
   "source": [
    "### 思考：模拟m次抛币中，连续n次正面向上的概率"
   ]
  },
  {
   "cell_type": "code",
   "execution_count": null,
   "metadata": {
    "code_folding": [],
    "slideshow": {
     "slide_type": "slide"
    }
   },
   "outputs": [],
   "source": [
    "\n",
    "# 完整代码,\n",
    "# 验证抛m次硬币，连续n次正面向上的概率,假定花面为正面\n",
    "\n",
    "import random\n",
    "coin = [\"flower\",\"number\"]\n",
    "front=back=0 #front:flower面，back:number面\n",
    "\n",
    "m=10000 #总抛币次数\n",
    "n=10    #连续同一面的次数\n",
    "\n",
    "k=0     #k:记录连续正面向上的次数是否达到10次\n",
    "sum_n=0 #记录有多少回连续10次正面向上\n",
    "\n",
    "for i in range(m):\n",
    "    p = random.choice(coin)\n",
    "    if p == \"flower\":\n",
    "        front += 1\n",
    "        k += 1\n",
    "    else:\n",
    "        back += 1\n",
    "        k = 0\n",
    "    if k == n: # 连续10次正面向上\n",
    "        sum_n += 1\n",
    "        \n",
    "print(\"正面次数:%d次,占比:%f\" %(front,front/m))\n",
    "print(\"反面次数:%d次,占比:%f\" %(back,back/m))       \n",
    "print(\"连续%d次正面向上次数:%d次，占比:%f\" %(n,sum_n,sum_n/m))\n"
   ]
  }
 ],
 "metadata": {
  "celltoolbar": "Slideshow",
  "kernelspec": {
   "display_name": "Python 3",
   "language": "python",
   "name": "python3"
  },
  "language_info": {
   "codemirror_mode": {
    "name": "ipython",
    "version": 3
   },
   "file_extension": ".py",
   "mimetype": "text/x-python",
   "name": "python",
   "nbconvert_exporter": "python",
   "pygments_lexer": "ipython3",
   "version": "3.6.5"
  },
  "toc": {
   "base_numbering": 1,
   "nav_menu": {},
   "number_sections": true,
   "sideBar": true,
   "skip_h1_title": false,
   "title_cell": "Table of Contents",
   "title_sidebar": "Contents",
   "toc_cell": false,
   "toc_position": {},
   "toc_section_display": true,
   "toc_window_display": false
  }
 },
 "nbformat": 4,
 "nbformat_minor": 2
}

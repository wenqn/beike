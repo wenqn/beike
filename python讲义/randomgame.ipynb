{
 "cells": [
  {
   "cell_type": "markdown",
   "metadata": {},
   "source": [
    "### 1.猜数字\n",
    "计算机从1-10十个数字中随机抽一个数，用户来猜。计算机给出“高了”或“低了”的提示，直到用户猜对，计算机给出猜测次数和正确数字。\n",
    "\n",
    "随机数游戏\n",
    "随机数函数 random"
   ]
  },
  {
   "cell_type": "code",
   "execution_count": null,
   "metadata": {
    "collapsed": true
   },
   "outputs": [],
   "source": [
    "# guess number\n",
    "import random\n",
    "the_number = random.randint(1,10)\n",
    "guess = int(input(\"guess a number between 1 and 10:\"))\n",
    "number_tries = 0\n",
    "while guess != the_number:\n",
    "    number_tries += 1\n",
    "    print(\"the\" ,number_tries ,\"guess\")\n",
    "    if guess > the_number:\n",
    "        print(guess,\"was too hight ,try again:\")\n",
    "    if guess < the_number:\n",
    "        print(guess,\"was too low,tyr again:\")\n",
    "    guess = int(input(\"guess again:\"))\n",
    "    \n",
    "print(\"the\",number_tries+1,\"guess\",guess,\"was the number!you win!\")"
   ]
  },
  {
   "cell_type": "markdown",
   "metadata": {},
   "source": [
    "### 2.比较扑克牌大小\n",
    "将扑克牌大小按面值顺序存入列表，利用列表下标进行比较"
   ]
  },
  {
   "cell_type": "code",
   "execution_count": null,
   "metadata": {},
   "outputs": [
    {
     "name": "stdout",
     "output_type": "stream",
     "text": [
      "我的牌是： 红桃 4\n",
      "你的牌是： 梅花 A\n",
      "你赢了\n"
     ]
    }
   ],
   "source": [
    "#扑克牌 \n",
    "import random\n",
    "suits = [\"红桃\",\"黑桃\",\"方块\",\"梅花\"]\n",
    "faces = [\"2\",\"3\",\"4\",\"5\",\"6\",\"7\",\"8\",\"9\",\"10\",\"J\",\"Q\",\"K\",\"A\"]\n",
    "\n",
    "keep_going = True\n",
    "while keep_going:\n",
    "    my_suit = random.choice(suits)\n",
    "    my_face = random.choice(faces)\n",
    "    your_suit = random.choice(suits)\n",
    "    your_face = random.choice(faces)\n",
    "    print(\"我的牌是：\",my_suit,my_face)\n",
    "    print(\"你的牌是：\",your_suit,your_face)\n",
    "    \n",
    "    if(faces.index(my_face) > faces.index(your_face)):\n",
    "        print(\"你输了\")\n",
    "    elif(faces.index(my_face) < faces.index(your_face)):\n",
    "        print(\"你赢了\")\n",
    "    else:\n",
    "        print(\"平局\")\n",
    "    answer = input(\"按回车键继续，其他键退出\")\n",
    "    keep_going = (answer == \"\")\n",
    "    \n",
    "    "
   ]
  },
  {
   "cell_type": "markdown",
   "metadata": {},
   "source": [
    "### 3.掷骰子\n",
    "随机投掷n个筛子，有相同点数的筛子有几个\n",
    "算法：用1-6表示筛子点数，n个骰子的点数组成长度为n的数组，判断一组数有几个重复数字\n",
    "第一步现将数组排序，比较首尾两个值，若相等，则所有点数都一样，否则进行第二步，比较第1个和倒数第2个数值或者第2个和最后一个，若相同则有n-1个相同点数，否则第三步比较第1和倒数第3或者第2和倒数第2，或者第3和最后是否有相等，依次类推进行比较"
   ]
  },
  {
   "cell_type": "code",
   "execution_count": 1,
   "metadata": {},
   "outputs": [
    {
     "name": "stdout",
     "output_type": "stream",
     "text": [
      "你掷的骰子： [5, 5, 1, 5, 5]\n",
      "四同点\n",
      "按回车键继续，其他键退出\n",
      "你掷的骰子： [3, 6, 3, 2, 5]\n",
      "两同点\n",
      "按回车键继续，其他键退出\n",
      "你掷的骰子： [2, 2, 4, 3, 1]\n",
      "两同点\n",
      "按回车键继续，其他键退出\n",
      "你掷的骰子： [3, 2, 1, 4, 3]\n",
      "两同点\n",
      "按回车键继续，其他键退出\n",
      "你掷的骰子： [2, 5, 2, 2, 2]\n",
      "四同点\n",
      "按回车键继续，其他键退出e\n"
     ]
    }
   ],
   "source": [
    "#掷骰子\n",
    "#随机投掷n个筛子，有相同点数的筛子有几个 \n",
    "#算法：用1-6表示筛子点数，n个骰子的点数组成长度为n的数组，\n",
    "#判断一组数有几个重复数字 第一步现将数组排序，比较首尾两个值，若相等，则所有点数都一样，\n",
    "#否则进行第二步，比较第1个和倒数第2个数值或者第2个和最后一个，若相同则有n-1个相同点数，\n",
    "#否则第三步比较第1和倒数第3或者第2和倒数第2，或者第3和最后是否有相等，依次类推进行比较\n",
    "\n",
    "import random\n",
    "keep_going = True\n",
    "while keep_going:\n",
    "    dice = [0,0,0,0,0]\n",
    "    for i in range(5):\n",
    "        dice[i] = random.randint(1,6)\n",
    "    print(\"你掷的骰子：\",dice)\n",
    "    dice.sort()\n",
    "    if dice[0] == dice[4]:\n",
    "        print(\"五同点\")\n",
    "    elif dice[0] == dice[3] or dice[1] == dice[4]:\n",
    "        print(\"四同点\")\n",
    "    elif dice[0] == dice[2] or dice[1] == dice[3] or dice[2] == dice[4]:\n",
    "        print(\"三同点\")\n",
    "    elif dice[0] == dice[1] or dice[1] == dice[2] or dice[2] == dice[3] or dice[3] == dice[4]:\n",
    "        print(\"两同点\")\n",
    "    else :\n",
    "        print(\"散点\")\n",
    "        \n",
    "    keep_going = (input(\"按回车键继续，其他键退出\") == \"\")\n",
    "    \n",
    "    "
   ]
  },
  {
   "cell_type": "markdown",
   "metadata": {},
   "source": [
    "### 4.弹球碰撞检测\n",
    "在游戏循环中，小球要维持惯性前进，直到碰到边界后进行掉头。用speed表示惯性前进量，当碰到边界时，speed取反，用-speed表示惯性前进量"
   ]
  },
  {
   "cell_type": "code",
   "execution_count": 7,
   "metadata": {},
   "outputs": [],
   "source": [
    "#弹球碰撞\n",
    "import pygame\n",
    "import random\n",
    "pygame.init()\n",
    "screen =  pygame.display.set_mode([800,600])\n",
    "keep_going = True\n",
    "picx = 50\n",
    "picy = 50\n",
    "radius = 50\n",
    "speedx = 1\n",
    "speedy = 1\n",
    "while keep_going:\n",
    "    for event in pygame.event.get():\n",
    "        if event.type == pygame.QUIT:\n",
    "            keep_going = False\n",
    "    # screen.fill((0,0,0))\n",
    "    # pic = pygame.draw.circle(screen,(random.randint(0,255),random.randint(0,255),random.randint(0,255)),(random.randint(0,800),random.randint(0,600)),radius)\n",
    "    pic = pygame.draw.circle(screen,(0,255,0),(picx,picy),radius)\n",
    "    picx += speedx\n",
    "    picy += speedy\n",
    "\n",
    "    if picx + radius >= 800 or picx - radius <= 0:\n",
    "        speedx = -speedx\n",
    "    if picy + radius >= 600 or picy - radius <= 0:\n",
    "        speedy = -speedy\n",
    "\n",
    "    \n",
    "    pygame.display.update()\n",
    "pygame.quit()"
   ]
  },
  {
   "cell_type": "markdown",
   "metadata": {},
   "source": [
    "### 5.验证抛硬币概率\n",
    "验证抛m次硬币，连续n次正面向上的概率,假定花面为正面"
   ]
  },
  {
   "cell_type": "code",
   "execution_count": 1,
   "metadata": {},
   "outputs": [
    {
     "name": "stdout",
     "output_type": "stream",
     "text": [
      "正面次数:4957次,占比:0.495700\n",
      "反面次数:5043次,占比:0.504300\n",
      "连续10次正面向上次数:5次，占比:0.000500\n"
     ]
    }
   ],
   "source": [
    "# 验证抛m次硬币，连续n次正面向上的概率,假定花面为正面\n",
    "# \n",
    "\n",
    "import random\n",
    "coin = [\"flower\",\"number\"]\n",
    "front=back=0 #front:flower面，back:number面\n",
    "\n",
    "m=10000 #总抛币次数\n",
    "n=10    #连续同一面次数\n",
    "\n",
    "k=0     #k:记录连续正面向上的次数是否达到10次\n",
    "sum_n=0 #记录有多少回连续10次正面向上\n",
    "\n",
    "for i in range(m):\n",
    "    p = random.choice(coin)\n",
    "    if p == \"flower\":\n",
    "        front += 1\n",
    "        k += 1\n",
    "    else:\n",
    "        back += 1\n",
    "        k = 0\n",
    "    if k == n: # 连续10次正面向上\n",
    "        sum_n +=1\n",
    "        \n",
    "print(\"正面次数:%d次,占比:%f\" %(front,front/m))\n",
    "print(\"反面次数:%d次,占比:%f\" %(back,back/m))       \n",
    "print(\"连续%d次正面向上次数:%d次，占比:%f\" %(10,sum_n,sum_n/m))\n"
   ]
  }
 ],
 "metadata": {
  "anaconda-cloud": {},
  "kernelspec": {
   "display_name": "Python 3",
   "language": "python",
   "name": "python3"
  },
  "language_info": {
   "codemirror_mode": {
    "name": "ipython",
    "version": 3
   },
   "file_extension": ".py",
   "mimetype": "text/x-python",
   "name": "python",
   "nbconvert_exporter": "python",
   "pygments_lexer": "ipython3",
   "version": "3.6.5"
  }
 },
 "nbformat": 4,
 "nbformat_minor": 1
}

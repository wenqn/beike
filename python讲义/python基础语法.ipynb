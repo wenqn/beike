{
 "cells": [
  {
   "cell_type": "markdown",
   "metadata": {},
   "source": [
    "# python 基础语法"
   ]
  },
  {
   "cell_type": "markdown",
   "metadata": {},
   "source": [
    "# 1 python 简介"
   ]
  },
  {
   "cell_type": "markdown",
   "metadata": {},
   "source": [
    "Python由荷兰数学和计算机科学研究学会的吉多·范罗苏姆于20世纪90年代初设计。Python的英文意思是蟒蛇，其图标也是各种蟒蛇图案。\n",
    "\n",
    "由于Python语言的简洁性、易读性以及可扩展性，在国外用Python做科学计算的研究机构日益增多，一些知名大学已经采用Python来教授程序设计课程。例如卡耐基梅隆大学的编程基础、麻省理工学院的计算机科学及编程导论就使用Python语言讲授。众多开源的科学计算软件包都提供了Python的调用接口，例如著名的计算机视觉库OpenCV、三维可视化库VTK、医学图像处理库ITK。而Python专用的科学计算扩展库就更多了，例如十分经典的科学计算扩展库：NumPy、SciPy和matplotlib，它们分别为Python提供了快速数组处理、数值运算以及绘图功能。因此Python语言及其众多的扩展库所构成的开发环境十分适合工程技术、科研人员处理实验数据、制作图表，甚至开发科学计算应用程序。\n",
    "\n",
    "以上介绍来自百度百科https://baike.baidu.com/item/Python/407313?fr=aladdin"
   ]
  },
  {
   "cell_type": "markdown",
   "metadata": {},
   "source": [
    "## 1.1 程序输出\n",
    "\n",
    "### 1.1.1 print() 和 Hello World\n",
    "\n",
    "```\n",
    "print(\"Hello Wrold\")\n",
    "```\n",
    "---\n",
    "print()是python的内置函数，作用是把引号里的内容显示出来。括号和引号是语法的一部分，不能省略（python 2 版本中print是不带括号的，但python 3开始括号是必须的）。\n",
    "双引号包围的内容叫做“字符串”，这个例子中你可以随意修改引号里面的内容。\n",
    "\n",
    "<b>所有的标点符号，都应该用英文输入法输入。</b>"
   ]
  },
  {
   "cell_type": "code",
   "execution_count": 2,
   "metadata": {},
   "outputs": [
    {
     "name": "stdout",
     "output_type": "stream",
     "text": [
      "Hello World!\n"
     ]
    }
   ],
   "source": [
    "# 按下 Ctrl + 回车键，将看到运行结果。\n",
    "print(\"Hello World!\")"
   ]
  },
  {
   "cell_type": "markdown",
   "metadata": {},
   "source": [
    "### 1.1.2 格式化输出\n",
    "\n",
    "print语句和 百分号 （ % ）合用可以实现字符串替换功能，这个百分号被称为“字符串格式运算符”。\n",
    "\n",
    "- %s 由一个字符串替换\n",
    "- %d 由一个整数替换\n",
    "- %f 由一个浮点数（小数）替换\n",
    "\n",
    "\n",
    "下面例子中,紫色 % 把左边的字符串和右边的括号里的变量（要替换的值）隔开，右边的变量的顺序要和镶嵌在左边字符串中的%一一对应，多个变量用逗号隔开。"
   ]
  },
  {
   "cell_type": "code",
   "execution_count": 6,
   "metadata": {},
   "outputs": [
    {
     "name": "stdout",
     "output_type": "stream",
     "text": [
      "王小二在3岁那年吃了4碗米饭，体重减了3.300000斤，因为住了7天院。\n"
     ]
    }
   ],
   "source": [
    "print(\"%s在%d岁那年吃了%d碗米饭，体重减了%f斤，因为住了%d天院。\" % (\"王小二\",3,4,3.3,7 ))"
   ]
  },
  {
   "cell_type": "markdown",
   "metadata": {},
   "source": [
    "## 1.2 程序输入\n",
    "\n",
    "`input()`函数会等待你从键盘中输入一些内容。\n",
    "\n",
    "运行下面的代码，你会看到`请输入姓名：`一句会显示出来，这是输入前的提示信息，随后程序会一直等待，直到你输入一些内容。第二句会把你输入的内容显示出来。\n",
    "```\n",
    "myname = input(\"请输入姓名：\")\n",
    "print(\"Hello,myname)\n",
    "```\n"
   ]
  },
  {
   "cell_type": "code",
   "execution_count": 11,
   "metadata": {},
   "outputs": [
    {
     "name": "stdout",
     "output_type": "stream",
     "text": [
      "请输入姓名：yanni\n",
      "Hello yanni\n"
     ]
    }
   ],
   "source": [
    "# 按下Ctrl + 回车键运行\n",
    "myname = input(\"请输入姓名：\")\n",
    "print(\"Hello\",myname)"
   ]
  },
  {
   "cell_type": "markdown",
   "metadata": {},
   "source": [
    "## 1.3 注释\n",
    "给程序添加注释是良好的编成习惯,注释可以让别人更容易看懂你的代码,更重要的是自己将来回头看自己的代码时不致于发懵。千万不要高估自己的记忆力。\n",
    "python中支持单行注释和多行注释。\n",
    "- 单行注释`#`后面的内容为注释，程序运行时不会执行`#`之后的内容。`#`不可跨行，每一行注释都要用`#`开头。  \n",
    "- 多行注释 一般用三个引号表示，可以跨越多行"
   ]
  },
  {
   "cell_type": "code",
   "execution_count": null,
   "metadata": {},
   "outputs": [],
   "source": [
    "#这是单行注释\n",
    "#验证密码\n",
    "n = input(\"输入密码\")  #这是单行注释\n",
    "if n == \"slien34lkj5\":\n",
    "    print(\"ok\")\n",
    "\"\"\"\n",
    "三个引号包围的内容\n",
    "为多行注释，\n",
    "         可以跨行，并保持文本格式不变\n",
    "\"\"\"\n",
    "\n",
    "'''\n",
    "========================\n",
    "==三个单引号也是可以的==\n",
    "==  ****   ***  ****  ==\n",
    "========================\n",
    "'''"
   ]
  },
  {
   "cell_type": "markdown",
   "metadata": {},
   "source": [
    "## 1.4 关于缩进\n",
    "\n",
    "缩进是python标志性的语法特征，这在众多编程语言中显得个性鲜明。缩进带来的最大特点是代码层次清楚，便于人的识读。缩进通过“空格”来完成，但不要使用`tab`键来产生空格。`tab`键在不同平台中产生的空格数量并不一致，程序在平台之间迁移时会出问题。\n",
    "\n",
    "python中并没有强制规定使用多少个空格，但强制要求在每一层级上要保持相同数量的空格，要么都是4个空格，要么都是6个空格或其他数量的空格。一般而言，1-2个空格太少，缩进不明显。6个8个空格显得太多，缩进层次多了以后会很快把代码推到屏幕右边。\n",
    "\n",
    "**所以保持4个空格的缩进是最好的选择，也是python开发者所提倡的** 。"
   ]
  },
  {
   "cell_type": "code",
   "execution_count": null,
   "metadata": {},
   "outputs": [],
   "source": [
    "if True:\n",
    "    print (\"Answer\")\n",
    "    print (\"True\")\n",
    "else:\n",
    "    print (\"Answer\")\n",
    "  print (\"False\")    # 缩进不一致，会导致运行错误"
   ]
  },
  {
   "cell_type": "markdown",
   "metadata": {},
   "source": [
    "## 1.5 关于输入法\n",
    "### 除了必要的汉字，一律用英法输入法，特别注意各类标点符号一律用英文输入法\n",
    "### 常出错的几个标点符号\n",
    "  - 引号 “”  与 \"\"\n",
    "  - 冒号  ： 与 :\n",
    "  - 小括号  （） 与 ()"
   ]
  },
  {
   "cell_type": "code",
   "execution_count": null,
   "metadata": {},
   "outputs": [],
   "source": [
    "# 注意输入法\n",
    "str1 = “这是一个字符串”  # 中文引号，错误\n",
    "str2 = \"这是一个字符串\"\n",
    "print(str2)\n",
    "print（str2） # 中文括号，错误"
   ]
  },
  {
   "cell_type": "markdown",
   "metadata": {},
   "source": [
    "## 1.6 IPO模型\n",
    "\n",
    "任何程序可以简单分成I、P、O三部分来理解。\n",
    "\n",
    "- I ：input，指程序输入\n",
    "- P ：process,指程序的处理过程\n",
    "- O : out, 指程序输出\n",
    "\n",
    "input()函数实现程序的输入，print()函数实现程序的输出，程序的处理过程要根据所实现的功能和采用的算法不同而不同。"
   ]
  },
  {
   "cell_type": "markdown",
   "metadata": {},
   "source": [
    "### 1.6.1 进制转换小程序\n",
    "将一个十进制整数转换成二进制\n",
    "\n",
    "IPO | IPO分析 | 程序语句\n",
    ":---:|:---:|:---:\n",
    "I（input）| 输入一个十进制整数  | int(input(\"请输入一个十进制整数：\"))  \n",
    "P（process）| 十进制转换为二进制 | bin()\n",
    "O（out）| 输出转换的二进制 | print(\"二进制为：\",binary)"
   ]
  },
  {
   "cell_type": "code",
   "execution_count": 1,
   "metadata": {},
   "outputs": [
    {
     "name": "stdout",
     "output_type": "stream",
     "text": [
      "请输入一个十进制整数:100\n",
      "二进制为 0b1100100\n"
     ]
    }
   ],
   "source": [
    "# 十进制转二进制数\n",
    "ten = int(input(\"请输入一个十进制整数:\"))\n",
    "binary = bin(ten)  \n",
    "print(\"二进制为\",binary)      # binary为变量，输出变量不需要加引号"
   ]
  },
  {
   "cell_type": "markdown",
   "metadata": {},
   "source": [
    "上例中输出结果最左端的`0b`代表二进制，后面才是实际二进制值。\n",
    "\n",
    "其他进制转换函数，注意必须输入十进制整数。\n",
    "- `int(num,R)`将R进制数转换为十进制。num为字符串型，R取2为二进制，8为八进制，省略R默认转换为十进制。\n",
    "- `bin()`十进制转二进制\n",
    "- `oct()`十进制转八进制\n",
    "- `hex()`十进制转十六进制"
   ]
  },
  {
   "cell_type": "markdown",
   "metadata": {},
   "source": [
    "### 1.6.2 int类型转换小练习\n",
    "\n",
    "上例中语句`input(\"请输入一个十进制整数：\")`被包在另一个`int()`函数中，`int()`函数的作用是把参数转换为整数类型。也就是说通过input()输入的数字并不是真正的数字，而是长得像数字的字符，需要用`int()`来转换。\n",
    "\n",
    "\n",
    "`int()`还可以将小数转换为整数。是四舍五入呢，还是向下取整？自己试一试。\n",
    "```\n",
    "    # 第一组\n",
    "    >>>n = print(\"请输入一个数：\")\n",
    "    >>>n-5\n",
    "    # 第二组\n",
    "    >>>n = int(print(\"请输入一个数：\"))\n",
    "    >>>n-5\n",
    "    #第三组\n",
    "    >>>n = int(3.4)\n",
    "    >>>n\n",
    "    #第四组\n",
    "    >>>n = int(3.6)\n",
    "    >>>n\n",
    "    #第五组\n",
    "    >>>n = int(3.5)\n",
    "    >>>n\n",
    "    #第六组\n",
    "    >>>int('11011010',2)\n",
    "```"
   ]
  },
  {
   "cell_type": "markdown",
   "metadata": {},
   "source": [
    "### 1.6.3 round()函数\n",
    "round()函数通过四舍五入的方式取整。python的四舍五入有点特殊，当小数位正好是`.5`的时候，采取了一种叫“奇进偶退”的办法进行四舍五入，从统计角度，这种方式可以让“舍”与“入”更平衡。\n",
    "\n",
    "```\n",
    ">>> round(3.4)\n",
    "3\n",
    ">>> round(3.5)\n",
    "4\n",
    ">>> round(4.5)\n",
    "4\n",
    ">>> round(4.6)\n",
    "```"
   ]
  },
  {
   "cell_type": "code",
   "execution_count": null,
   "metadata": {},
   "outputs": [],
   "source": [
    "# 分组测试int()和round()函数\n"
   ]
  },
  {
   "cell_type": "markdown",
   "metadata": {},
   "source": [
    "# 2  变量\n",
    "- #### 变量在使用前要赋值\n",
    "- #### 变量名命名要符合规范\n",
    "\n",
    "## 2.1 变量名\n",
    "在语句 `n=int(3.4)`中，`=`左边的部分是“变量”，变量的名称是`n`，`n`也称为变量名，`=`右边的部分就是变量的值的引用（并不是值）。你想让程序记住某个东西，以便以后使用，就要给这个东西起个名字，python会在内存中给这个“东西”留出一块空间，要想使用这个“东西”时，只要使用它的名字就行。\n"
   ]
  },
  {
   "cell_type": "markdown",
   "metadata": {},
   "source": [
    "## 2.2 变量名命名规则\n",
    "\n",
    "python中变量名遵循如下规则：\n",
    "\n",
    "- 第一个字符必须是字母或下划线\n",
    "- 其他字符可以是字母、数字、下划线\n",
    "- 大小写敏感\n",
    "- 不能使用保留字\n",
    "\n",
    "python中变量名可以由字母、数字、下划线组成，但不能用数字开头。python变量名是区分大小写的，这个特性称为“大小写敏感”。也即 “school”与“School”是两个不同的变量名。\n",
    "\n",
    "有些词是不能用作变量名的，因为python已经占用了，比如 `int`，`class`，`print`等这些叫做“保留字”或“关键字”。在这份教程中，代码cell里绿色的就是“保留字”和“关键字”。\n",
    "\n",
    "#### 起名字的苦恼\n",
    "\n",
    "python中可以用中文字符作为变量名，更一般的是用它的英文单词、缩写或其英文组合来当变量名。比如`teacher`,`student`,`school`等，用汉语拼音是允许的，但最好不要用。多记住一些英语单词总是好事。和人名一样，变量名尽量有意义。\n",
    "\n",
    "很多人一直纠结两种书写方式，一种是“驼峰式”，即第一个单词小写，后面的每单词首字母大写，比如`userName`、`boyAgeInSchool`。还一种是全小写用下划线，`user_name`、`boy_age_in_school`。用哪一种都可以，但要保持风格一致，这是编程中的“礼貌”。\n",
    "\n",
    "## 2.3 一些例子\n",
    "```\n",
    ">>> counter = 0        # 整数赋值\n",
    ">>> miles = 1000.0      # 浮点数赋值\n",
    ">>> name = \"Bob\"       # 字符串赋值\n",
    ">>> counter = counter + 1    # 第一个整数加1\n",
    ">>> kilometers = 1.609 * miles   # 浮点数乘法赋值\n",
    ">>> print(\"%f miles is the same as %f km\" % (miles,kilometers))\n",
    "```"
   ]
  },
  {
   "cell_type": "markdown",
   "metadata": {},
   "source": [
    "#### 保留字不能用于变量名"
   ]
  },
  {
   "cell_type": "code",
   "execution_count": 5,
   "metadata": {},
   "outputs": [
    {
     "name": "stdout",
     "output_type": "stream",
     "text": [
      "['False', 'None', 'True', 'and', 'as', 'assert', 'async', 'await', 'break', 'class', 'continue', 'def', 'del', 'elif', 'else', 'except', 'finally', 'for', 'from', 'global', 'if', 'import', 'in', 'is', 'lambda', 'nonlocal', 'not', 'or', 'pass', 'raise', 'return', 'try', 'while', 'with', 'yield']\n"
     ]
    }
   ],
   "source": [
    "# 保留字 不能用于变量名\n",
    "import keyword            # 保留字相关的操作被放到一个叫keyword的功能包里，这样的功能包需要用import引入\n",
    "print(keyword.kwlist)\n",
    "\n",
    "# len()函数可以查看元素个数（长度）\n",
    "# print(len(keyword.kwlist))\n",
    "\n",
    "# dir()函数可以查询一个python包里的功能和属性\n",
    "# print(dir(keyword))"
   ]
  },
  {
   "cell_type": "code",
   "execution_count": null,
   "metadata": {},
   "outputs": [],
   "source": [
    "# 变量可以直接使用，但使用前要赋值\n",
    "nn           # nn 没有赋值，直接运行print(nn) 会有错误\n",
    "print(nn)"
   ]
  },
  {
   "cell_type": "code",
   "execution_count": null,
   "metadata": {},
   "outputs": [],
   "source": [
    "# 大小写敏感\n",
    "name = \"张三\"\n",
    "Name = \"李四\"\n",
    "print(name)\n",
    "print(Name)"
   ]
  },
  {
   "cell_type": "code",
   "execution_count": null,
   "metadata": {},
   "outputs": [],
   "source": [
    "# 变量名 哪些是合法变量名，哪些不合法？\n",
    "age5   = 18  \n",
    "5age   = 20  \n",
    "age_5  = 22  \n",
    "age5_  = 24 "
   ]
  },
  {
   "cell_type": "code",
   "execution_count": null,
   "metadata": {},
   "outputs": [],
   "source": [
    "# test 变量名命名规则\n",
    "\n",
    "_   = 26   \n",
    "__  = 28   \n",
    "___ = 30   \n",
    "print(_)     \n",
    "print(__)    \n",
    "print(___)   \n",
    "\n",
    "# 变量名可取中文名？\n",
    "小鸟 = \"老鹰\"     \n",
    "print( 小鸟)"
   ]
  },
  {
   "cell_type": "markdown",
   "metadata": {},
   "source": [
    "## 2.3  \\*变量的本质\n",
    "\n",
    "```\n",
    " n=5\n",
    " m=n\n",
    " n='abc'\n",
    "```\n",
    "- `n = 5`\n",
    "\n",
    "变量名指向的是内存空间而不是具体的值。比如在 `n=5` 中，变量名`n`指向存储数字`5`的内存空间。把内存空间想象成一个“盒子”，变量名`n`是“盒子”的标签，这个标签也称为“引用”。数字`5`是放到“盒子”里要保存的东西。\n",
    "\n",
    "- `m = n`\n",
    "\n",
    "该句将n的值赋给m，相当于在数字“5”所在的盒子里贴上两个标签，一个是原来的`n`，一个是`m`。\n",
    "- `n = 'abc'`\n",
    "\n",
    "这一句python将字符串`abc`放到一个新的盒子（分配一个新的内存空间），变量名`n`将从原来的盒子（数字`5`所在内存空间）上“撕下来”，贴到新盒子上（`abc`所在的内存空间）。\n",
    "那么`m`的值是多少呢？\n",
    "\n",
    "在一些循环中经常会用一个变量，频繁更换他的值来进行运算，由于值是可以改变的，这也是称之为“变量”的原因。严格来说变量的值并不总是可以改变的。在python中，数字、字符串、元组都属于“不可变对象”，意思是这些对象一旦创建，其内存盒子里的值就固定了，不可以更换。要想更改变量的值，只能新创建一个更改后的新的变量，将原来变量名重新贴到新内存盒子上，看上去就像更改了变量的值。列表和字典属于“可变对象”，意味着他们内存盒子里的值可以直接修改，不需要创建新的内存盒子。\n",
    "\n",
    "另一个类比是把旅客看做数据，房间是内存空间，门牌号就是变量名。在这个旅馆中，有些奇怪的事情，就是从不称呼旅客姓名，只用门牌号来称呼旅客。每次房间里有新旅客入住，就相当于完成一次变量赋值，旅馆里所有工作人员都只用门牌号称呼这位旅客。旅馆遵循“喜新厌旧”原则。如果新来的旅客指定要入住已经有人的房间，那么早先入住的人必须退出。退出的方式不是离开这个房间，而是让出原有的门牌号。旅馆为新来的旅客新开一个房间，把原来房间的门牌号挂到新开的房门上。看上去门牌号没变，但入住的旅客变了，房间也变了。原来旧的房间和旅客也都在，但没有了门牌号，谁也找不到他们，最后只能当做垃圾回收掉。\n"
   ]
  },
  {
   "cell_type": "markdown",
   "metadata": {},
   "source": [
    "## 2.4 变量与赋值\n",
    "\n",
    "赋值通过赋值运算符完成，等号（=）是最常用的赋值运算符。赋值的方向是从“=”右边赋给左边。\n",
    "#### \\*赋值的本质\n",
    "赋值并不是直接将一个值赋给变量，而是把“对象的引用”赋给变量。根据前面内存盒子的比喻，“对象”就是放了东西的内存盒子，“对象的引用”相当于内存盒子的一个编号，准确地说是内存地址。\n",
    "\n",
    "比如赋值语句`n=5`，`5`就是个整数型对象（一个内存盒子，里面放着数字5），通过赋值后，变量`n`就成为这个整数对象的一个“引用”。也可理解为`n`是贴在整数对象这个内存盒子上的标签。\n"
   ]
  },
  {
   "cell_type": "markdown",
   "metadata": {},
   "source": [
    "# 3 数据类型\n",
    "## 3.1 六种基本数据类型\n",
    "- 数字（Number）\n",
    "- 字符（String）\n",
    "- 列表（List）\n",
    "- 元组（Tuple）\n",
    "- 集合（Set）\n",
    "- 字典（Dictionary）"
   ]
  },
  {
   "cell_type": "markdown",
   "metadata": {},
   "source": [
    "### 3.1.1 数字类型\n",
    "\n",
    "数字类型|int|long|bool|float|complex\n",
    "---|---|---|---|---|---\n",
    "说明|整数|长整数|布尔值|浮点值|复数\n",
    "---|---|python2|---|---|---"
   ]
  },
  {
   "cell_type": "markdown",
   "metadata": {},
   "source": [
    "#### 整数与浮点类型"
   ]
  },
  {
   "cell_type": "code",
   "execution_count": null,
   "metadata": {},
   "outputs": [],
   "source": [
    "# 数字类型\n",
    "x = 10\n",
    "print(type(x))          # type( )  查看数据类型\n",
    "print(int(x))     # int( )   将数据转换为整数类型\n",
    "print(float(x))   # float( ) 将数据转换为浮点类型\n",
    "print(str(x))     # str( )   将数据转换为字符串类型\n",
    "  "
   ]
  },
  {
   "cell_type": "code",
   "execution_count": null,
   "metadata": {},
   "outputs": [],
   "source": [
    "# test 数字类型\n",
    "\n",
    "x=10\n",
    "y = 20.9\n",
    "print(int(y))\n",
    "xy = x*y       # 结果是整数还是浮点数？\n",
    "print(xy)"
   ]
  },
  {
   "cell_type": "markdown",
   "metadata": {},
   "source": [
    "#### 布尔值\n",
    "布尔值是python中的`bool`类型，有`True`和`False`两种值。**`True`或`False`的首字母要大写** 。\n",
    "python里用`True`表示一种“肯定”或“真实”的状态，用`False`表示一种“否定”或“假”的状态。比较运算符会根据比较的结果给出`True`或`False`的判断。\n",
    "```\n",
    "a = 5\n",
    "b = 18\n",
    "a < b\n",
    "```\n",
    "`5`小于`18`是事实，因此`a<b`会得到`True`的结果。\n",
    "\n",
    "布尔值实际上是一种特殊整数，尽管一般用`True`和`False`表示，但在数值环境中，比如让`True`与一个数相加，`True`会被当成整数`1`，`False`被当作整数`0`。在条件判断中，整数`0`总被当成`False`，非零的正整数会被当成`True`。"
   ]
  },
  {
   "cell_type": "markdown",
   "metadata": {},
   "source": [
    "# 4 运算符和表达式\n",
    "\n",
    "## 4.1 运算符\n",
    "\n",
    "运算符是进行某种运算的标识符号，它表明对操作数所进行的操作，常用的有数学运算符、比较运算符、赋值运算符、逻辑运算符。\n",
    "- 数学运算符\n",
    "- 比较运算符\n",
    "- 赋值运算符\n",
    "- 逻辑运算符"
   ]
  },
  {
   "cell_type": "markdown",
   "metadata": {},
   "source": [
    "### 4.1.1 数学运算符\n",
    "\n",
    "运算符|+|-|\\*|\\*\\*|/|//|%\n",
    "----|----|----|----|----|----|----|----\n",
    "功能|加|减|乘|幂|除|整除|取模"
   ]
  },
  {
   "cell_type": "code",
   "execution_count": null,
   "metadata": {},
   "outputs": [],
   "source": [
    "# test 数学运算符\n",
    "a=10\n",
    "b=25\n",
    "print(\"a+b=\",a+b)\n",
    "print(\"a-b=\",a-b)\n",
    "print(\"a*b=\",a*b)\n",
    "print(\"a**b=\",a**b)\n",
    "print(\"b/a=\",b/a)\n",
    "print(\"b//a=\",b//a)\n",
    "print(\"b%a=\",b%a)"
   ]
  },
  {
   "cell_type": "markdown",
   "metadata": {},
   "source": [
    "\n",
    "### 4.1.2 比较运算符 (关系运算符)\n",
    "\n",
    "运算符|<|<=|>|>=|==|!=\n",
    "----|----|----|----|----|----|----\n",
    "功能|小于|小于等于|大于|大于等于|等于|不等于|"
   ]
  },
  {
   "cell_type": "code",
   "execution_count": null,
   "metadata": {},
   "outputs": [],
   "source": [
    "# 关系运算符\n",
    "a =  5\n",
    "print(a == 5)\n",
    "b =  6\n",
    "print(a != b)"
   ]
  },
  {
   "cell_type": "markdown",
   "metadata": {},
   "source": [
    "### 4.1.3  赋值运算符\n",
    "#### 4.1.3.1 基本赋值与增量赋值\n",
    "#####  = 是最基本的赋值运算符\n",
    "数学运算符 `+` `-` `*` `/` `//` `%` `**` 和赋值运算符`=`组合成增量赋值。`x += 1` 等价于 `x = x + 1`\n",
    "\n",
    "|运算符|示例|等价于|\n",
    "|:---:|:---:|:---:|\n",
    "|=|x = 5|x=5|\n",
    "|+=| x += 5| x = x + 5|\n",
    "|-=|x -= 5|x = x - 5|\n",
    "|\\*=|x \\*=5|x = x \\* 5|\n",
    "|/=|x /= 5|x = x / 5|\n",
    "|//=|x //= 5|x = x // 5|\n",
    "|%=|x %= 5|x = x % 5|\n",
    "|\\*\\*=|x \\*\\*= 5|x = x \\*\\* 5|"
   ]
  },
  {
   "cell_type": "code",
   "execution_count": null,
   "metadata": {},
   "outputs": [],
   "source": [
    "# 赋值运算符\n",
    "\n",
    "a,b,c,d=100,23,50,10  # \n",
    "a -= 50     #  a = a - 50\n",
    "b += 7      #  b = b + 7\n",
    "c /= 5      #  c = c / 5\n",
    "d %= a      # \n",
    "print(a,b,c,d)"
   ]
  },
  {
   "cell_type": "markdown",
   "metadata": {},
   "source": [
    " \n",
    " ### 4.1.3.2 多重赋值\n",
    " `x = y = z = 1`\n",
    " \n",
    " 多重赋值也叫链式赋值，上例中值为1的整数对象被创建，对象的引用同时赋给了`x`、`y`、`z`。\n",
    " ### 4.1.3.3 多元赋值\n",
    " 多元赋值是将多个对象赋给多个变量，“=”两边个数要保持一致。\n",
    " \n",
    " `a,b,c = '祝福',2020,'!'`"
   ]
  },
  {
   "cell_type": "code",
   "execution_count": null,
   "metadata": {},
   "outputs": [],
   "source": [
    "# 测试下多重赋值与多元赋值\n",
    "x = y = z =1\n",
    "x"
   ]
  },
  {
   "cell_type": "code",
   "execution_count": null,
   "metadata": {},
   "outputs": [],
   "source": [
    "# 请写出输出结果，再运行程序验证\n",
    "a = 5\n",
    "b = 15\n",
    "a,b = b,a\n",
    "print(a,b)"
   ]
  },
  {
   "cell_type": "code",
   "execution_count": null,
   "metadata": {},
   "outputs": [],
   "source": []
  },
  {
   "cell_type": "markdown",
   "metadata": {},
   "source": [
    "### 4.1.4 逻辑运算符\n",
    "|运算符 |and | or|not|\n",
    "|:----:|:----:|:----:|:----:|\n",
    "|功能|与|或|非|\n",
    "|类比|串联电路|并联电路|开关|"
   ]
  },
  {
   "cell_type": "markdown",
   "metadata": {},
   "source": [
    "####  4.1.4.1 \\*逻辑运算与真值表\n",
    "\n",
    "逻辑运算符`and`、`or`、`not`是对逻辑值`True`和`False`进行运算。其运算规则可以用电路图来理解。下面电路图中，`A`和`B`是电路中的开关，开关断开为 `False`状态，开关闭合为`True`状态。\n",
    "\n",
    "#### 4.1.1.2 not\n",
    "___\n",
    "`not`是`非`运算，作用是“取反”，`not True`的结果为`False`，`not False`的结果为`True`。\n",
    "逻辑运算符`not`的真值表为\n",
    "\n",
    "not|A=True|A=Fasle\n",
    "---|---|---\n",
    "not A|False|True\n",
    "\n",
    "\n",
    "#### 4.1.4.2 and\n",
    "___\n",
    "`and`为`与`运算，类似串联电路，常用的形式为`A and B`，只有当开关`A`和`B`都闭合，整个电路才是“连通”的也即当`A`和`B`都是`True`时，`A and B`的结果也为`True`。`A`和`B`有一个或两个“断开”(`False`),整个电路也就“断开”，此时,`A and B`的结果为`False`。\n",
    "\n",
    "\n",
    "```                   \n",
    " ______/ A _______/ B ____       \n",
    "|_________@_______________|    \n",
    "\n",
    "```  \n",
    "逻辑运算符`and`的真值表为  \n",
    "\n",
    "A and B | A=True | A = Fasle\n",
    ":---|----:|----:\n",
    "B=True|True|Fasle\n",
    "B=Fasle|False|False\n",
    "\n",
    "\n",
    "#### 4.1.4.3 or\n",
    "___\n",
    "`or`为`或`运算，类似并联电路，常用的形式为`A or B`，只要开关`A`和`B`有一个闭合，整个电路就是“连通”的。也即当`A`和`B`有一个是`True`时，`A or B`的结果也为`True`。只有`A`和`B`同时“断开”(同为`False`),整个电路才“断开”，此时,`A or B`的结果为`False`。  \n",
    "\n",
    "\n",
    "```                \n",
    "_________/ A______________\n",
    "|________/ B______________|\n",
    "|________@________________|\n",
    "\n",
    "```\n",
    "逻辑运算符`or`的真值表为  \n",
    "\n",
    "A or B | A=True | A = Fasle\n",
    ":---|----:|----:\n",
    "B=True|True|True\n",
    "B=Fasle|True|False\n"
   ]
  },
  {
   "cell_type": "markdown",
   "metadata": {},
   "source": [
    "## 4.2 表达式\n",
    "表达式由一个或多个操作数与运算符组合而成。例如`2+3`由运算符`+`和操作数`2`和`3`两部分构成。\n",
    "\n",
    "逐行运行下列表达式，观察运行结果\n",
    "\n",
    "运算符|数学运算符|比较运算符|逻辑运算符\n",
    ":---:|:---:|:---:|:---:\n",
    "表达式|4\\*2|5>3|2<4 and 2==4\n",
    "表达式|4/2|2==4|2>4 or 2<4\n",
    "表达式|4//3|6.3<=6|not 6.2 <= 6\n",
    "表达式|4%2|6.2 <= 6.20001| 3<4<5\n",
    "表达式|4\\*\\*3||0 and 1\n"
   ]
  },
  {
   "cell_type": "code",
   "execution_count": null,
   "metadata": {},
   "outputs": [],
   "source": [
    "# 表达式练习\n"
   ]
  },
  {
   "cell_type": "markdown",
   "metadata": {},
   "source": [
    "## 4.3 项目练习\n",
    "\n",
    "[你会换披萨吗？](你会换披萨吗.ipynb)\n",
    "\n"
   ]
  },
  {
   "cell_type": "markdown",
   "metadata": {},
   "source": [
    "# 5 字符串\n",
    "python中字符串指引号之间的字符集合，单引号和双引号都是支持的。通过索引运算符`[]`和切片运算符`[:]`可以得到字符串的子集。加号`+`用于拼接字符串，星号`*`用于字符串复制。字符串的索引有两个方向，正向索引从`0`开始，即第一个字符的索引为`0`,第二个字符的索引为`1`。反向索引最后一个字符的索引为`-1`，倒数第二个字符为`-2`。\n",
    "\n",
    "## 5.1 切片\n",
    "切片是获得子集的重要方法。切片通过索引来定位子串的起止位置，起止范围是“左闭右开”的区间。切片`[a:b]`将得到索引`a`到`b-1`的子串。省略`a`将从索引`0`到`b-1`,省略`b`将得到索引`a`到最后一个字符的子串。\n",
    "\n",
    "pystr|I| |l|o|v|e| |P|y|t|h|o|n|!\n",
    "--|--|--|--|--|--|--|--|--|--|--|--|--|--|--\n",
    "正向索引|0|1|2|3|4|5|6|7|8|9|10|11|12|13\n",
    "反向索引|-14|-13|-12|-11|-10|-9|-8|-7|-6|-5|-4|-3|-2|-1\n",
    "\n",
    "`pystr = 'I love Python!'`\n",
    "- 切片`pystr[3:8]`将截取索引`3`到索引`7`的字符，包含索引`3`,但不包括索引`8`,输出'ove P'\n",
    "- 空格也是字符\n",
    "\n",
    "\n",
    "逐行运行下面的程序\n",
    "```\n",
    ">>>pystr = \"I love Python!\"\n",
    ">>>pystrs[0]\n",
    "'I'\n",
    ">>>pystr[-1]\n",
    "'!'\n",
    ">>>pystr[3:8]\n",
    "'ov P'\n",
    ">>>pystr[:5]   #等价于 pystr[0:5]\n",
    "'I lov'\n",
    ">>>pystr[2:]   #等价于 pystr[2:-1] 或pystr[2:14] \n",
    "'love Python!'\n",
    ">>>pystr + 'and you?'\n",
    "'I love Python!and you?'\n",
    ">>>len(pystr)\n",
    "14\n",
    ">>> 'python' * 2\n",
    "pythonpython\n",
    ">>>'#' * 10\n",
    "'##########'\n",
    ">>>\"    Do I have space?   \".strip()   #去掉两端空格\n",
    "'Do I have space'\n",
    "```\n"
   ]
  },
  {
   "cell_type": "code",
   "execution_count": 2,
   "metadata": {},
   "outputs": [
    {
     "data": {
      "text/plain": [
       "14"
      ]
     },
     "execution_count": 2,
     "metadata": {},
     "output_type": "execute_result"
    }
   ],
   "source": [
    "pystr = 'I love Python!'\n",
    "len(pystr)"
   ]
  },
  {
   "cell_type": "markdown",
   "metadata": {},
   "source": [
    "## 5.2 微项目 身份证算出生日期\n",
    "\n",
    "18位身份证的第7到14位数字为出生年月日，输入18位身份证号，计算出生日期。\n",
    "```\n",
    "#补充代码\n",
    "idstr = input(\"输入你的18位身份证号码：\")\n",
    "idstr.strip() #去掉首尾空格\n",
    "year  = \n",
    "month = \n",
    "day = \n",
    "print(\"你的出生日期为%s年%s月%s日\" %(year,month,day))\n",
    "```"
   ]
  },
  {
   "cell_type": "code",
   "execution_count": 13,
   "metadata": {
    "scrolled": true
   },
   "outputs": [
    {
     "name": "stdout",
     "output_type": "stream",
     "text": [
      "输入你的18位身份证号码：370303198108014515  \n",
      "你的出生日期为1981年08月01日\n"
     ]
    }
   ],
   "source": [
    "idstr = input(\"输入你的18位身份证号码：\")\n",
    "idstr.strip() #去掉首尾空格\n",
    "year  = idstr[6:10]\n",
    "month = idstr[10:12]\n",
    "day = idstr[12:14]\n",
    "print(\"你的出生日期为%s年%s月%s日\" %(year,month,day)) "
   ]
  },
  {
   "cell_type": "markdown",
   "metadata": {},
   "source": [
    "# 6 列表"
   ]
  },
  {
   "cell_type": "markdown",
   "metadata": {},
   "source": [
    "## 6.1 列表存储结构\n",
    "### 6.1.1列表适合表示的数据结构\n",
    "列表适合表示一维或二维结构数据\n",
    "- 一维结构\n",
    "\n",
    "数据：张三，18，高三3班，五中\n",
    "\n",
    "列表表示：student1=\\[\"张三\",18,\"高三3班\",\"五中\"\\]\n",
    "\n",
    "- 二维结构\n",
    "\n",
    "姓名|年龄|班级|学校\n",
    " --|--|--|--\n",
    "张三|18|高三3班|五中\n",
    "李四|18|高三2班|五中\n",
    "王五|17|高三3班|五中"
   ]
  },
  {
   "cell_type": "code",
   "execution_count": null,
   "metadata": {},
   "outputs": [],
   "source": [
    "# 列表表示\n",
    "studens = [\n",
    "    [\"张三\",18,\"高三3班\",\"五中\"],\n",
    "    [\"李四\",18,\"高三2班\",\"五中\"],\n",
    "    [\"王五\",17,\"高三3班\",\"五中\"]  \n",
    "]"
   ]
  },
  {
   "cell_type": "markdown",
   "metadata": {},
   "source": [
    "### 6.1.2列表的存储结构\n",
    "列表元素不管一维结构还是二维结构都是从0开始编号，对于二维结构，需要用二维地址表示。如下图，\n",
    "\n",
    "- student\\[0\\]的值为\\[\"张三\",18,\"高三3班\",\"五中\"\\]\n",
    "- student\\[2\\]的值为\\[\"王五\",17,\"高三3班\",\"五中\"\\]\n",
    "- student\\[0\\]\\[0\\] 的值为“张三”，\n",
    "- student\\[0\\]\\[1\\]的值为18，\n",
    "- student\\[1\\]\\[0\\]的值为“李四”，\n",
    "- student\\[1\\]\\[2\\]的值为“高三2班”\n",
    "\n",
    "student\n",
    "\n",
    "| 0|  -->  \\[\"张三\",18,\"高三3班\",\"五中\"\\]\n",
    "\n",
    "| 1|  -->   \\[\"李四\",18,\"高三2班\",\"五中\"\\]\n",
    "\n",
    "| 2|  -->   \\[\"王五\",17,\"高三3班\",\"五中\"\\]"
   ]
  },
  {
   "cell_type": "markdown",
   "metadata": {},
   "source": [
    "\n",
    "## 6.2 列表基本操作\n",
    "列表可以保存任意类型的python对象，通过索引访问对象。可以将列表想象成一列火车，每个元素占据一节车厢，不同车厢可以存放不同类型的数据，甚至某节车厢里可以再存放一列火车（列表里可以再包含另一个列表，可以无限嵌套下去）。和字符串一样，第一个对象的索引从`0`开始，通过切片获得子集，切片与字符串的切片方法一致。列表中的对象用逗号`,`隔开。\n",
    "\n",
    "- #### append():向列表中添加元素\n",
    "- #### remove():从列表中删除元素\n",
    "- #### insert():向列表中插入元素\n",
    "- #### len():求列表长度（包含的元素个数）\n",
    "\n",
    "\n",
    "```\n",
    "#逐行测试下面代码，观察输出\n",
    ">>>fruit = []         #创建一个空列表\n",
    ">>>fruit\n",
    "[]       \n",
    ">>>fruit.append(\"石榴\")  #添加一个字符串元素\n",
    ">>>fruit\n",
    "['石榴']\n",
    ">>>fruit.append(10)     #依次在列表尾部添加元素\n",
    ">>>fruit.append(\"香蕉\")\n",
    ">>>furit.append(\"梨子\")\n",
    ">>>fruit\n",
    "['石榴',10,'香蕉','梨子']\n",
    ">>>len(fruit)        #列表长度，列表对象的个数\n",
    "4\n",
    ">>>fruit[0] = \"苹果\"   #将列表第一个元素修改为字符串“苹果”\n",
    ">>>fruit\n",
    "['苹果',10,'香蕉','梨子']\n",
    ">>>fruit[1:3]\n",
    "[10,'香蕉']\n",
    ">>>del fruit[1]       #删除索引为1的元素\n",
    ">>>fruit\n",
    "['苹果','香蕉','梨子']\n",
    ">>>fruit.remove('香蕉') #按元素内容删除\n",
    ">>>fruit\n",
    "['苹果','梨子']\n",
    "```"
   ]
  },
  {
   "cell_type": "code",
   "execution_count": 24,
   "metadata": {},
   "outputs": [],
   "source": [
    "# 测试上面代码\n"
   ]
  },
  {
   "cell_type": "markdown",
   "metadata": {},
   "source": [
    "## 6.3 \\*列表排序\n",
    "`list.sort()`函数实现列表的排序，对于字符串对象，将按照其`ASCII`排序。`list.sort(reverse=True)`将实现逆序排序。\n",
    "\n",
    "```\n",
    "#逐行测试，观察输出\n",
    ">>>a = [2,5,7,3,5,1,8,9]\n",
    ">>>a.sort()\n",
    ">>>a\n",
    "[2,3,5,5,7,8,9]\n",
    ">>>a.sort(reverse=True)\n",
    ">>>a\n",
    "[9,8,7,5,5,3,2]\n",
    ">>>c = [\"中国\",\"日本\",\"韩国\",\"意大利\",\"塞尔维亚\"]\n",
    ">>>c.sort()\n",
    ">>>c\n",
    "['中国', '塞尔维亚', '意大利', '日本', '韩国']\n",
    "```\n",
    "\n",
    "`list.sort()`函数对可变对象会“原地排序”，即实际更改原列表对象的顺序,但没有返回值。要想排序后还保留原有的排列顺序，需要用到`sorted()`和`reversed()`函数\n",
    "\n",
    "```\n",
    ">>>b = [5,4,2,7,6,8,1]\n",
    ">>>sorted(b)     #只改变显示顺序，原列表顺序不变\n",
    "[1,2,4,5,6,7,8]\n",
    ">>>b\n",
    "[5,4,2,7,6,8,1]\n",
    ">>>b.sort()      #sort()改变原列表顺序，排序后的序列要通过print打印出来\n",
    ">>>print(b)\n",
    "[1,2,4,5,6,7,8]\n",
    ">>>b.sort(reverse=True)  #逆序排列，排序后的序列要通过print打印出来\n",
    ">>>print(b)\n",
    "[8,7,6,5,4,2,1]\n",
    ">>>bb=reversed(b)   #列表反转（与逆序不同），反转后的序列要通过print打印出来\n",
    ">>>print(list(bb))  \n",
    "[1,8,6,7,2,4,5]\n",
    ">>>b           #reversed()与sorted()一样不改变原列表顺序，只改变显示顺序\n",
    "[5,4,2,7,6,8,1]\n",
    "```"
   ]
  },
  {
   "cell_type": "code",
   "execution_count": 25,
   "metadata": {},
   "outputs": [
    {
     "name": "stdout",
     "output_type": "stream",
     "text": [
      "[5, 1, 4, 2, 6, 4]\n",
      "[4, 6, 2, 4, 1, 5]\n"
     ]
    }
   ],
   "source": [
    "# 请逐行测试上面代码，观察输出\n",
    "c = [4,6,2,4,1,5]\n",
    "cc=reversed(c)\n",
    "print(list(cc))\n",
    "print(c)"
   ]
  },
  {
   "cell_type": "markdown",
   "metadata": {},
   "source": [
    "## 6.4 成员操作符 in ,not in\n",
    "`in`和`not in`常用来检查一个对象是否在列表里\n",
    "\n",
    "```\n",
    ">>>school = ['一中','二中','三中','四中','五中','六中','七中']\n",
    ">>>'五中' in school\n",
    "True\n",
    ">>>'八中' in school\n",
    "False\n",
    ">>>'八中' not in school\n",
    "True\n",
    "```\n",
    "## 6.5 \\*列表解析\n",
    "列表解析是一种创建列表的方式。从形式上看，列表解析将`for`循环写在了一行上，通过变量`i`产生列表对象。\n",
    "\n",
    "```\n",
    "# 列表解析\n",
    ">>>pylist = [i**2 for i in [2,4,6,8]]\n",
    ">>>pylist\n",
    "[4,16,36,64]\n",
    ">>>pylist2 = [i for i in range(10) if i % 2 == 0]\n",
    ">>>pylist2\n",
    "[0,2,4,6,8]\n",
    "```\n"
   ]
  },
  {
   "cell_type": "code",
   "execution_count": null,
   "metadata": {},
   "outputs": [],
   "source": [
    "# in 与列表解析\n",
    "pylist = [i**2 for i in [2,4,6,8]] \n",
    "\n",
    "'''\n",
    "# 与下面for循环等价\n",
    "for i in [2,4,6,8]:\n",
    "    pylist.append(i**2)\n",
    "'''"
   ]
  },
  {
   "cell_type": "markdown",
   "metadata": {},
   "source": [
    "# 7 选择\n",
    "## 7.1 if  语句\n",
    "条件语句`if`用来实现选择，基本格式如下：\n",
    "``` \n",
    "#格式一\n",
    "if 表达式:\n",
    "    代码块\n",
    "\n",
    "```\n",
    "如果表达式的值为非`0`或`True`,代码块被执行，否则执行后面的语句。表达式不需要括号，但需要以`:`结尾，整个代码块要进行缩进。\n",
    "\n",
    "-----\n",
    "```\n",
    "格式二\n",
    "if 表达式:\n",
    "    代码块1\n",
    "else:\n",
    "    代码块2\n",
    "```\n",
    "如果表达式的值为非`0`或`True`,代码块被执行，否则执行`else`里的代码块2。代码块1，2都需要等量缩进，但同一层次的`if`和`else`要对齐。\n",
    "\n",
    "----\n",
    "\n",
    "```\n",
    "#格式三\n",
    "if 表达式1:\n",
    "    代码块1\n",
    "elif 表达式2:\n",
    "    代码块2\n",
    "elif 表达式3:\n",
    "    代码块3\n",
    "else:\n",
    "    代码块\n",
    "```\n",
    "理论上`elif`可以无限制添加下去，但`else`只能有一个，且要放在最后。每行`if`、`elif`、`else`都要对齐，而且以冒号`:`结尾。\n",
    "\n",
    "----\n",
    "在任何一组`if`,`elif`,`else`里的代码块，都可以嵌套任意以上三种格式的语句。嵌套的`if`语句要缩进对齐。\n",
    "\n",
    "#### 示例\n",
    "\n",
    "```\n",
    "# if-else 条件语句\n",
    "age =  int(input(\"请输入年龄：\"))\n",
    "if age >= 18:\n",
    "    print(\"你已经成年\")\n",
    "else:\n",
    "    print(\"你未满18周岁\")\n",
    "```\n",
    "----\n",
    "```\n",
    "# 多层选择 if-elif-else结构\n",
    "age =  int(input(\"请输入年龄：\"))\n",
    "if age >= 200:\n",
    "    print(\"何方神圣？\")\n",
    "elif age >= 90:\n",
    "    print(\"祝您长寿\")\n",
    "elif age >= 60:\n",
    "    print(\"祝您健康\")\n",
    "elif age >= 18:\n",
    "    print(\"你已成年\")\n",
    "else:\n",
    "    print(\"你未满18周岁\")\n",
    "```\n",
    "\n",
    "## 7.2 项目练习\n",
    "\n",
    "[计算最适宜的运动心律](运动心律实验单.ipynb)  \n",
    "\\*[验证注册密码](验证注册密码实验单.ipynb)"
   ]
  },
  {
   "cell_type": "code",
   "execution_count": null,
   "metadata": {},
   "outputs": [],
   "source": [
    "# 运行上面两个示例 \n"
   ]
  },
  {
   "cell_type": "markdown",
   "metadata": {},
   "source": [
    "# 8 循环\n",
    "\n",
    "重复性的操作可以用循环语句完成，`for`和`while`是主要的循环语句\n",
    "\n",
    "## 8.1 for 循环\n",
    "`for`循环往往和成员操作符`in`连用，基本格式如下。\n",
    "```\n",
    "for 循环变量 in 迭代对象:\n",
    "    循环体\n",
    "```\n",
    "迭代对象可以是字符串、元组、列表、字典等。  “迭代”可以理解为从中依次访问每个元素\n",
    "\n",
    " `for`循环有两个格式上的要点：\n",
    "- `for`所在行末端以冒号`:`结尾\n",
    "- 循环体中每一行都要“缩进”，每一层级的缩进程度要一致\n",
    "\n",
    "下面是个例子，循环体中只有`print()`一句，把列表里的元素依次打印出来。\n",
    "\n",
    "```\n",
    "#测试下面代码，观察输出\n",
    "for i in [1,2,3,4,5,\"香蕉\",\"苹果\",\"菠萝\"]:\n",
    "    print(i)\n",
    "```\n",
    "`for`循环另一个常用形式是和`range()`函数连用。`range()`函数会生成一组特定范围的数\n",
    "\n",
    "```\n",
    "# 分别测试下面两个`for`代码，观察输出\n",
    "for i in range(10):\n",
    "    print(i)\n",
    "    \n",
    "for j in range(2,10):\n",
    "    print(j)\n",
    "```"
   ]
  },
  {
   "cell_type": "markdown",
   "metadata": {},
   "source": [
    "### 8.2 for循环的执行顺序\n",
    "- 1. 循环变量初始化\n",
    "- 2. 判断循环变量是否满足循环条件\n",
    "- 3. 执行循环语句\n",
    "- 4. 循环变量取下一个值\n",
    "- 5. 重复2-4步，直到循环变量不满足循环条件"
   ]
  },
  {
   "cell_type": "code",
   "execution_count": 23,
   "metadata": {},
   "outputs": [
    {
     "name": "stdout",
     "output_type": "stream",
     "text": [
      "h\n",
      "e\n",
      "l\n",
      "l\n",
      "o\n"
     ]
    }
   ],
   "source": [
    "# 测试for循环\n",
    "for i in 'hello':\n",
    "    print(i)"
   ]
  },
  {
   "cell_type": "markdown",
   "metadata": {},
   "source": [
    "## 8.3 输出图形练习\n",
    "```\n",
    "#直角三角形\n",
    "for i in range(5):\n",
    "    print('@' * (i-1))\n",
    "\n",
    "#等要三角形\n",
    "for i in range(5):\n",
    "    print(' '*(5-i),'@'*(2*i+1))\n",
    "\n",
    "#菱形\n",
    "for i in range(5):\n",
    "    print(' '*(5-i),'@'*(2*i+1))\n",
    "for i in range(4):\n",
    "    print(' '*(2+i),'@'*(7-2*i))\n",
    "```"
   ]
  },
  {
   "cell_type": "code",
   "execution_count": 29,
   "metadata": {},
   "outputs": [
    {
     "name": "stdout",
     "output_type": "stream",
     "text": [
      "\n",
      "\n",
      "@\n",
      "@@\n",
      "@@@\n",
      "      @\n",
      "     @@@\n",
      "    @@@@@\n",
      "   @@@@@@@\n",
      "  @@@@@@@@@\n",
      "      @\n",
      "     @@@\n",
      "    @@@@@\n",
      "   @@@@@@@\n",
      "  @@@@@@@@@\n",
      "   @@@@@@@\n",
      "    @@@@@\n",
      "     @@@\n",
      "      @\n"
     ]
    }
   ],
   "source": [
    "#### 输出图形\n",
    "\n"
   ]
  },
  {
   "cell_type": "markdown",
   "metadata": {},
   "source": [
    "## 8.4 创建一副扑克牌\n",
    "\n",
    "在扑克牌游戏里，一副扑克牌有54张，每张扑克牌有三个基本属性：\n",
    " - 花色：\"黑桃\",\"红桃\",\"梅花\",\"方块\"\n",
    " - 面值：\"2\",\"3\",\"4\",\"5\",\"6\",\"7\",\"8\",\"9\",\"10\",\"J\",\"Q\",\"K\",\"A\",\"joker\",\"JOKER\"\n",
    " - 点数：2,3,4,5,6,7,8,9,10,11,12,13,14,15,16,17\n",
    " 点数是为了计算牌面大小用，可以根据不同游戏规则设定不同的值\n",
    " \n",
    " 创建一副牌，就是考虑用什么样的数据结构存储所有牌的这三个属性\n",
    " \n",
    " 下面三行代码用三个列表存储了每张牌所需要的属性（去掉大小王）。每张牌用一个三元组`(suit，face，figure)`来表示。\n",
    "```\n",
    "suit = [\"黑桃\",\"红桃\",\"梅花\",\"方块\"]  #花色\n",
    "face = [\"4\",\"5\",\"6\",\"7\",\"8\",\"9\",\"10\",\"J\",\"Q\",\"K\",\"A\",\"2\",\"3\"]  #面值\n",
    "figure = [i for i in range(4,17)]       #点数\n",
    "```\n",
    "我们将用两个for循环，按三元组的格式创建一副牌，创建好的牌有52张，存储在列表cards中。下面是组装一副牌的过程。\n",
    "```\n",
    "cards = [] #存储整副牌\n",
    "for j in suit:\n",
    "    for k in face:\n",
    "        v = value[face.index(k)]\n",
    "        cards.append((j,k,v))\n",
    "```\n",
    "你可以用`print(cards)`看一下你的牌\n",
    "\n",
    "## 8.5 项目练习\n",
    "[验证抛硬币概率](验证抛硬币概率实验单ipynb)  \n"
   ]
  },
  {
   "cell_type": "code",
   "execution_count": null,
   "metadata": {},
   "outputs": [],
   "source": [
    "# 用for循环创建一副扑克牌\n"
   ]
  },
  {
   "cell_type": "markdown",
   "metadata": {},
   "source": [
    "# 9 while 循环\n",
    "\n",
    "`while`循环又叫“条件循环”，当循环条件成立时（True）时，才执行循环体。其语法格式如下。\n",
    "```\n",
    "while 关系表达式:\n",
    "    循环体\n",
    "```\n",
    "和`for`循环有相似之处，`while`所在行以冒号`:`结尾，循环体按层级缩进。\n",
    "\n",
    "使用`while`循环要注意三个地方：\n",
    "- 一般`while`外面会有一个循环标记，下面例子里是`s=0`，它将记录循环次数。\n",
    "- 每循环一次，循环体内都要检查循环标记是否需要修改，例子里是`s += 10`\n",
    "- `while`会自动计算关系表达式`s<=50`的值，当值为`False`时，终止`while`循环。\n",
    "\n",
    "```\n",
    "#一个简单例子\n",
    "s = 0\n",
    "while s<=50:\n",
    "    s += 10\n",
    "    print(s)\n",
    "```\n"
   ]
  },
  {
   "cell_type": "code",
   "execution_count": null,
   "metadata": {},
   "outputs": [],
   "source": [
    "# 测试 while"
   ]
  },
  {
   "cell_type": "markdown",
   "metadata": {},
   "source": [
    "## 9.1 for 与while\n",
    "\n",
    "`for`循环与`while`循环在一定程度上是可以相互转化的，一般优先选用`for`循环。`for`循环是靠循环次数来判断是否需要继续循环。当无法确定循环次数的时候，需要在循环体中设置循环条件。或者使用`while`循环了。在循环次数不确定的情况下，`while`循环体里必须要检查循环标记的状态，是否需要修改以退出循环。"
   ]
  },
  {
   "cell_type": "markdown",
   "metadata": {},
   "source": [
    "## 9.2 游戏循环设计\n",
    "\n",
    "任何一款游戏中，用户一旦进入游戏，就进入了游戏循环，直到触发退出游戏的条件，比如人为i关闭，game over 或者需要充值，游戏才会结束。由于无法确定用户会在游戏里呆多久，用`while`实现游戏循环是比较合适的。\n",
    "\n",
    "下面的例子模拟游戏循环，程序会一直循环，直到输入‘q’键，程序退出。\n",
    "\n",
    "```\n",
    "going = True      #循环标记\n",
    "while going:\n",
    "    key = input(\"这是游戏循环，‘q'键退出，任意键继续……\")\n",
    "    \n",
    "    # 检查循环标记状态，当触发退出条件时，修改循环标记的值\n",
    "    if key == 'q':\n",
    "        going = False      \n",
    "        print(\"game over\")\n",
    "```\n"
   ]
  },
  {
   "cell_type": "code",
   "execution_count": 16,
   "metadata": {},
   "outputs": [
    {
     "name": "stdout",
     "output_type": "stream",
     "text": [
      "这是游戏循环，‘q'键退出，任意键继续……gff\n",
      "这是游戏循环，‘q'键退出，任意键继续……ee\n",
      "这是游戏循环，‘q'键退出，任意键继续……yty\n",
      "这是游戏循环，‘q'键退出，任意键继续……ee\n",
      "这是游戏循环，‘q'键退出，任意键继续……ee\n",
      "这是游戏循环，‘q'键退出，任意键继续……ee\n",
      "这是游戏循环，‘q'键退出，任意键继续……ee\n",
      "这是游戏循环，‘q'键退出，任意键继续……etggg\n",
      "这是游戏循环，‘q'键退出，任意键继续……\n",
      "这是游戏循环，‘q'键退出，任意键继续……q\n",
      "game over\n"
     ]
    }
   ],
   "source": [
    "# 游戏循环设计\n",
    "going = True      #循环标记\n",
    "while going:\n",
    "    key = input(\"这是游戏循环，‘q'键退出，任意键继续……\")\n",
    "    \n",
    "    # 检查循环标记状态，当触发退出条件时，修改循环标记的值\n",
    "    if key == 'q':\n",
    "        going = False      \n",
    "        print(\"game over\")"
   ]
  },
  {
   "cell_type": "markdown",
   "metadata": {},
   "source": [
    "## 9.3 项目练习\n",
    "[求三同点色子](三同点色子实验单.ipynb)"
   ]
  },
  {
   "cell_type": "markdown",
   "metadata": {},
   "source": [
    "# 10 综合练习\n",
    "\n",
    "[扑克牌游戏](扑克牌游戏.ipynb)"
   ]
  }
 ],
 "metadata": {
  "kernelspec": {
   "display_name": "Python 3",
   "language": "python",
   "name": "python3"
  },
  "language_info": {
   "codemirror_mode": {
    "name": "ipython",
    "version": 3
   },
   "file_extension": ".py",
   "mimetype": "text/x-python",
   "name": "python",
   "nbconvert_exporter": "python",
   "pygments_lexer": "ipython3",
   "version": "3.6.5"
  },
  "toc": {
   "base_numbering": 1,
   "nav_menu": {
    "height": "65px",
    "width": "165px"
   },
   "number_sections": true,
   "sideBar": true,
   "skip_h1_title": true,
   "title_cell": "Table of Contents",
   "title_sidebar": "Contents",
   "toc_cell": false,
   "toc_position": {
    "height": "calc(100% - 180px)",
    "left": "10px",
    "top": "150px",
    "width": "256px"
   },
   "toc_section_display": true,
   "toc_window_display": true
  }
 },
 "nbformat": 4,
 "nbformat_minor": 2
}

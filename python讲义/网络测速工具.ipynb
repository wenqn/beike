{
 "cells": [
  {
   "cell_type": "markdown",
   "metadata": {},
   "source": [
    "## 网络测速工具"
   ]
  },
  {
   "cell_type": "markdown",
   "metadata": {},
   "source": [
    "本案例需要下载speedtest-cli包，安装了python后,在命令提示符下用python自带工具pip进行安装"
   ]
  },
  {
   "cell_type": "markdown",
   "metadata": {},
   "source": [
    "### 下载安装speedtest-cli包，首先启动命令提示符\n",
    "c:\\> pip install speedtest-cli"
   ]
  },
  {
   "cell_type": "markdown",
   "metadata": {},
   "source": [
    "完成speedtest-cli包的安装后，就可以进行编写，下面是网络测速代码。"
   ]
  },
  {
   "cell_type": "code",
   "execution_count": 3,
   "metadata": {
    "scrolled": true
   },
   "outputs": [
    {
     "name": "stdout",
     "output_type": "stream",
     "text": [
      "准备测试………\n",
      "正在测试…………\n",
      "下载速度：20Mbits\n",
      "上传速度：24Mbits\n"
     ]
    }
   ],
   "source": [
    "# 导入 speedtest \n",
    "import speedtest\n",
    "\n",
    "print(\"准备测试………\")\n",
    "\n",
    "# 创建speedtest实例对象\n",
    "test = speedtest.Speedtest()\n",
    "\n",
    "#获取测速服务器列表\n",
    "test.get_servers()\n",
    "\n",
    "\n",
    "#选择最佳服务器\n",
    "best = test.get_best_server()\n",
    "\n",
    "print(\"正在测试…………\")\n",
    "\n",
    "#下载速度，test.download()单位是bps（bit/s），我们转换成Mbps\n",
    "download_speed = int(test.download() / 1024 /1024 )\n",
    "\n",
    "#上传速度，test.upload()单位是bps（bit/s），我们转换成Mbps\n",
    "upload_speed = int(test.upload() /1024 /1024)\n",
    "\n",
    "print(\"下载速度：\" + str(download_speed) + \"Mbps\")\n",
    "print(\"上传速度：\" + str(upload_speed) + \"Mbps\")"
   ]
  },
  {
   "cell_type": "markdown",
   "metadata": {},
   "source": [
    "中科大网络测速中心 https://test.ustc.edu.cn/\n",
    "\n",
    "测速网  https://www.speedtest.cn/\n"
   ]
  }
 ],
 "metadata": {
  "kernelspec": {
   "display_name": "Python 3",
   "language": "python",
   "name": "python3"
  },
  "language_info": {
   "codemirror_mode": {
    "name": "ipython",
    "version": 3
   },
   "file_extension": ".py",
   "mimetype": "text/x-python",
   "name": "python",
   "nbconvert_exporter": "python",
   "pygments_lexer": "ipython3",
   "version": "3.6.5"
  }
 },
 "nbformat": 4,
 "nbformat_minor": 2
}

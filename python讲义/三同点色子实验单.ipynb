{
 "cells": [
  {
   "cell_type": "markdown",
   "metadata": {
    "hide_input": false,
    "slideshow": {
     "slide_type": "slide"
    }
   },
   "source": [
    "# 利用随机性思想模拟计算机猜骰子点数 实验报告单\n",
    "\n",
    "## 游戏定义\n",
    "\n",
    "一共有5个骰子，每个骰子有6个面，每个面显示从1到6的一个点数。\n",
    "模拟这样一个过程，用户掷出5个骰子，  如果有3个骰子的点数一样，输出“三同点”  如果有4个骰子的点数一样，输出“四同点”  如果5个骰子的点数都一样，输出“五同点”  \n",
    "\n",
    "实验输入：运行游戏  \n",
    "\n",
    "实验输出：打印五个骰子的点数，及判断是几点相同，  \n",
    "\n",
    "  \t     提示“按回车键继续，其他键退出“  \n",
    "         \n",
    "例：实验输出：你掷的骰子为：[1,2,3,2,2]  \n",
    "\n",
    "\t         三同点  \n",
    "             \n",
    "\t         按回车键继续，其他键退出  \n",
    "             \n",
    "\n",
    "\n",
    "## 思路分析\n",
    "\n",
    "对下面的步骤进行排序  \n",
    "a.用列表定义骰子   \n",
    "b.产生随机数   \n",
    "c.检查骰子点数   \n",
    "d.进入游戏循环   \n",
    "e.输出筛子点数及分数   \n",
    "f.退出游戏"
   ]
  },
  {
   "cell_type": "markdown",
   "metadata": {
    "slideshow": {
     "slide_type": "slide"
    }
   },
   "source": [
    "## 实验过程"
   ]
  },
  {
   "cell_type": "markdown",
   "metadata": {
    "slideshow": {
     "slide_type": "slide"
    }
   },
   "source": [
    "### 1.用列表定义骰子 "
   ]
  },
  {
   "cell_type": "code",
   "execution_count": 17,
   "metadata": {
    "code_folding": [],
    "slideshow": {
     "slide_type": "subslide"
    }
   },
   "outputs": [
    {
     "name": "stdout",
     "output_type": "stream",
     "text": [
      "[0, 0, 0, 0, 0]\n"
     ]
    }
   ],
   "source": [
    "#初始化5个骰子\n",
    "dice = [0,0,0,0,0]\n",
    "print(dice)"
   ]
  },
  {
   "cell_type": "markdown",
   "metadata": {
    "slideshow": {
     "slide_type": "subslide"
    }
   },
   "source": [
    "##### 关于列表的复习练习（可以选做）\n",
    "仿照例子在jupyter notebook中写出表示下列点数组合的语句并用`print()`函数检查结果\n",
    "\n",
    "- a.都是点数3的组合\n",
    "- b.3,3,4,2,5\n",
    "- c.5,5,5,3,2,6,7,4,7\n",
    "- d.“你好”,\"nihao\",2,3,-3"
   ]
  },
  {
   "cell_type": "code",
   "execution_count": null,
   "metadata": {
    "collapsed": true,
    "slideshow": {
     "slide_type": "subslide"
    }
   },
   "outputs": [],
   "source": [
    "#列表复习练习代码写在下面\n"
   ]
  },
  {
   "cell_type": "markdown",
   "metadata": {
    "slideshow": {
     "slide_type": "slide"
    }
   },
   "source": [
    "### 2.生成随机数\n",
    "#### 2.1生成单个随机数\n",
    "多次运行 `r=random.randint(1,6)`，用`print()`函数观察输出范围，是否包含边界`1`和`6`"
   ]
  },
  {
   "cell_type": "code",
   "execution_count": null,
   "metadata": {
    "collapsed": true,
    "slideshow": {
     "slide_type": "subslide"
    }
   },
   "outputs": [],
   "source": [
    "import random #导入random包，必要步骤\n",
    "r = random.randint(1,6)\n",
    "print(r)"
   ]
  },
  {
   "cell_type": "markdown",
   "metadata": {
    "slideshow": {
     "slide_type": "slide"
    }
   },
   "source": [
    "#### 2.2用循环生成一组随机数\n",
    "补全代码，生成5个随机数，保存在数组dice中\n"
   ]
  },
  {
   "cell_type": "code",
   "execution_count": null,
   "metadata": {
    "collapsed": true,
    "slideshow": {
     "slide_type": "subslide"
    }
   },
   "outputs": [],
   "source": [
    "#用 for 循环生成5个1-6之间的随机正整数\n",
    "import random #导入随机包，必要步骤\n",
    "dice = [0,0,0,0,0] #初始化数组\n",
    "for i in range(5):\n",
    "    #请补全下面一句代码，随机产生5个骰子的点数\n",
    "    \n",
    "print(dice)"
   ]
  },
  {
   "cell_type": "markdown",
   "metadata": {
    "slideshow": {
     "slide_type": "slide"
    }
   },
   "source": [
    "### 3.游戏循环设计\n",
    "用户从运行游戏开始，就进入游戏循环，直到点击关闭按钮或者game over，或者满足其他退出游戏条件退出。\n",
    "运行下面语句，体会循环标签going的作用"
   ]
  },
  {
   "cell_type": "code",
   "execution_count": null,
   "metadata": {
    "collapsed": true,
    "slideshow": {
     "slide_type": "subslide"
    }
   },
   "outputs": [],
   "source": [
    "#游戏循环结构\n",
    "going = True\n",
    "while going:\n",
    "    print(\"这里是循环内容，一会要替换成检查骰子点数的语句\")\n",
    "    going = (input(\"按回车键继续，任意键退出\") == \"\")"
   ]
  },
  {
   "cell_type": "markdown",
   "metadata": {
    "slideshow": {
     "slide_type": "subslide"
    }
   },
   "source": [
    "####  体会退出条件语句\n",
    "观察gong1与gong2的输出结果"
   ]
  },
  {
   "cell_type": "code",
   "execution_count": 34,
   "metadata": {
    "slideshow": {
     "slide_type": "subslide"
    }
   },
   "outputs": [
    {
     "name": "stdout",
     "output_type": "stream",
     "text": [
      "按回车键继续，任意键退出e\n",
      "False\n",
      "按回车键继续，任意键退出r\n",
      "r\n"
     ]
    }
   ],
   "source": [
    "going1 = input(\"按回车键继续，任意键退出\") == \"\"\n",
    "print (going1)\n",
    "going2 = input(\"按回车键继续，任意键退出\")\n",
    "print (going2)"
   ]
  },
  {
   "cell_type": "code",
   "execution_count": null,
   "metadata": {
    "collapsed": true
   },
   "outputs": [],
   "source": []
  },
  {
   "cell_type": "markdown",
   "metadata": {
    "slideshow": {
     "slide_type": "slide"
    }
   },
   "source": [
    "### 4.猜骰子算法\n",
    "#### 4.1【列举】列举5个骰子都相同的所有组合，列举4个骰子相同的所有组合\n",
    "#### 4.2【讨论】如何取消复杂的if控制语句？\n",
    "\n",
    "#### 4.3算法分析\n",
    "\t先排序，比较第一个和最后一个，相同这是5个连同点数，否则比较第一个和倒数第二个并且第二个和最后一个，若相同则为4同点，否则比较_____________若都相同，则为3同点\n",
    "\n"
   ]
  },
  {
   "cell_type": "code",
   "execution_count": null,
   "metadata": {
    "collapsed": true,
    "slideshow": {
     "slide_type": "subslide"
    }
   },
   "outputs": [],
   "source": [
    "  \n",
    "    dice = [0,0,0,0,0]\n",
    "    for i in range(5):\n",
    "        dice[i] = random.randint(1,6)\n",
    "    print(\"你掷的骰子：\",dice)\n",
    "    dice.sort()\n",
    "    if dice[0] == dice[4]:\n",
    "        print(\"五同点\")\n",
    "    elif dice[0] == dice[3] or dice[1] == dice[4]:\n",
    "        print(\"四同点\")\n",
    "    elif ****                           # 请把该条件语句填充完整\n",
    "        print(\"三同点\")\n"
   ]
  },
  {
   "cell_type": "markdown",
   "metadata": {
    "slideshow": {
     "slide_type": "slide"
    }
   },
   "source": [
    "#### 4.4 排序函数sort的练习 "
   ]
  },
  {
   "cell_type": "code",
   "execution_count": null,
   "metadata": {
    "collapsed": true,
    "slideshow": {
     "slide_type": "subslide"
    }
   },
   "outputs": [],
   "source": [
    "dice = [2,4,6,8,3,2,5,4,1,8,8]\n",
    "dice.sort()\n",
    "print(dice)"
   ]
  },
  {
   "cell_type": "markdown",
   "metadata": {},
   "source": [
    "### 5.把所有语句整合起来"
   ]
  },
  {
   "cell_type": "code",
   "execution_count": null,
   "metadata": {
    "collapsed": true
   },
   "outputs": [],
   "source": [
    "#掷骰子\n",
    "import random\n",
    "\n",
    "\n",
    "while     \n",
    "\n",
    "\n",
    "\n",
    "\n",
    "\n"
   ]
  }
 ],
 "metadata": {
  "celltoolbar": "Slideshow",
  "kernelspec": {
   "display_name": "Python 3",
   "language": "python",
   "name": "python3"
  },
  "language_info": {
   "codemirror_mode": {
    "name": "ipython",
    "version": 3
   },
   "file_extension": ".py",
   "mimetype": "text/x-python",
   "name": "python",
   "nbconvert_exporter": "python",
   "pygments_lexer": "ipython3",
   "version": "3.6.5"
  },
  "toc": {
   "base_numbering": 1,
   "nav_menu": {},
   "number_sections": true,
   "sideBar": true,
   "skip_h1_title": false,
   "title_cell": "Table of Contents",
   "title_sidebar": "Contents",
   "toc_cell": false,
   "toc_position": {},
   "toc_section_display": true,
   "toc_window_display": false
  }
 },
 "nbformat": 4,
 "nbformat_minor": 1
}

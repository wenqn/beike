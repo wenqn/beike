{
 "cells": [
  {
   "cell_type": "markdown",
   "metadata": {},
   "source": [
    "## 计算最适宜的运动心律  实验单"
   ]
  },
  {
   "cell_type": "markdown",
   "metadata": {},
   "source": [
    "### 说明\n",
    "\n",
    "给定一个人的年龄、性别和安静时的心率，可以根据公式计算出最适宜的心率范围。运动手环有个基本功能是计算实时心率，人们希望如果所测心率超出最适宜心率范围，最好能给出提醒，应该加强锻炼还是需要降低活动强度。\n",
    "\n",
    "\n",
    "#### 最适宜运动心率计算公式\n",
    "- 最低适宜运动心律 `low  = (性别参数 - 年龄 - 安静时心率) * 0.6 + 安静时心率`\n",
    "- 最高适宜运动心律 `high = (性别参数 - 年龄 - 安静时心率) * 0.8 + 安静时心率`\n",
    "- 性别参数，男性=`220`，女性=`210`"
   ]
  },
  {
   "cell_type": "markdown",
   "metadata": {},
   "source": [
    "### IPO分析\n",
    "\n",
    "* I：输入部分一般充当自变量，即公式中的 性别参数，年龄，安静时心率，分别用变量 `sex`,`age`,`HRrest` 表示。用3个`input()`语句来获取这三个变量值。\n",
    "* P：输出部分一般充当因变量，即公式中的 最低，最高适宜运动心律，分别用变量`low`，`high` 表示。用`print()`语句将其打印出来。\n",
    "* O：处理过程，分成两部分，一是根据性别选择不同性别参数，二是套入公式进行计算。\n",
    "\n",
    "根据性别选择不同参数，是程序设计中典型的选择结构（或叫分支结构）。几乎绝大部分编程语言中都采用 `if-else`的结构表示选择过程，python也不例外。"
   ]
  },
  {
   "cell_type": "code",
   "execution_count": null,
   "metadata": {},
   "outputs": [],
   "source": [
    "# if-else 选择结构\n",
    "age =  int(input(\"请输入年龄：\"))\n",
    "if age >= 18:\n",
    "    print(\"你已经成年\")\n",
    "else:\n",
    "    print(\"你未满18周岁\")"
   ]
  },
  {
   "cell_type": "code",
   "execution_count": null,
   "metadata": {},
   "outputs": [],
   "source": [
    "# 多层选择 if-elif-else结构\n",
    "age =  int(input(\"请输入年龄：\"))\n",
    "if age >= 18:\n",
    "    print(\"你已经成年\")\n",
    "elif age >= 60:\n",
    "    print(\"祝您健康\")\n",
    "elif age >= 90:\n",
    "    print(\"祝您长寿\")\n",
    "elif age >= 200:\n",
    "    print(\"何方物种？\")\n",
    "else:\n",
    "    print(\"你未满18周岁\")"
   ]
  },
  {
   "cell_type": "markdown",
   "metadata": {},
   "source": [
    "对比下面程序与上面程序的不同"
   ]
  },
  {
   "cell_type": "code",
   "execution_count": null,
   "metadata": {},
   "outputs": [],
   "source": [
    "# 多层选择 if-elif-else结构\n",
    "age =  int(input(\"请输入年龄：\"))\n",
    "if age >= 200:\n",
    "    print(\"何方神圣\")\n",
    "elif age >= 90:\n",
    "    print(\"祝您长寿\")\n",
    "elif age >= 60:\n",
    "    print(\"祝您健康\")\n",
    "elif age >= 18:\n",
    "    print(\"你已成年\")\n",
    "else:\n",
    "    print(\"你未满18周岁\")"
   ]
  },
  {
   "cell_type": "markdown",
   "metadata": {},
   "source": [
    "### 实验示例\n",
    "\n",
    "从键盘输入：\n",
    "- 你的年龄：20\n",
    "- 你的安静心率：70\n",
    "- 你的性别：男\n",
    "\n",
    "从屏幕输出：\n",
    "- 你的适宜运动心律范围为：148——174"
   ]
  },
  {
   "cell_type": "markdown",
   "metadata": {},
   "source": [
    "### 实验过程"
   ]
  },
  {
   "cell_type": "code",
   "execution_count": null,
   "metadata": {},
   "outputs": [],
   "source": [
    "# 计算最适宜运动心律\n",
    "\n",
    "age = int(input(\"你的年龄：\"))\n",
    "HRrest = float(input(\"你的安静心率：\"))\n",
    "sex = input(\"你的性别：\")\n",
    "\n",
    "# 请补充选择结构代码，给性别参数sex赋值\n",
    "if sex == '男':   #**** 补充该句\n",
    "    n = 220       #**** 补充该句\n",
    "else:\n",
    "    n = 210       \n",
    "    \n",
    "low = (n - age - HRrest) * 0.6 + HRrest\n",
    "high= (n - age - HRrest) * 0.8 + HRrest\n",
    "\n",
    "print(\"你的适宜运动心率范围为：%d——%d\" % (low,high))"
   ]
  },
  {
   "cell_type": "code",
   "execution_count": null,
   "metadata": {},
   "outputs": [],
   "source": [
    "### 扩展\n",
    "\n",
    "#### print() 格式化输出\n",
    "a = \"你好\"\n",
    "b = \"world\"\n",
    "c = 5\n",
    "print(\"a=%s,b=%s,c=%f\" %(a,b,c))"
   ]
  }
 ],
 "metadata": {
  "kernelspec": {
   "display_name": "Python 3",
   "language": "python",
   "name": "python3"
  },
  "language_info": {
   "codemirror_mode": {
    "name": "ipython",
    "version": 3
   },
   "file_extension": ".py",
   "mimetype": "text/x-python",
   "name": "python",
   "nbconvert_exporter": "python",
   "pygments_lexer": "ipython3",
   "version": "3.6.5"
  },
  "toc": {
   "base_numbering": 1,
   "nav_menu": {},
   "number_sections": true,
   "sideBar": true,
   "skip_h1_title": false,
   "title_cell": "Table of Contents",
   "title_sidebar": "Contents",
   "toc_cell": false,
   "toc_position": {},
   "toc_section_display": true,
   "toc_window_display": false
  }
 },
 "nbformat": 4,
 "nbformat_minor": 2
}

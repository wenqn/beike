{
 "cells": [
  {
   "cell_type": "markdown",
   "metadata": {},
   "source": [
    "## Python 语法基础  课时版"
   ]
  },
  {
   "cell_type": "markdown",
   "metadata": {},
   "source": [
    "## 第一课时"
   ]
  },
  {
   "cell_type": "markdown",
   "metadata": {},
   "source": [
    "### 注释\n",
    "#### 注释有两种，单行注释用符号#，多行注释用三对单引号，'''   '''或3对多引号 \"\"\"   \"\"\""
   ]
  },
  {
   "cell_type": "code",
   "execution_count": 1,
   "metadata": {},
   "outputs": [
    {
     "name": "stdout",
     "output_type": "stream",
     "text": [
      "Hello, Python!\n"
     ]
    }
   ],
   "source": [
    "#!/usr/bin/python3\n",
    " \n",
    "# 第一个注释\n",
    "# 第二个注释\n",
    " \n",
    "'''\n",
    "第三注释\n",
    "第四注释\n",
    "'''\n",
    " \n",
    "\"\"\"\n",
    "第五注释\n",
    "第六注释\n",
    "\"\"\"\n",
    "print (\"Hello, Python!\")#只有这一行程序被执行"
   ]
  },
  {
   "cell_type": "markdown",
   "metadata": {},
   "source": [
    "### 缩进\n",
    "#### 缩进的空格数是可变的，但是同一个代码块的语句必须包含相同的缩进空格数。一般选4或8个空格。实例如下："
   ]
  },
  {
   "cell_type": "code",
   "execution_count": 4,
   "metadata": {},
   "outputs": [
    {
     "name": "stdout",
     "output_type": "stream",
     "text": [
      "Answer\n",
      "True\n"
     ]
    }
   ],
   "source": [
    "\n",
    "if True:\n",
    "    print (\"Answer\")\n",
    "    print (\"True\")\n",
    "else:\n",
    "    print (\"Answer\")\n",
    "    print (\"False\")    # 缩进不一致，会导致运行错误"
   ]
  },
  {
   "cell_type": "markdown",
   "metadata": {},
   "source": [
    "### 输入法\n",
    "#### 除了必要的汉字，一律用英法输入法，<b>特别注意各类标点符号的一律用英文输入法<b>"
   ]
  },
  {
   "cell_type": "code",
   "execution_count": 28,
   "metadata": {},
   "outputs": [
    {
     "ename": "SyntaxError",
     "evalue": "invalid character in identifier (<ipython-input-28-19cb6f8cc300>, line 2)",
     "output_type": "error",
     "traceback": [
      "\u001b[1;36m  File \u001b[1;32m\"<ipython-input-28-19cb6f8cc300>\"\u001b[1;36m, line \u001b[1;32m2\u001b[0m\n\u001b[1;33m    str1 = “这是一个字符串”\u001b[0m\n\u001b[1;37m                   ^\u001b[0m\n\u001b[1;31mSyntaxError\u001b[0m\u001b[1;31m:\u001b[0m invalid character in identifier\n"
     ]
    }
   ],
   "source": [
    "# 注意输入法\n",
    "str1 = “这是一个字符串”\n",
    "str2 = \"这是一个字符串\"\n",
    "print(str2)\n",
    "print（str2）"
   ]
  },
  {
   "cell_type": "markdown",
   "metadata": {},
   "source": [
    "### 输入输出\n",
    "- #### 输出：print()    向屏幕输出内容\n",
    "- #### 输入：input()    从键盘输入内容"
   ]
  },
  {
   "cell_type": "code",
   "execution_count": 8,
   "metadata": {},
   "outputs": [
    {
     "name": "stdout",
     "output_type": "stream",
     "text": [
      "hello\n",
      "hello Tom\n"
     ]
    }
   ],
   "source": [
    "# 输出\n",
    "print(\"hello\")     # 引号里面的内容原样输出，单引号，双引号都合法\n",
    "name = \"Tom\"\n",
    "print(\"hello\",name)# 变量名不能加引号，直接书写"
   ]
  },
  {
   "cell_type": "code",
   "execution_count": 9,
   "metadata": {},
   "outputs": [
    {
     "name": "stdout",
     "output_type": "stream",
     "text": [
      "你的名字：Tom\n",
      "Tom\n"
     ]
    }
   ],
   "source": [
    "#输入\n",
    "name = input(\"你的名字：\")\n",
    "print(name)"
   ]
  },
  {
   "cell_type": "markdown",
   "metadata": {},
   "source": [
    "## 变量\n",
    "#### 变量使用前要赋值\n",
    "#### 变量名的命名规则\n",
    " - 由字母、数字、下划线组成，但不能以数字开头\n",
    " - 大小写敏感（区分大小写）\n",
    " - 不能使用保留字"
   ]
  },
  {
   "cell_type": "code",
   "execution_count": 27,
   "metadata": {},
   "outputs": [
    {
     "ename": "NameError",
     "evalue": "name 'n' is not defined",
     "output_type": "error",
     "traceback": [
      "\u001b[1;31m---------------------------------------------------------------------------\u001b[0m",
      "\u001b[1;31mNameError\u001b[0m                                 Traceback (most recent call last)",
      "\u001b[1;32m<ipython-input-27-84555b9b9a8f>\u001b[0m in \u001b[0;36m<module>\u001b[1;34m\u001b[0m\n\u001b[0;32m      1\u001b[0m \u001b[1;31m# 变量可以直接使用，但使用前要赋值\u001b[0m\u001b[1;33m\u001b[0m\u001b[1;33m\u001b[0m\u001b[1;33m\u001b[0m\u001b[0m\n\u001b[1;32m----> 2\u001b[1;33m \u001b[0mn\u001b[0m\u001b[1;33m\u001b[0m\u001b[1;33m\u001b[0m\u001b[0m\n\u001b[0m\u001b[0;32m      3\u001b[0m \u001b[0mprint\u001b[0m\u001b[1;33m(\u001b[0m\u001b[0mn\u001b[0m\u001b[1;33m)\u001b[0m\u001b[1;33m\u001b[0m\u001b[1;33m\u001b[0m\u001b[0m\n",
      "\u001b[1;31mNameError\u001b[0m: name 'n' is not defined"
     ]
    }
   ],
   "source": [
    "# 变量可以直接使用，但使用前要赋值\n",
    "n\n",
    "print(n)"
   ]
  },
  {
   "cell_type": "code",
   "execution_count": 12,
   "metadata": {},
   "outputs": [
    {
     "name": "stdout",
     "output_type": "stream",
     "text": [
      "张三\n",
      "李四\n"
     ]
    }
   ],
   "source": [
    "# 大小写敏感\n",
    "name = \"张三\"\n",
    "Name = \"李四\"\n",
    "print(name)\n",
    "print(Name)"
   ]
  },
  {
   "cell_type": "code",
   "execution_count": 25,
   "metadata": {},
   "outputs": [
    {
     "ename": "SyntaxError",
     "evalue": "invalid syntax (<ipython-input-25-2284327b9366>, line 3)",
     "output_type": "error",
     "traceback": [
      "\u001b[1;36m  File \u001b[1;32m\"<ipython-input-25-2284327b9366>\"\u001b[1;36m, line \u001b[1;32m3\u001b[0m\n\u001b[1;33m    5age   = 20\u001b[0m\n\u001b[1;37m     ^\u001b[0m\n\u001b[1;31mSyntaxError\u001b[0m\u001b[1;31m:\u001b[0m invalid syntax\n"
     ]
    }
   ],
   "source": [
    "# 变量名\n",
    "age5   = 18  \n",
    "5age   = 20  \n",
    "age_5  = 22  \n",
    "age5_  = 24  \n"
   ]
  },
  {
   "cell_type": "code",
   "execution_count": 13,
   "metadata": {},
   "outputs": [
    {
     "name": "stdout",
     "output_type": "stream",
     "text": [
      "26\n",
      "28\n",
      "30\n",
      "老鹰\n"
     ]
    }
   ],
   "source": [
    "# test 变量名命名规则\n",
    "\n",
    "_   = 26   \n",
    "__  = 28   \n",
    "___ = 30   \n",
    "print(_)     \n",
    "print(__)    \n",
    "print(___)   \n",
    "\n",
    "# 变量名可取中文名？\n",
    "小鸟 = \"老鹰\"     \n",
    "print( 小鸟)"
   ]
  },
  {
   "cell_type": "code",
   "execution_count": 14,
   "metadata": {},
   "outputs": [
    {
     "name": "stdout",
     "output_type": "stream",
     "text": [
      "['False', 'None', 'True', 'and', 'as', 'assert', 'async', 'await', 'break', 'class', 'continue', 'def', 'del', 'elif', 'else', 'except', 'finally', 'for', 'from', 'global', 'if', 'import', 'in', 'is', 'lambda', 'nonlocal', 'not', 'or', 'pass', 'raise', 'return', 'try', 'while', 'with', 'yield']\n"
     ]
    }
   ],
   "source": [
    "# 保留字 不能用于变量名\n",
    "import keyword\n",
    "print(keyword.kwlist)\n",
    "\n",
    "# len()函数可以查看元素个数（长度）\n",
    "# print(len(keyword.kwlist))\n",
    "\n",
    "# dir()函数可以查询一个python包里的功能和属性\n",
    "# print(dir(keyword))\n"
   ]
  },
  {
   "cell_type": "markdown",
   "metadata": {},
   "source": [
    "### 数据类型\n",
    "#### 六种基本数据类型\n",
    "- 数字（Number）\n",
    "- 字符（String）\n",
    "- 列表（List）\n",
    "- 元组（Tuple）\n",
    "- 集合（Set）\n",
    "- 字典（Dictionary）"
   ]
  },
  {
   "cell_type": "markdown",
   "metadata": {},
   "source": [
    "#### 数字类型\n",
    " - 整数   int\n",
    " - 浮点数  float\n",
    " - 复数   complex\n",
    " - 布尔值  bool"
   ]
  },
  {
   "cell_type": "markdown",
   "metadata": {},
   "source": [
    "##### 整数与浮点类型"
   ]
  },
  {
   "cell_type": "code",
   "execution_count": 24,
   "metadata": {},
   "outputs": [
    {
     "name": "stdout",
     "output_type": "stream",
     "text": [
      "<class 'int'>\n",
      "10\n",
      "10.0\n",
      "10\n",
      "<class 'str'>\n"
     ]
    }
   ],
   "source": [
    "# 数字类型\n",
    "x = 10\n",
    "print(type(x))          # type( )  查看数据类型\n",
    "print(int(x))     # int( )   将数据转换为整数类型\n",
    "print(float(x))   # float( ) 将数据转换为浮点类型\n",
    "print(str(x))     # str( )   将数据转换为字符串类型\n",
    "print(type(str(x))) # str(x) 类型为str"
   ]
  },
  {
   "cell_type": "code",
   "execution_count": 59,
   "metadata": {},
   "outputs": [
    {
     "name": "stdout",
     "output_type": "stream",
     "text": [
      "20\n",
      "209.0\n"
     ]
    }
   ],
   "source": [
    "# test 数字类型\n",
    "\n",
    "x=10\n",
    "y = 20.9\n",
    "print(int(y))\n",
    "xy = x*y\n",
    "print(xy)"
   ]
  },
  {
   "cell_type": "markdown",
   "metadata": {},
   "source": [
    "##### 布尔类型\n",
    "布尔类型只有True 和False 两个值。注意首字母大写"
   ]
  },
  {
   "cell_type": "code",
   "execution_count": 16,
   "metadata": {},
   "outputs": [
    {
     "name": "stdout",
     "output_type": "stream",
     "text": [
      "False\n",
      "\n",
      "1\n",
      "0\n"
     ]
    }
   ],
   "source": [
    "# 布尔类型\n",
    "sex = '男'\n",
    "b = bool(sex == '女')\n",
    "print(b)\n",
    "type(b)\n",
    "print()\n",
    "\n",
    "# True 和 False是两个特殊整数\n",
    "\n",
    "print(int(True))\n",
    "print(int(False))\n"
   ]
  },
  {
   "cell_type": "code",
   "execution_count": 17,
   "metadata": {},
   "outputs": [
    {
     "name": "stdout",
     "output_type": "stream",
     "text": [
      "False\n",
      "True\n",
      "True\n",
      "表达式7>8的数据类型为： <class 'bool'>\n"
     ]
    }
   ],
   "source": [
    "# bool 值练习\n",
    "\n",
    "print(7>8)\n",
    "print(3+5 == 8)\n",
    "print(10 >= 2*3)\n",
    "\n",
    "print(\"表达式7>8的数据类型为：\",type(7>8))\n"
   ]
  },
  {
   "cell_type": "code",
   "execution_count": 18,
   "metadata": {},
   "outputs": [
    {
     "name": "stdout",
     "output_type": "stream",
     "text": [
      "原价\n"
     ]
    }
   ],
   "source": [
    "# 布尔值应用\n",
    "\n",
    "sex = '男'\n",
    "if(sex == '女'):\n",
    "    print(\"优惠价7折\")\n",
    "else:\n",
    "    print(\"原价\")\n"
   ]
  },
  {
   "cell_type": "markdown",
   "metadata": {},
   "source": [
    "### 运算符\n",
    "- #### 数学运算符\n",
    "- #### 关系运算符\n",
    "- #### 赋值运算符\n",
    "- #### 逻辑运算符"
   ]
  },
  {
   "cell_type": "markdown",
   "metadata": {},
   "source": [
    "#### 数学运算符\n",
    "\n",
    "|加|减|乘|除|幂|整除|模|\n",
    "|:----:|:----:|:----:|:----:|:----:|:----:|:----:|\n",
    "|+|-|\\*|/|\\*\\*|//|%|"
   ]
  },
  {
   "cell_type": "code",
   "execution_count": 23,
   "metadata": {},
   "outputs": [
    {
     "name": "stdout",
     "output_type": "stream",
     "text": [
      "a+b= 35\n",
      "a-b= -15\n",
      "a*b= 250\n",
      "a**b= 10000000000000000000000000\n",
      "b/a= 2.5\n",
      "b//a= 2\n",
      "b%a= 5\n"
     ]
    }
   ],
   "source": [
    "# test 数学运算符\n",
    "a=10\n",
    "b=25\n",
    "print(\"a+b=\",a+b)\n",
    "print(\"a-b=\",a-b)\n",
    "print(\"a*b=\",a*b)\n",
    "print(\"a**b=\",a**b)\n",
    "print(\"b/a=\",b/a)\n",
    "print(\"b//a=\",b//a)\n",
    "print(\"b%a=\",b%a)"
   ]
  },
  {
   "cell_type": "markdown",
   "metadata": {},
   "source": [
    "#### 关系运算符\n",
    "|小于|小于等于|大于|大于等于|相等|不相等|\n",
    "|:----:|:----:|:----:|:----:|:----:|:----:|\n",
    "|<|<=|>|>=|==|!=|"
   ]
  },
  {
   "cell_type": "code",
   "execution_count": 19,
   "metadata": {},
   "outputs": [
    {
     "name": "stdout",
     "output_type": "stream",
     "text": [
      "True\n",
      "True\n"
     ]
    }
   ],
   "source": [
    "# 关系运算符\n",
    "a =  5\n",
    "print(a == 5)\n",
    "b =  6\n",
    "print(a != b)"
   ]
  },
  {
   "cell_type": "markdown",
   "metadata": {},
   "source": [
    "#### 赋值运算符\n",
    "\n",
    "|运算符|示例|等价于|\n",
    "|:---:|:---:|:---:|\n",
    "|=|x = 5|x=5|\n",
    "|+=| x += 5| x = x + 5|\n",
    "|-=|x -= 5|x = x - 5|\n",
    "|\\*=|x \\*=5|x = x \\* 5|\n",
    "|/=|x /= 5|x = x / 5|\n",
    "|//=|x //= 5|x = x // 5|\n",
    "|%=|x %= 5|x = x % 5|\n",
    "|\\*\\*=|x \\*\\*= 5|x = x \\*\\* 5|"
   ]
  },
  {
   "cell_type": "code",
   "execution_count": 20,
   "metadata": {},
   "outputs": [
    {
     "name": "stdout",
     "output_type": "stream",
     "text": [
      "50 30 10.0 10\n"
     ]
    }
   ],
   "source": [
    "# 赋值运算符\n",
    "\n",
    "a,b,c,d=100,23,50,10\n",
    "a -= 50     #  a = a - 50\n",
    "b += 7      #  b = b + 7\n",
    "c /= 5      #  c = c / 5\n",
    "d %= a      # \n",
    "print(a,b,c,d)"
   ]
  },
  {
   "cell_type": "markdown",
   "metadata": {},
   "source": [
    "#### 逻辑运算符\n",
    "\n",
    "|与|或|非|\n",
    "|:--:|:--:|:--:|\n",
    "|and|or|not|\n",
    "|串联电路|并联电路|开关|\n"
   ]
  },
  {
   "cell_type": "code",
   "execution_count": 21,
   "metadata": {},
   "outputs": [
    {
     "name": "stdout",
     "output_type": "stream",
     "text": [
      "True\n",
      "False\n",
      "False\n",
      "True\n",
      "True\n"
     ]
    }
   ],
   "source": [
    "# test 逻辑运算符\n",
    "\n",
    "a,b=8,10\n",
    "\n",
    "print(a%2==0)\n",
    "print(b%2!=0)\n",
    "print(a<6 and a>1)\n",
    "print(a>6 or a<1)\n",
    "print(not a<1)\n"
   ]
  },
  {
   "cell_type": "markdown",
   "metadata": {},
   "source": [
    "#### 优先级和结合性\n",
    "##### 优先级别越高，越先执行。目前还有其他运算符暂时没有涉及，所以优先级的数字是不连续的。\n",
    "##### 结合性指明先计算左边还是先计算右边\n",
    "\n",
    "|运算符说明|Python运算符|优先级|结合性|\n",
    "|:----:|:----:|:----:|:----:|\n",
    "|小括号|()|19|无|\n",
    "|幂|\\*\\*|16|右|\n",
    "|符号运算符|+（正）-（负）|14|右|\n",
    "|乘除|\\*,/,//,%|13|左|\n",
    "|加减|+，-|12|左|\n",
    "|比较运算符|==，!=,>,>=,<,<=|7|左|\n",
    "|逻辑非|not|4|右|\n",
    "|逻辑或|or|3|左|\n",
    "|逻辑与|and|2|左|\n",
    "|逗号运算符|，|1|左|\n",
    "|赋值运算符|=|0|右|"
   ]
  },
  {
   "cell_type": "code",
   "execution_count": 22,
   "metadata": {},
   "outputs": [
    {
     "name": "stdout",
     "output_type": "stream",
     "text": [
      "60.0\n",
      "False\n"
     ]
    }
   ],
   "source": [
    "# test  运算符与优先级\n",
    "\n",
    "a = 100/5*3\n",
    "print(a)\n",
    "\n",
    "#加括号练习\n",
    "b = 7>3 and 5+3<6 or not 7\n",
    "print(b)"
   ]
  },
  {
   "cell_type": "markdown",
   "metadata": {},
   "source": [
    "#### 作业\n",
    "安装Python\n",
    "\n",
    "最新版Python不支持windows7，windows7用户请安装Python3.8及以下版本\n",
    "\n",
    "参考以下链接\n",
    "廖雪峰Python教程\n",
    "https://www.liaoxuefeng.com/wiki/1016959663602400/1016959856222624 \n",
    "    \n",
    "菜鸟网络\n",
    "https://www.runoob.com/python3/python3-install.html\n",
    "\n"
   ]
  }
 ],
 "metadata": {
  "kernelspec": {
   "display_name": "Python 3",
   "language": "python",
   "name": "python3"
  },
  "language_info": {
   "codemirror_mode": {
    "name": "ipython",
    "version": 3
   },
   "file_extension": ".py",
   "mimetype": "text/x-python",
   "name": "python",
   "nbconvert_exporter": "python",
   "pygments_lexer": "ipython3",
   "version": "3.8.3"
  }
 },
 "nbformat": 4,
 "nbformat_minor": 4
}

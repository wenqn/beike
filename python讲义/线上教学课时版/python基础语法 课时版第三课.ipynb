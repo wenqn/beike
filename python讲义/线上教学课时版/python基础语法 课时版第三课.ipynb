{
 "cells": [
  {
   "cell_type": "markdown",
   "metadata": {},
   "source": [
    "# python 语法基础 课时版 第三课时"
   ]
  },
  {
   "cell_type": "markdown",
   "metadata": {},
   "source": [
    "# 1 选择\n",
    "## 1.1 if  语句\n",
    "条件语句`if`用来实现选择，基本格式如下：\n",
    "``` \n",
    "#格式一\n",
    "if 表达式:\n",
    "    代码块\n",
    "\n",
    "```\n",
    "如果表达式的值为非`0`或`True`,代码块被执行，否则执行后面的语句。表达式不需要括号，但需要以`:`结尾，整个代码块要进行缩进。\n",
    "\n",
    "-----\n",
    "```\n",
    "格式二\n",
    "if 表达式:\n",
    "    代码块1\n",
    "else:\n",
    "    代码块2\n",
    "```\n",
    "如果表达式的值为非`0`或`True`,代码块被执行，否则执行`else`里的代码块2。代码块1，2都需要等量缩进，但同一层次的`if`和`else`要对齐。\n",
    "\n",
    "----\n",
    "\n",
    "```\n",
    "#格式三\n",
    "if 表达式1:\n",
    "    代码块1\n",
    "elif 表达式2:\n",
    "    代码块2\n",
    "elif 表达式3:\n",
    "    代码块3\n",
    "else:\n",
    "    代码块\n",
    "```\n",
    "理论上`elif`可以无限制添加下去，但`else`只能有一个，且要放在最后。每行`if`、`elif`、`else`都要对齐，而且以冒号`:`结尾。\n",
    "\n",
    "----\n",
    "在任何一组`if`,`elif`,`else`里的代码块，都可以嵌套任意以上三种格式的语句。嵌套的`if`语句要缩进对齐。\n",
    "\n",
    "#### 示例\n",
    "\n",
    "```\n",
    "# if-else 条件语句\n",
    "age =  int(input(\"请输入年龄：\"))\n",
    "if age >= 18:\n",
    "    print(\"你已经成年\")\n",
    "else:\n",
    "    print(\"你未满18周岁\")\n",
    "```\n",
    "----\n",
    "```\n",
    "# 多层选择 if-elif-else结构\n",
    "age =  int(input(\"请输入年龄：\"))\n",
    "if age >= 200:\n",
    "    print(\"何方神圣？\")\n",
    "elif age >= 90:\n",
    "    print(\"祝您长寿\")\n",
    "elif age >= 60:\n",
    "    print(\"祝您健康\")\n",
    "elif age >= 18:\n",
    "    print(\"你已成年\")\n",
    "else:\n",
    "    print(\"你未满18周岁\")\n",
    "```\n"
   ]
  },
  {
   "cell_type": "code",
   "execution_count": null,
   "metadata": {},
   "outputs": [],
   "source": [
    "# test 多层选择 if-elif-else结构\n",
    "age =  int(input(\"请输入年龄：\"))\n",
    "if age >= 200:\n",
    "    print(\"何方神圣？\")\n",
    "elif age >= 90:\n",
    "    print(\"祝您长寿\")\n",
    "elif age >= 60:\n",
    "    print(\"祝您健康\")\n",
    "elif age >= 18:\n",
    "    print(\"你已成年\")\n",
    "else:\n",
    "    print(\"你未满18周岁\")"
   ]
  },
  {
   "cell_type": "code",
   "execution_count": null,
   "metadata": {},
   "outputs": [],
   "source": [
    "# test 去重练习\n",
    "\n"
   ]
  },
  {
   "cell_type": "markdown",
   "metadata": {},
   "source": [
    "# 2 循环\n",
    "\n",
    "重复性的操作可以用循环语句完成，`for`和`while`是主要的循环语句\n",
    "\n",
    "## 2.1 for 循环\n",
    "`for`循环往往和成员操作符`in`连用，基本格式如下。\n",
    "```\n",
    "for 循环变量 in 迭代对象:\n",
    "    循环体\n",
    "```\n",
    "迭代对象可以是字符串、元组、列表、字典等。  “迭代”可以理解为从中依次访问每个元素\n",
    "\n",
    " `for`循环有两个格式上的要点：\n",
    "- `for`所在行末端以冒号`:`结尾\n",
    "- 循环体中每一行都要“缩进”，每一层级的缩进程度要一致\n",
    "\n",
    "下面是个例子，循环体中只有`print()`一句，把列表里的元素依次打印出来。"
   ]
  },
  {
   "cell_type": "code",
   "execution_count": null,
   "metadata": {},
   "outputs": [],
   "source": [
    "# test 测试下面代码，观察输出\n",
    "for i in [1,2,3,4,5,\"香蕉\",\"苹果\",\"菠萝\"]:\n",
    "    print(i)"
   ]
  },
  {
   "cell_type": "markdown",
   "metadata": {},
   "source": [
    "`for`循环另一个常用形式是和`range()`函数连用。`range()`函数会生成一组特定范围的数"
   ]
  },
  {
   "cell_type": "code",
   "execution_count": null,
   "metadata": {},
   "outputs": [],
   "source": [
    "# test 分别测试下面两个`for`代码，观察输出\n",
    "for i in range(10):\n",
    "    print(i)\n",
    "    \n",
    "for j in range(2,10):\n",
    "    print(j)"
   ]
  },
  {
   "cell_type": "markdown",
   "metadata": {},
   "source": [
    "### 8.2 for循环的执行顺序\n",
    "- 1. 循环变量初始化\n",
    "- 2. 判断循环变量是否满足循环条件\n",
    "- 3. 执行循环语句\n",
    "- 4. 循环变量取下一个值\n",
    "- 5. 重复2-4步，直到循环变量不满足循环条件"
   ]
  },
  {
   "cell_type": "markdown",
   "metadata": {},
   "source": [
    "## 2.2 while 循环\n",
    "\n",
    "`while`循环又叫“条件循环”，当循环条件成立时（True）时，才执行循环体。其语法格式如下。\n",
    "```\n",
    "while 关系表达式:\n",
    "    循环体\n",
    "```\n",
    "和`for`循环有相似之处，`while`所在行以冒号`:`结尾，循环体按层级缩进。\n",
    "\n",
    "使用`while`循环要注意三个地方：\n",
    "- 一般`while`外面会有一个循环标记，下面例子里是`s=0`，它将标记循环次数。\n",
    "- 每循环一次，循环体内都要检查循环标记是否需要修改，例子里是`s += 10`\n",
    "- `while`会自动计算关系表达式`s<=50`的值，当值为`False`时，终止`while`循环。\n"
   ]
  },
  {
   "cell_type": "code",
   "execution_count": null,
   "metadata": {},
   "outputs": [],
   "source": [
    "#test 一个简单例子\n",
    "s = 0\n",
    "while s<=50:\n",
    "    s += 10\n",
    "    print(s)"
   ]
  },
  {
   "cell_type": "markdown",
   "metadata": {},
   "source": [
    "## 2.3 for 与while\n",
    "\n",
    "`for`循环与`while`循环在一定程度上是可以相互转化的，一般优先选用`for`循环。`for`循环是靠循环次数来判断是否需要继续循环。当无法确定循环次数的时候，需要在循环体中设置循环条件。或者使用`while`循环了。在循环次数不确定的情况下，`while`循环体里必须要检查循环标记的状态，是否需要修改以退出循环。"
   ]
  },
  {
   "cell_type": "code",
   "execution_count": null,
   "metadata": {},
   "outputs": [],
   "source": [
    "# test 游戏循环设计\n",
    "going = True      #循环标记\n",
    "while going:\n",
    "    key = input(\"这是游戏循环，‘q'键退出，任意键继续……\")\n",
    "    \n",
    "    # 检查循环标记状态，当触发退出条件时，修改循环标记的值\n",
    "    if key == 'q':\n",
    "        going = False      \n",
    "        print(\"game over\")"
   ]
  }
 ],
 "metadata": {
  "kernelspec": {
   "display_name": "Python 3",
   "language": "python",
   "name": "python3"
  },
  "language_info": {
   "codemirror_mode": {
    "name": "ipython",
    "version": 3
   },
   "file_extension": ".py",
   "mimetype": "text/x-python",
   "name": "python",
   "nbconvert_exporter": "python",
   "pygments_lexer": "ipython3",
   "version": "3.6.5"
  }
 },
 "nbformat": 4,
 "nbformat_minor": 4
}

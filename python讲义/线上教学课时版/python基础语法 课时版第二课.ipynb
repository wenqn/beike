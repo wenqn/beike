{
 "cells": [
  {
   "cell_type": "markdown",
   "metadata": {},
   "source": [
    "# python  基础语法 课时版 第二课时"
   ]
  },
  {
   "cell_type": "markdown",
   "metadata": {},
   "source": [
    "# 1 字符串\n",
    "python中字符串指引号之间的字符集合，单引号和双引号都是支持的。通过索引运算符`[]`和切片运算符`[:]`可以得到字符串的子集。加号`+`用于拼接字符串，星号`*`用于字符串复制。字符串的索引有两个方向，正向索引从`0`开始，即第一个字符的索引为`0`,第二个字符的索引为`1`。反向索引最后一个字符的索引为`-1`，倒数第二个字符为`-2`。\n",
    "\n",
    "\n",
    "## 1.1 切片\n",
    "切片是获得子集的重要方法。切片通过索引来定位子串的起止位置，起止范围是“左闭右开”的区间。切片`[a:b]`将得到索引`a`到`b-1`的子串。省略`a`([:b])将得到从索引`0`到`b-1`的子串,省略`b`([a:])将得到索引`a`到最后一个字符的子串。\n",
    "\n",
    "pystr|I| |l|o|v|e| |P|y|t|h|o|n|!\n",
    "--|--|--|--|--|--|--|--|--|--|--|--|--|--|--\n",
    "正向索引|0|1|2|3|4|5|6|7|8|9|10|11|12|13\n",
    "反向索引|-14|-13|-12|-11|-10|-9|-8|-7|-6|-5|-4|-3|-2|-1\n",
    "\n",
    "`pystr = 'I love Python!'`\n",
    "- 切片`pystr[3:8]`将截取索引`3`到索引`7`的字符，包含索引`3`,但不包括索引`8`,输出'ove P'\n",
    "- 空格也是字符\n",
    "\n",
    "```\n",
    ">>>pystr = \"I love Python!\"\n",
    ">>>pystrs[0]\n",
    "'I'\n",
    ">>>pystr[-1]\n",
    "'!'\n",
    ">>>pystr[3:8]\n",
    "'ov P'\n",
    ">>>pystr[:5]   #等价于 pystr[0:5]\n",
    "'I lov'\n",
    ">>>pystr[2:]   #等价于 pystr[2:-1] 或pystr[2:14] \n",
    "'love Python!'\n",
    ">>>pystr + 'and you?'\n",
    "'I love Python!and you?'\n",
    ">>>len(pystr)\n",
    "14\n",
    ">>> 'python' * 2\n",
    "pythonpython\n",
    ">>>'#' * 10\n",
    "'##########'\n",
    ">>>\"    Do I have space?   \".strip()   #去掉两端空格\n",
    "'Do I have space'\n",
    "```"
   ]
  },
  {
   "cell_type": "code",
   "execution_count": 50,
   "metadata": {},
   "outputs": [
    {
     "data": {
      "text/plain": [
       "14"
      ]
     },
     "execution_count": 50,
     "metadata": {},
     "output_type": "execute_result"
    }
   ],
   "source": [
    "# test 逐行运行下面的程序\n",
    "pystr = \"I love Python!\"\n",
    "pystr[:]\n",
    "pystr + \" hello\"\n",
    "pystr * 3\n",
    "len(pystr)"
   ]
  },
  {
   "cell_type": "markdown",
   "metadata": {},
   "source": [
    "## 1.2 微项目 身份证算出生日期\n",
    "\n",
    "18位身份证的第7到14位数字为出生年月日，输入18位身份证号，计算出生日期。\n",
    "```\n",
    "#补充代码\n",
    "idstr = input(\"输入你的18位身份证号码：\")\n",
    "idstr.strip() #去掉首尾空格\n",
    "year  = \n",
    "month = \n",
    "day = \n",
    "print(\"你的出生日期为%s年%s月%s日\" %(year,month,day))\n",
    "```"
   ]
  },
  {
   "cell_type": "code",
   "execution_count": null,
   "metadata": {},
   "outputs": [],
   "source": [
    "# test  补充代码\n",
    "# 18位身份证的第7到14位数字为出生年月日，输入18位身份证号，计算出生日期。\n",
    "idstr = input(\"输入你的18位身份证号码：\")\n",
    "idstr.strip() #去掉首尾空格\n",
    "year  = \n",
    "month = \n",
    "day = \n",
    "print(\"你的出生日期为%s年%s月%s日\" %(year,month,day))"
   ]
  },
  {
   "cell_type": "markdown",
   "metadata": {},
   "source": [
    "# 2 列表"
   ]
  },
  {
   "cell_type": "markdown",
   "metadata": {},
   "source": [
    "## 2.1 列表存储结构\n",
    "### 基本语法\n",
    "- 语法符合：中括号 []",
    "  > new=[] # 创建一个空列表，不包含任何元素\n",
    "  > st=[\"张三\",178] #创建一个列表，有两个元素，张三和178\n",
    "- 元素用引号包裹，不同元素之间用逗号隔开，元素类型可以不一致\n",
    "### 列表适合表示的数据结构\n",
    "列表适合表示一维或二维结构数据\n",
    "- 一维结构\n",
    "\n",
    "数据：张三，18，高三3班，五中\n",
    "\n",
    "列表表示：student1=[\"张三\",18,\"高三3班\",\"五中\"]\n",
    "\n",
    "- 二维结构\n",
    "\n",
    "姓名|年龄|班级|学校\n",
    " --|--|--|--\n",
    "张三|18|高三3班|五中\n",
    "李四|18|高三2班|五中\n",
    "王五|17|高三3班|五中\n"
   ]
  },
  {
   "cell_type": "code",
   "execution_count": 2,
   "metadata": {},
   "outputs": [],
   "source": [
    "# 列表表示\n",
    "studens = [\n",
    "    [\"张三\",18,\"高三3班\",\"五中\"],\n",
    "    [\"李四\",18,\"高三2班\",\"五中\"],\n",
    "    [\"王五\",17,\"高三3班\",\"五中\"]  \n",
    "]"
   ]
  },
  {
   "cell_type": "markdown",
   "metadata": {},
   "source": [
    "### 列表的存储结构\n",
    "列表元素不管一维结构还是二维结构都是从0开始编号，对于二维结构，需要用二维地址表示。如下图，student[0][0] 的值为“张三”，student[0][1]的值为18，student[1][0]的值为“李四”，student[1][2]的值为“高三2班”\n",
    "\n",
    "student\n",
    "\n",
    "| 0|  -->  [\"张三\",18,\"高三3班\",\"五中\"]\n",
    "\n",
    "| 1|  -->   [\"李四\",18,\"高三2班\",\"五中\"]\n",
    "\n",
    "| 2|  -->   [\"王五\",17,\"高三3班\",\"五中\"]"
   ]
  },
  {
   "cell_type": "markdown",
   "metadata": {},
   "source": [
    "\n",
    "## 2.2 列表基本操作\n",
    "列表可以保存任意类型的python对象，通过索引访问对象。可以将列表想象成一列火车，每个对象占据一节车厢，不同车厢可以存放不同类型的数据，甚至某节车厢里可以再存放一列火车（列表里可以再包含另一个列表，可以无限嵌套下去）。和字符串一样，第一个对象的索引从`0`开始，通过切片获得子集，切片与字符串的切片方法一致。列表中的对象用逗号`,`隔开。\n",
    "\n",
    "- #### append():向列表中添加对象\n",
    "- #### remove():从列表中删除对象，参数为元素名称 fruit.remove(\"苹果\")\n",
    "- #### del ：从列表中删除对象，del fruit\\[1\\],根据对象在列表中的位置\n",
    "- #### insert():向列表中插入对象\n",
    "- #### len():求列表长度（包含的对象个数）\n",
    "\n",
    "\n",
    "```\n",
    "#逐行测试下面代码，观察输出\n",
    ">>>fruit = []         #创建一个空列表\n",
    ">>>fruit\n",
    "[]       \n",
    ">>>fruit.append(\"石榴\")  #添加一个字符串元素\n",
    ">>>fruit\n",
    "['石榴']\n",
    ">>>fruit.append(10)     #依次在列表尾部添加元素\n",
    ">>>fruit.append(\"香蕉\")\n",
    ">>>furit.append(\"梨子\")\n",
    ">>>fruit\n",
    "['石榴',10,'香蕉','梨子']\n",
    ">>>len(fruit)        #列表长度，列表对象的个数\n",
    "4\n",
    ">>>fruit[0] = \"苹果\"   #将列表第一个元素修改为字符串“苹果”\n",
    ">>>fruit\n",
    "['苹果',10,'香蕉','梨子']\n",
    ">>>fruit[1:3]\n",
    "[10,'香蕉']\n",
    ">>>del fruit[1]       #删除索引为1的元素\n",
    ">>>fruit\n",
    "['苹果','香蕉','梨子']\n",
    ">>>fruit.remove('香蕉') #按元素内容删除\n",
    ">>>fruit\n",
    "['苹果','梨子']\n",
    "```"
   ]
  },
  {
   "cell_type": "code",
   "execution_count": 49,
   "metadata": {},
   "outputs": [
    {
     "data": {
      "text/plain": [
       "[1, 2, 3, 4, 22, 5.55, 3, 14, '苹果', 10, '梨子', '西瓜']"
      ]
     },
     "execution_count": 49,
     "metadata": {},
     "output_type": "execute_result"
    }
   ],
   "source": [
    "# test \n",
    "lists=[1,2,3,4,5.55,3,14,'苹果',10,'香蕉','梨子']\n",
    "lists[3:8]\n",
    "lists.append(\"西瓜\")\n",
    "lists\n",
    "lists.append(100.01)\n",
    "lists\n",
    "lists.insert(4,22)\n",
    "lists\n",
    "lists.remove(\"香蕉\")\n",
    "lists\n",
    "del lists[-1]\n",
    "lists\n",
    "len(lists)\n",
    "lists"
   ]
  },
  {
   "cell_type": "markdown",
   "metadata": {},
   "source": [
    "### 2.3 成员操作符 in ,not in\n",
    "`in`和`not in`常用来检查一个对象是否在列表里\n",
    "\n",
    "```\n",
    ">>>school = ['一中','二中','三中','四中','五中','六中','七中']\n",
    ">>>'五中' in school\n",
    "True\n",
    ">>>'八中' in school\n",
    "False\n",
    ">>>'八中' not in school\n",
    "True\n",
    "```"
   ]
  },
  {
   "cell_type": "code",
   "execution_count": 52,
   "metadata": {},
   "outputs": [
    {
     "name": "stdout",
     "output_type": "stream",
     "text": [
      "1\n",
      "8\n",
      "27\n",
      "64\n",
      "125\n",
      "216\n",
      "343\n",
      "512\n",
      "729\n"
     ]
    }
   ],
   "source": [
    "# test \n",
    "for i in [1,2,3,4,5,6,7,8,9]:\n",
    "    print(i**3)"
   ]
  }
 ],
 "metadata": {
  "kernelspec": {
   "display_name": "Python 3",
   "language": "python",
   "name": "python3"
  },
  "language_info": {
   "codemirror_mode": {
    "name": "ipython",
    "version": 3
   },
   "file_extension": ".py",
   "mimetype": "text/x-python",
   "name": "python",
   "nbconvert_exporter": "python",
   "pygments_lexer": "ipython3",
   "version": "3.6.5"
  }
 },
 "nbformat": 4,
 "nbformat_minor": 4
}

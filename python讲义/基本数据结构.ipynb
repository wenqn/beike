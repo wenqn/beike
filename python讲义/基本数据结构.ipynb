{
 "cells": [
  {
   "cell_type": "markdown",
   "metadata": {},
   "source": [
    "## *表达式\n",
    "python标准库中没有直接计算平均数的函数，计算时将整数转换为float可以取得更精确的结果  \n",
    "\\*表达式类似于c语言中指针，下例中\\*middle使middle成为一个列表"
   ]
  },
  {
   "cell_type": "code",
   "execution_count": 24,
   "metadata": {
    "collapsed": false
   },
   "outputs": [
    {
     "name": "stdout",
     "output_type": "stream",
     "text": [
      "5.5\n"
     ]
    },
    {
     "data": {
      "text/plain": [
       "list"
      ]
     },
     "execution_count": 24,
     "metadata": {},
     "output_type": "execute_result"
    }
   ],
   "source": [
    "\n",
    "first,*middle,last = [1,2,3,4,5,6,7,8,9,0]\n",
    "\n",
    "a = sum(middle,0.0)/len(middle) \n",
    "print(a)\n",
    "type(middle)"
   ]
  },
  {
   "cell_type": "markdown",
   "metadata": {},
   "source": [
    "可以用一个用不到的变量名表示要丢弃的值，比如用下划线 “_”"
   ]
  },
  {
   "cell_type": "code",
   "execution_count": 15,
   "metadata": {
    "collapsed": false
   },
   "outputs": [
    {
     "data": {
      "text/plain": [
       "20"
      ]
     },
     "execution_count": 15,
     "metadata": {},
     "output_type": "execute_result"
    }
   ],
   "source": [
    "record = ['acme',30,34,563,\"rr\",(3,44,20)]\n",
    "name,*_,(*_,year) = record\n",
    "name\n",
    "year"
   ]
  },
  {
   "cell_type": "markdown",
   "metadata": {},
   "source": [
    "## Queue.queue  and collections.deque\n",
    "他们的应用场景或目的不同。queue用于进程间通信。deque更常用于单纯的需要队列的数据结构\n",
    "deque可以两端操作，默认从右边添加append（），右边弹出pop（），（右进右出，像栈？），左边添加用appendleft（），左边弹出用popleft（）"
   ]
  },
  {
   "cell_type": "code",
   "execution_count": 21,
   "metadata": {
    "collapsed": false
   },
   "outputs": [
    {
     "data": {
      "text/plain": [
       "deque([5, 2])"
      ]
     },
     "execution_count": 21,
     "metadata": {},
     "output_type": "execute_result"
    }
   ],
   "source": [
    "from collections import deque\n",
    "q = deque(maxlen=3)\n",
    "q.append(1)\n",
    "q.append(2)\n",
    "q.append(3)\n",
    "q.append(4)\n",
    "q.appendleft(5)\n",
    "q.pop()\n",
    "q.append(6)\n",
    "q.pop()\n",
    "q"
   ]
  },
  {
   "cell_type": "markdown",
   "metadata": {},
   "source": [
    "##  堆排序 求前n个最大最小值\n",
    "堆最重要的特性是heapq[0]永远是最小的那个"
   ]
  },
  {
   "cell_type": "code",
   "execution_count": null,
   "metadata": {
    "collapsed": true
   },
   "outputs": [],
   "source": []
  },
  {
   "cell_type": "code",
   "execution_count": 12,
   "metadata": {
    "collapsed": false
   },
   "outputs": [
    {
     "name": "stdout",
     "output_type": "stream",
     "text": [
      "[79, 69, 68]\n",
      "[3, 14, 27]\n",
      "79\n",
      "3\n",
      "3\n"
     ]
    },
    {
     "data": {
      "text/plain": [
       "[14, 27, 56, 32, 79, 69, 68, 43, 47]"
      ]
     },
     "execution_count": 12,
     "metadata": {},
     "output_type": "execute_result"
    }
   ],
   "source": [
    "import heapq\n",
    "nums = [3,43,56,32,27,69,68,14,47,79]\n",
    "print(heapq.nlargest(3,nums))\n",
    "print(heapq.nsmallest(3,nums))\n",
    "print(max(nums))\n",
    "print(min(nums))\n",
    "heap = list(nums)\n",
    "heap\n",
    "heapq.heapify(heap)\n",
    "heap\n",
    "minix = heapq.heappop(heap)\n",
    "print(minix)\n",
    "heap"
   ]
  },
  {
   "cell_type": "markdown",
   "metadata": {
    "collapsed": false
   },
   "source": [
    "## 字典有关计算"
   ]
  },
  {
   "cell_type": "markdown",
   "metadata": {},
   "source": [
    "### zip()  \n",
    "zip()将键-值对翻转为值-键对来解决字典按值排序，同时返回对应的键值  \n",
    "如果多个键对应一个相同值，则先按值排序，键作为第二排序关键字  \n",
    "zip()创建了一个迭代器，内容只能被消费一次"
   ]
  },
  {
   "cell_type": "code",
   "execution_count": 14,
   "metadata": {
    "collapsed": false
   },
   "outputs": [
    {
     "name": "stdout",
     "output_type": "stream",
     "text": [
      "(10.75, 'fb')\n",
      "[(10.75, 'fb'), (37.2, 'hpq'), (45.23, 'acme'), (205.55, 'ibm'), (612.78, 'aapl')]\n",
      "(10.75, 'fb')\n"
     ]
    }
   ],
   "source": [
    "price = {\n",
    "    'acme':45.23,\n",
    "    'aapl':612.78,\n",
    "    'ibm':205.55,\n",
    "    'hpq':37.20,\n",
    "    'fb':10.75\n",
    "    }\n",
    "min_price = min(zip(price.values(),price.keys()))\n",
    "print(min_price)\n",
    "price_sorted = sorted(zip(price.values(),price.keys()))\n",
    "print(price_sorted)\n",
    "price_err = zip(price.values(),price.keys())\n",
    "print(min(price_err))\n",
    "#print(max(price_err)) #error,zip()只能使用一次"
   ]
  },
  {
   "cell_type": "markdown",
   "metadata": {},
   "source": [
    "### keys（）方法的集合运算  \n",
    "字典的keys()方法返回keys-view对象，字典的键支持常见的集合操作，比如交集、并集、差集。但values()方法并不支持集合操作。因为不能保证所有的值都唯一。如果必须要做，可以考虑将值转换为集合操作"
   ]
  },
  {
   "cell_type": "code",
   "execution_count": 23,
   "metadata": {
    "collapsed": false
   },
   "outputs": [
    {
     "name": "stdout",
     "output_type": "stream",
     "text": [
      "{'y', 'x'}\n",
      "{'z'}\n",
      "{('y', 2)}\n",
      "{'y': 2, 'z': 3}\n"
     ]
    }
   ],
   "source": [
    "a = {\n",
    "    'x':1,\n",
    "    'y':2,\n",
    "    'z':3\n",
    "}\n",
    "b = {\n",
    "    'w':10,\n",
    "    'x':11,\n",
    "    'y':2\n",
    "}\n",
    "\n",
    "# a，b相同的键\n",
    "c = a.keys() & b.keys()\n",
    "print(c)\n",
    "\n",
    "# 在a中不在b中的键\n",
    "c = a.keys() - b.keys()\n",
    "print(c)\n",
    "\n",
    "# a,b中相同的键值对\n",
    "c = a.items() & b.items()\n",
    "print(c)\n",
    "\n",
    "#分别从a，b中去掉指定键，组成新的字典\n",
    "c = {key:a[key] for key in a.keys() - {'x','w'}}\n",
    "print(c)"
   ]
  },
  {
   "cell_type": "code",
   "execution_count": 26,
   "metadata": {
    "collapsed": false
   },
   "outputs": [
    {
     "data": {
      "text/plain": [
       "{1, 2, 3, 4}"
      ]
     },
     "execution_count": 26,
     "metadata": {},
     "output_type": "execute_result"
    }
   ],
   "source": [
    "a = [1,2,1,3,1,4,1,3,1,2]\n",
    "b = set(a)\n",
    "b"
   ]
  }
 ],
 "metadata": {
  "anaconda-cloud": {},
  "kernelspec": {
   "display_name": "Python [default]",
   "language": "python",
   "name": "python3"
  },
  "language_info": {
   "codemirror_mode": {
    "name": "ipython",
    "version": 3
   },
   "file_extension": ".py",
   "mimetype": "text/x-python",
   "name": "python",
   "nbconvert_exporter": "python",
   "pygments_lexer": "ipython3",
   "version": "3.5.2"
  }
 },
 "nbformat": 4,
 "nbformat_minor": 1
}

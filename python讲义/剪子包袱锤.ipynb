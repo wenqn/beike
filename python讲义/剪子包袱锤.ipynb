{
 "cells": [
  {
   "cell_type": "markdown",
   "metadata": {},
   "source": [
    "## 剪子包袱锤实验单\n",
    "### 说明\n",
    "编制程序模拟剪子包袱锤游戏。程序是玩家1，人是玩家2。\n",
    "\n",
    "出拳方式\n",
    "- 人：通过键盘输入剪子、包袱、锤之一，\n",
    "- 程序：随机选取剪子、包袱、锤之一\n",
    "比较人与程序的出拳来判断胜负\n",
    "\n",
    "### IPO分析\n",
    "- I：人（玩家2）通过键盘输入剪子、包袱、锤\n",
    "- P：程序（玩家1）随机选取剪子、包袱、锤、与玩家2进行比较\n",
    "- O：给出胜负判断\n",
    "\n",
    "### 示例\n",
    "- 人输入：剪子\n",
    "- 程序随机出：锤\n",
    "- 输出：你还嫩点\n",
    "\n",
    "- 人输入：剪子\n",
    "- 程序随机出：包袱\n",
    "- 输出：你赢了\n",
    "\n",
    "- 人输入：剪子\n",
    "- 程序随机出：剪子\n",
    "- 输出：英雄所见略同\n",
    "\n",
    "- 人输入：锥子\n",
    "- 输出：请输入剪子或包袱或锤其\n"
   ]
  },
  {
   "cell_type": "code",
   "execution_count": null,
   "metadata": {},
   "outputs": [],
   "source": [
    "# 剪子包袱锤游戏\n",
    "# play1：计算机玩家，play2：人类玩家\n",
    "import random\n",
    "\n",
    "plist = [\"剪子\",\"包袱\",\"锤\"]\n",
    "\n",
    "play2 = input(\"剪子、包袱、锤请选择一样输入：\")\n",
    "play1 = random.choice(plist)\n",
    "\n",
    "if ((play1 == \"剪子\" and play2 == \"锤\") or (play1 == \"包袱\" and play2 == \"剪子\") or (play1 == \"锤\" and play2 == \"包袱\") ):\n",
    "    print(\"你赢了\")\n",
    "elif play1 == play2:\n",
    "    print(\"英雄所见略同\")\n",
    "else:\n",
    "    print(\"你输了\")"
   ]
  },
  {
   "cell_type": "markdown",
   "metadata": {},
   "source": [
    "### 改进的程序\n",
    "如果人类玩家输入的不是剪子、包袱、锤，程序如何判断？所以完善的程序要对人类的输入进行检查，并提醒人类规范进行输入。"
   ]
  },
  {
   "cell_type": "code",
   "execution_count": null,
   "metadata": {},
   "outputs": [],
   "source": [
    "# 剪子包袱锤游戏\n",
    "# play1：计算机玩家，play2：人类玩家\n",
    "import random\n",
    "\n",
    "plist = [\"剪子\",\"包袱\",\"锤\"]\n",
    "\n",
    "play2 = input(\"剪子、包袱、锤请选择一样输入：\")\n",
    "\n",
    "# 检查play2的输入是否规范，如果play2的内容不在列表plist里面，提醒玩家重新输入规范内容\n",
    "while play2 not in plist:\n",
    "    print(\"请输入 剪子 或 包袱 或 锤\")\n",
    "\n",
    "\n",
    "play1 = random.choice(plist)\n",
    "\n",
    "if ((play1 == \"剪子\" and play2 == \"锤\") or (play1 == \"包袱\" and play2 == \"剪子\") or (play1 == \"锤\" and play2 == \"包袱\") ):\n",
    "    print(\"你赢了\")\n",
    "elif play1 == play2:\n",
    "    print(\"英雄所见略同\")\n",
    "else:\n",
    "    print(\"你输了\")"
   ]
  }
 ],
 "metadata": {
  "language_info": {
   "name": "python"
  },
  "orig_nbformat": 4
 },
 "nbformat": 4,
 "nbformat_minor": 2
}

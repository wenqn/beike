{
 "cells": [
  {
   "cell_type": "markdown",
   "metadata": {},
   "source": [
    "## 你会换披萨吗？\n",
    "\n",
    "### 说明\n",
    "服务员告诉你，12寸的披萨没有了，可以给你换成同样式的2个6寸的披萨，你会同意吗？假定披萨的厚度也是一样的。\n",
    "### 分析\n",
    "披萨看成圆柱体，厚度一样的情况下，可以通过面积比较是否合算。披萨的尺寸指披萨的直径。\n",
    "### IPO分析\n",
    "- input：需要大披萨的尺寸，小披萨的尺寸，小披萨的个数\n",
    "- process：\n",
    "  - 计算大披萨和小披萨的面积\n",
    "  - 比较两个面积\n",
    "- out：给出换还是不换的建议\n",
    "\n",
    "### 示例\n",
    "- 输入大披萨尺寸：12\n",
    "- 输入小披萨尺寸：6\n",
    "- 输入小披萨个数：2\n",
    "- 输出：不换"
   ]
  },
  {
   "cell_type": "code",
   "execution_count": null,
   "metadata": {},
   "outputs": [],
   "source": [
    "D = int(input(\"大披萨尺寸：\"))\n",
    "d = int(input(\"小披萨尺寸：\"))\n",
    "n = int(input(\"小披萨个数：\"))\n",
    "\n",
    "# 补充缺失的代码\n",
    "big = 3.14 * (D/2)**2\n",
    "small = 3.14 * (d/2)**2 * 2\n",
    "\n",
    "print(\"大披萨面积：%f,%d个小披萨面积：%f\" %(big,n,small))\n",
    "if big > small:\n",
    "    print(\"不换\")\n",
    "else:\n",
    "    print(\"换\")"
   ]
  }
 ],
 "metadata": {
  "kernelspec": {
   "display_name": "Python 3",
   "language": "python",
   "name": "python3"
  },
  "language_info": {
   "codemirror_mode": {
    "name": "ipython",
    "version": 3
   },
   "file_extension": ".py",
   "mimetype": "text/x-python",
   "name": "python",
   "nbconvert_exporter": "python",
   "pygments_lexer": "ipython3",
   "version": "3.6.5"
  },
  "toc": {
   "base_numbering": 1,
   "nav_menu": {},
   "number_sections": true,
   "sideBar": true,
   "skip_h1_title": false,
   "title_cell": "Table of Contents",
   "title_sidebar": "Contents",
   "toc_cell": false,
   "toc_position": {},
   "toc_section_display": true,
   "toc_window_display": false
  }
 },
 "nbformat": 4,
 "nbformat_minor": 2
}

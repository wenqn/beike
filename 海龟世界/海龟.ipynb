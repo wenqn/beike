{
 "cells": [
  {
   "cell_type": "markdown",
   "metadata": {},
   "source": [
    "## 背景介绍\n",
    "海龟绘图是对 最早在 Logo 中引入的受欢迎的几何绘图工具 的实现，它由 Wally Feurzeig, Seymour Papert 和 Cynthia Solomon 在 1967 年开发。\n",
    "在 Python 中，海龟绘图提供了一个实体“海龟”形象（带有画笔的小机器动物），假定它在地板上平铺的纸张上画线。\n",
    "\n",
    "本项目中利用海龟模拟寻宝游戏。通过绘制不同路径的地图（背景图片），控制海龟沿着路径前进和转向最终寻得宝物。这个过程中可以学习python的基础语法知识、程序的控制结构和相关的算法知识。\n",
    "\n",
    "python中海龟绘图模块在turtle包中 ，关于海龟绘图教程参考下面链接\n",
    "\n",
    "https://docs.python.org/zh-cn/3/library/turtle.html\n",
    "\n",
    "关于python的基本语法可以学习廖雪峰老师的网络课程\n",
    "\n",
    "https://www.liaoxuefeng.com/wiki/1016959663602400 \n",
    "\n",
    "还可以参考校内在线教程\n",
    "\n",
    "https://thoughts.teambition.com/share/623abe53c7c55500418da3ab#title=python%E5%9F%BA%E7%A1%80%E8%AF%AD%E6%B3%95.md "
   ]
  },
  {
   "cell_type": "markdown",
   "metadata": {},
   "source": [
    "## 基本规则"
   ]
  },
  {
   "cell_type": "markdown",
   "metadata": {},
   "source": [
    "海龟绘图在turtle包里，进入海龟绘图，首先要引用这个包"
   ]
  },
  {
   "cell_type": "markdown",
   "metadata": {},
   "source": [
    "###  启动环境"
   ]
  },
  {
   "cell_type": "markdown",
   "metadata": {},
   "source": [
    "启动idle，在“程序”-“运行”窗口输入idle，启动python环境。\n",
    "\n",
    "python环境安装参考：https://docs.python.org/zh-cn/3/using/index.html "
   ]
  },
  {
   "cell_type": "code",
   "execution_count": null,
   "metadata": {},
   "outputs": [],
   "source": [
    "import turtle as t  #引入turtle包,进入海龟世界,用 t 简称turtle\n",
    "t.getscreen()  # 显示画板"
   ]
  },
  {
   "cell_type": "markdown",
   "metadata": {},
   "source": [
    "执行上面两句会看到屏幕打开一个白色画板，这就是海龟的世界。在海龟诞生之前，先了解下这个世界的规则\n"
   ]
  },
  {
   "cell_type": "markdown",
   "metadata": {},
   "source": [
    "### 坐标"
   ]
  },
  {
   "cell_type": "markdown",
   "metadata": {},
   "source": [
    "海龟的世界是一个以画板中心为原点（0，0）的平面直角坐标系。水平方向是x轴，垂直方向是y轴。\n",
    "\n",
    "也可以用极坐标来表示，从x轴逆时针方向是（0-360度），顺时针方向是（0--360度）\n"
   ]
  },
  {
   "cell_type": "markdown",
   "metadata": {},
   "source": [
    "### 海龟动作"
   ]
  },
  {
   "cell_type": "markdown",
   "metadata": {},
   "source": [
    "海龟的基本动作有四种分别是\n",
    "- 前进  forward（steps）\n",
    "- 后退  backward(steps)\n",
    "- 左转  left(angle)\n",
    "- 右转  right(angle) \n",
    "以上四种基本动作的括号内都要带参数，forward，backward 的参数steps是移动的步数（以像素为单位），left， right的参数angle是旋转的角度。left、right只原地旋转，不会移动\n",
    "\n",
    "还有一个基本动作是 home（），括号内没有参数，作用让海龟回到坐标原点（回家）。"
   ]
  },
  {
   "cell_type": "markdown",
   "metadata": {},
   "source": [
    "### 创建海龟"
   ]
  },
  {
   "cell_type": "code",
   "execution_count": null,
   "metadata": {},
   "outputs": [],
   "source": [
    "tb = t.Turtle()   # 造出一个海龟，名字叫tb\n",
    "tg = t.Turtle()   # 创造第二个海龟，名字叫tg\n",
    "\n",
    "tb.forward(100)   # tb 往前走\n",
    "tg.backward(100)  # tg 往后走"
   ]
  },
  {
   "cell_type": "markdown",
   "metadata": {},
   "source": [
    "## 创世纪：第一关"
   ]
  },
  {
   "cell_type": "markdown",
   "metadata": {},
   "source": [
    "创造一个海龟世界，这个世界里有两只海龟tb和tg。从诞生之日起，他们就被造物主分开，他们的使命是重逢。"
   ]
  },
  {
   "cell_type": "code",
   "execution_count": 3,
   "metadata": {},
   "outputs": [
    {
     "ename": "",
     "evalue": "",
     "output_type": "error",
     "traceback": [
      "The Kernel crashed while executing code in the the current cell or a previous cell. Please review the code in the cell(s) to identify a possible cause of the failure. Click <a href='https://aka.ms/vscodeJupyterKernelCrash'>here</a> for more info. View Jupyter <a href='command:jupyter.viewOutput'>log</a> for further details."
     ]
    }
   ],
   "source": [
    "import turtle as t  #引入turtle包,进入海龟世界,简称t\n",
    "\n",
    "t.getscreen()      #显示画板 \n",
    "t.bgpic(\"d:\\地图1.gif\")  #导入一张地图\n",
    "tb = t.Turtle()     #创造第一个海龟\n",
    "tg = t.Turtle()     #创造第二个海龟\n",
    "tg.color(\"red\")     #将第二个海龟设置为红色，以示区别 \n",
    "tg.up()             #让第二个海龟四肢离地\n",
    "tg.ondrag(tg.goto)  #给第二个海龟施点魔法，绑定一个鼠标拖拽函数 \n",
    "tb.ondrag(tb.goto)  #给第一个海龟施点魔法，绑定一个鼠标拖拽函数 "
   ]
  },
  {
   "cell_type": "markdown",
   "metadata": {},
   "source": [
    "### 小补充 函数\n",
    "#### 数学函数与计算机函数\n",
    "\n",
    "计算机语言中的函数和数学上的函数本质是一样的。数学上通常将函数表示为y=f(x)的形式,f(x)是一个抽象的函数符号，根据不同的定义将对自变量x进行不同的运算，运算的结果就是因变量y。\n",
    "\n",
    "计算机语言中也是如此。只不过因变量y不一定是数值，更多情况下是执行步骤或操作。\n",
    "\n",
    "下面的表格将数学函数和计算机语言中的函数进行了对应。将f()定义为range(),并将自变量x的值设为10，因变量y为生成的列表。forward(10)的输出则是控制对象前进10步\n",
    "\n",
    "计算机语言中，自变量x称为函数的参数，因变量y称为函数的输出。\n",
    "\n",
    "|因变量/输出|赋值符号|函数|自变量/参数|\n",
    "|:--:|:--:|:--:|:--:|\n",
    "|y|=|f(10)|10|\n",
    "|\\[0,1,2,3,4,5,6,7,8,9\\]|=|range(10)|10|\n",
    "|向前走10步|.|forward（10）|10|\n"
   ]
  }
 ],
 "metadata": {
  "kernelspec": {
   "display_name": "Python 3.8.10 64-bit",
   "language": "python",
   "name": "python3"
  },
  "language_info": {
   "codemirror_mode": {
    "name": "ipython",
    "version": 3
   },
   "file_extension": ".py",
   "mimetype": "text/x-python",
   "name": "python",
   "nbconvert_exporter": "python",
   "pygments_lexer": "ipython3",
   "version": "3.8.10"
  },
  "vscode": {
   "interpreter": {
    "hash": "3cc832eaa2a6a053005222df260b65e2d5d33710dc076c7644cc173a8782a1ad"
   }
  }
 },
 "nbformat": 4,
 "nbformat_minor": 2
}

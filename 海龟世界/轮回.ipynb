{
 "cells": [
  {
   "cell_type": "markdown",
   "metadata": {},
   "source": [
    "## 背景介绍\n",
    "***\n",
    "海龟绘图是对 最早在 Logo 中引入的受欢迎的几何绘图工具 的实现，它由 Wally Feurzeig, Seymour Papert 和 Cynthia Solomon 在 1967 年开发。\n",
    "在 Python 中，海龟绘图提供了一个实体“海龟”形象（带有画笔的小机器动物），假定它在地板上平铺的纸张上画线。\n",
    "\n",
    "本项目中利用海龟模拟寻宝游戏。通过绘制不同路径的地图（背景图片），控制海龟沿着路径前进和转向最终寻得宝物。这个过程中可以学习python的基础语法知识、程序的控制结构和相关的算法知识。\n",
    "\n",
    "python中海龟绘图模块在turtle包中 ，关于海龟绘图教程参考下面链接\n",
    "\n",
    "https://docs.python.org/zh-cn/3/library/turtle.html\n",
    "\n",
    "关于python的基本语法可以学习廖雪峰老师的网络课程\n",
    "\n",
    "https://www.liaoxuefeng.com/wiki/1016959663602400 \n",
    "\n",
    "还可以参考校内在线教程\n",
    "\n",
    "https://thoughts.teambition.com/share/623abe53c7c55500418da3ab#title=python%E5%9F%BA%E7%A1%80%E8%AF%AD%E6%B3%95.md "
   ]
  },
  {
   "cell_type": "markdown",
   "metadata": {},
   "source": [
    "## 任务接单\n",
    "***\n",
    "### 任务：画360个正方形，间隔1度排列\n",
    "#### 提示\n",
    "- 先画出一个正方形\n",
    "- 间隔1度意味着小角度的偏转，每一个正方形要和上一个正方形偏转1度\n",
    "- 考虑360个怎么撸出来。"
   ]
  },
  {
   "cell_type": "markdown",
   "metadata": {},
   "source": [
    "## 循环\n",
    "***\n",
    "### 章节导读\n",
    "- 自行浏览“循环”一节内容，体会下计算机是如何处理重复的事情的。重点思考“循环语句要点”里的问题。\n",
    "- 你可以想象一下海龟绘制的图形，也可以输入到idle里运行验证下。如果你直接复制代码，需要进行必要的格式调整才能运行成功。"
   ]
  },
  {
   "cell_type": "markdown",
   "metadata": {},
   "source": [
    "导入turtle包，进入海龟世界"
   ]
  },
  {
   "cell_type": "code",
   "execution_count": null,
   "metadata": {},
   "outputs": [],
   "source": [
    "from turtle import * "
   ]
  },
  {
   "cell_type": "markdown",
   "metadata": {},
   "source": [
    "让海龟画一个圆"
   ]
  },
  {
   "cell_type": "code",
   "execution_count": null,
   "metadata": {},
   "outputs": [],
   "source": [
    "circle(10)  # circle(n)，n为半径 "
   ]
  },
  {
   "cell_type": "markdown",
   "metadata": {},
   "source": [
    "轮回十世，每次法力大一点点。（画十个圆，每次半径大一点点）"
   ]
  },
  {
   "cell_type": "code",
   "execution_count": null,
   "metadata": {},
   "outputs": [],
   "source": [
    "circle(10)\n",
    "circle(20)\n",
    "circle(30)\n",
    "circle(40)\n",
    "circle(50)\n",
    "circle(60)\n",
    "circle(70)\n",
    "circle(80)\n",
    "circle(90)\n",
    "circle(100)"
   ]
  },
  {
   "cell_type": "markdown",
   "metadata": {},
   "source": [
    "发现重复的结构，可以用循环语句改造下"
   ]
  },
  {
   "cell_type": "code",
   "execution_count": null,
   "metadata": {},
   "outputs": [],
   "source": [
    "clear()   #  清除画布\n",
    "for i in range(11):\n",
    "    circle(i*10)\n",
    "    print(i)    #  打印出i的值，观察每一次i值的变化"
   ]
  },
  {
   "cell_type": "markdown",
   "metadata": {},
   "source": [
    "另一种循环语句 while语句"
   ]
  },
  {
   "cell_type": "code",
   "execution_count": null,
   "metadata": {},
   "outputs": [],
   "source": [
    "n=1\n",
    "while n <= 10 :\n",
    "    circle(n*10)\n",
    "    n += 1"
   ]
  },
  {
   "cell_type": "markdown",
   "metadata": {},
   "source": [
    "### 循环语句要点\n",
    "对比for语句和while语句，找找他们格式上的异同\n",
    "##### 相同点\n",
    "- 注意for和while语句结尾的符号\n",
    "- 注意for和while下面缩进的语句，缩进几个空格？\n",
    "\n",
    "##### 不同点\n",
    "- 在画完一个圆准备画下一个圆之前，for 和 while 语句在做什么？\n",
    "- 控制循环次数的写法有何不同？"
   ]
  },
  {
   "cell_type": "markdown",
   "metadata": {},
   "source": [
    "## 变化\n",
    "***\n",
    "### 章节导读\n",
    "初始的微小变化，在坚持不懈的重复下也会产生不可思议的结果。\n",
    "\n",
    "你可以在每次循环中，通过灵活控制“距离”和“角度”两个参数来改变海归的运动轨迹。下面是几种常见的控制模式，你也可以设计其他的运动模式。\n",
    "- 前进-锐角转向\n",
    "- 前进-钝角转向\n",
    "- 前进-锐角转向-后退\n",
    "\n",
    "先通过仿写熟练掌握基本的语法和控制流程，学有余力再做一下挑战接单里的任务。"
   ]
  },
  {
   "cell_type": "markdown",
   "metadata": {},
   "source": [
    "### 仿写与调试\n",
    "先想象一下下面的代码会绘制什么样的图形，再运行代码验证下。尝试重复其他动作，调整微小变化（控制变量的初始值和变化范围），观察在不断重复下的结果。"
   ]
  },
  {
   "cell_type": "code",
   "execution_count": null,
   "metadata": {},
   "outputs": [],
   "source": [
    "clear()\n",
    "for i in range(36):\n",
    "    left(10)   # 每次循环将海龟角度偏离一点点\n",
    "    circle(50)"
   ]
  },
  {
   "cell_type": "code",
   "execution_count": null,
   "metadata": {},
   "outputs": [],
   "source": [
    "clear()\n",
    "for i in range(5):\n",
    "    forward(100)\n",
    "    for j in range(36):\n",
    "        left(10)\n",
    "        circle(20)\n"
   ]
  },
  {
   "cell_type": "code",
   "execution_count": null,
   "metadata": {},
   "outputs": [],
   "source": []
  },
  {
   "cell_type": "markdown",
   "metadata": {},
   "source": [
    "## 小补充 \n",
    "***\n",
    "### range()的用法\n",
    "- range(n)  的执行结果是生成一个0到n-1的整数序列。序列中整数的个数用于控制循环的次数。 \n",
    "- range(a,b) 生成[a,b-1]的整数序列\n",
    "- range(a,b,c) 在[a,b-1]的整数序列中，每c位整数一组，选每组第一个数组成的序列 \n"
   ]
  },
  {
   "cell_type": "code",
   "execution_count": null,
   "metadata": {},
   "outputs": [],
   "source": [
    "# 观察下输出结果\n",
    "list(range(10))\n",
    "list(range(5,10))\n",
    "list(range(1,10,3))"
   ]
  },
  {
   "cell_type": "markdown",
   "metadata": {},
   "source": [
    "### for 语句 和 while 语句\n",
    "\n",
    "参考：https://www.liaoxuefeng.com/wiki/1016959663602400/1017100774566304 "
   ]
  }
 ],
 "metadata": {
  "kernelspec": {
   "display_name": "base",
   "language": "python",
   "name": "python3"
  },
  "language_info": {
   "codemirror_mode": {
    "name": "ipython",
    "version": 3
   },
   "file_extension": ".py",
   "mimetype": "text/x-python",
   "name": "python",
   "nbconvert_exporter": "python",
   "pygments_lexer": "ipython3",
   "version": "3.9.13"
  }
 },
 "nbformat": 4,
 "nbformat_minor": 2
}

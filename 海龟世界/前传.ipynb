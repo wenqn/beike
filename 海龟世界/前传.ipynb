{
 "cells": [
  {
   "cell_type": "markdown",
   "metadata": {},
   "source": [
    "## 背景介绍\n",
    "海龟绘图是对 最早在 Logo 中引入的受欢迎的几何绘图工具 的实现，它由 Wally Feurzeig, Seymour Papert 和 Cynthia Solomon 在 1967 年开发。\n",
    "在 Python 中，海龟绘图提供了一个实体“海龟”形象（带有画笔的小机器动物），假定它在地板上平铺的纸张上画线。\n",
    "\n",
    "本项目中利用海龟模拟寻宝游戏。通过绘制不同路径的地图（背景图片），控制海龟沿着路径前进和转向最终寻得宝物。这个过程中可以学习python的基础语法知识、程序的控制结构和相关的算法知识。\n",
    "\n",
    "python中海龟绘图模块在turtle包中 ，关于海龟绘图教程参考下面链接\n",
    "\n",
    "https://docs.python.org/zh-cn/3/library/turtle.html\n",
    "\n",
    "关于python的基本语法可以学习廖雪峰老师的网络课程\n",
    "\n",
    "https://www.liaoxuefeng.com/wiki/1016959663602400 \n",
    "\n",
    "还可以参考校内在线教程\n",
    "\n",
    "https://thoughts.teambition.com/share/623abe53c7c55500418da3ab#title=python%E5%9F%BA%E7%A1%80%E8%AF%AD%E6%B3%95.md "
   ]
  },
  {
   "cell_type": "markdown",
   "metadata": {},
   "source": [
    "## 前传"
   ]
  },
  {
   "cell_type": "markdown",
   "metadata": {},
   "source": [
    "###  启动环境"
   ]
  },
  {
   "cell_type": "markdown",
   "metadata": {},
   "source": [
    "启动python自带的编辑器idle，在“程序”-“运行”窗口输入idle，启动python环境。\n",
    "\n",
    "当前打开的是python的交互式编程环境，输入一行回车后，该行程序立即执行并返回结果。便于学习和调试程序。\n",
    "\n",
    "要想一次执行多行程序，需要将程序保存成python文件后再执行。\n",
    "参考：https://blog.csdn.net/weixin_45238761/article/details/104845712"
   ]
  },
  {
   "cell_type": "markdown",
   "metadata": {},
   "source": [
    "海龟绘图在turtle包里，进入海龟绘图，首先要引用这个包"
   ]
  },
  {
   "cell_type": "code",
   "execution_count": 3,
   "metadata": {},
   "outputs": [],
   "source": [
    "from turtle import * "
   ]
  },
  {
   "cell_type": "markdown",
   "metadata": {},
   "source": [
    "快速开始：https://docs.python.org/zh-cn/3/library/turtle.html#starting-a-turtle-environment  "
   ]
  },
  {
   "cell_type": "markdown",
   "metadata": {},
   "source": [
    "### 尝试绘制图形"
   ]
  },
  {
   "cell_type": "markdown",
   "metadata": {},
   "source": [
    "- 三角形\n",
    "- 正方形\n",
    "- 台阶\n",
    "- 五角星\n",
    "- 圆\n",
    "- 螺旋线\n",
    "- 太极图\n",
    "- 小猪佩奇"
   ]
  },
  {
   "cell_type": "markdown",
   "metadata": {},
   "source": [
    "关于重复操作的步骤需要用到程序设计中的循环结构，循环语句参考：https://www.liaoxuefeng.com/wiki/1016959663602400/1017100774566304 \n",
    "\n",
    "欣赏更多海龟图集：https://blog.csdn.net/July__July/article/details/99543992 "
   ]
  }
 ],
 "metadata": {
  "kernelspec": {
   "display_name": "Python 3.6.5 ('base')",
   "language": "python",
   "name": "python3"
  },
  "language_info": {
   "codemirror_mode": {
    "name": "ipython",
    "version": 3
   },
   "file_extension": ".py",
   "mimetype": "text/x-python",
   "name": "python",
   "nbconvert_exporter": "python",
   "pygments_lexer": "ipython3",
   "version": "3.6.5"
  },
  "orig_nbformat": 4,
  "vscode": {
   "interpreter": {
    "hash": "ad2bdc8ecc057115af97d19610ffacc2b4e99fae6737bb82f5d7fb13d2f2c186"
   }
  }
 },
 "nbformat": 4,
 "nbformat_minor": 2
}
